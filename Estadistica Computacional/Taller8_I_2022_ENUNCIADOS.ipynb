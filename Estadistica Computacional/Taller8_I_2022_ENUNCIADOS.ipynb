{
  "cells": [
    {
      "cell_type": "markdown",
      "metadata": {
        "id": "SS86rpNL9Ufv"
      },
      "source": [
        "# Taller T8 I-2022"
      ]
    },
    {
      "cell_type": "markdown",
      "metadata": {
        "id": "hD1j-9QQLze9"
      },
      "source": [
        "<table align='left'>\n",
        "<tr>\n",
        "<td><img src='https://norbertbiedrzycki.pl/wp-content/uploads/2020/03/AI-legal-regulations-Norbert-Biedrzycki-blog-3.jpg' width='750'/></td>\n",
        "</tr>\n",
        "</table>\n"
      ]
    },
    {
      "cell_type": "markdown",
      "metadata": {
        "id": "KULeq6-zhXTZ"
      },
      "source": [
        "Los recientes progresos en inteligencia artificial están ampliando el impacto que esta tecnología puede tener en nuestras vidas. Con ello, la preocupación por los aspectos éticos detrás de las \"decisiones\" automáticas que estos sistemas implementan ha causado gran debate. Por ejemplo, desde hace algunos años, el sistema penal varios países ha comenzado a apoyarse en algoritmos \"inteligentes\" que predicen la probabilidad de reincidencia de un sujeto en base a una serie de atributos (como respuestas a un test). \n",
        "\n",
        "*¿Qué tan imparciales son estos algoritmos? ¿Reproducen los sesgos que observamos en el mundo humano? ¿Es necesario intervenir estas máquinas de modo que sus decisiones no se basen en atributos protegidos?*\n",
        "\n",
        "En este taller aplicaremos conceptos del Tema 8 para analizar las predicciones de un algoritmo utilizado para predecir riesgo de reincidencia en algunos estados de Estados Unidos.\n"
      ]
    },
    {
      "cell_type": "markdown",
      "metadata": {
        "id": "Uy7o-VE6wgNg"
      },
      "source": [
        "# Librerías"
      ]
    },
    {
      "cell_type": "code",
      "execution_count": 1,
      "metadata": {
        "id": "Fnn3KM_QwieF"
      },
      "outputs": [],
      "source": [
        "import pandas as pd\n",
        "import numpy as np\n",
        "import seaborn as sns; sns.set()\n",
        "import matplotlib.pyplot as plt\n",
        "import warnings\n",
        "warnings.filterwarnings(\"ignore\")\n"
      ]
    },
    {
      "cell_type": "markdown",
      "metadata": {},
      "source": [
        "Integrantes :\n",
        "\n",
        "Juan Diego Arias rol_202073590-5\n",
        "\n",
        "Alonso Maureira rol_202073589-1\n",
        "\n",
        "Ricardo Parragué rol_202073605-7\n",
        "\n",
        "enlace videos: https://drive.google.com/drive/folders/1ZcJlD2pbxTOWnl-avKEtqO88Kl1e7RIR\n",
        "\n",
        "* Este taller fue realizado estrictamente por los 3 integrantes identificados en conformidad con el código de honor UTFSM *"
      ]
    },
    {
      "cell_type": "markdown",
      "metadata": {
        "id": "yu2fyuuKhfQo"
      },
      "source": [
        "# Datos"
      ]
    },
    {
      "cell_type": "markdown",
      "metadata": {
        "id": "l3AiWncZhg-2"
      },
      "source": [
        "Los datos pueden ser descargados vía línea de comandos desde la dirección indicada abajo. "
      ]
    },
    {
      "cell_type": "markdown",
      "metadata": {
        "id": "pmXEo6S2hsTl"
      },
      "source": [
        "El dataset contiene información de una muestra de personas arrestadas en el condado de Broward (Florida) entre 2013 y 2014. Cada fila es un caso de arresto diferente. El algoritmo de interés se basa en las respuestas que una persona presenta a una serie de preguntas y está diseñado para predecir el *riesgo de reincidencia** en los 2 años posteriores a la liberación. Se han incluido en el dataset sólo casos de personas que, después de liberadas, fueron nuevamente condenadas durante los 2 años posteriores a su liberación, o bien de personas que no cometieron nuevos delitos durante los 2 años posteriores a su liberación. Siguiendo recomendaciones de los autores del dataset, se excluirán del análisis los casos en que el test para el algoritmo fue aplicado antes de 30 días de la fecha declarada del arresto (esto es un error) o después de 30 días de la fecha del arresto (caso muy inusual). También se excluirán casos de personas que fueron analizadas por el algoritmo."
      ]
    },
    {
      "cell_type": "markdown",
      "metadata": {
        "id": "6CE49gZlwRHR"
      },
      "source": [
        "Para facilitar las operaciones de filtrado, transformaremos el archivo csv en un dataframe de pandas."
      ]
    },
    {
      "cell_type": "code",
      "execution_count": 2,
      "metadata": {
        "colab": {
          "base_uri": "https://localhost:8080/"
        },
        "id": "DfRZMTZKwfRI",
        "outputId": "9e6828c4-34e8-4125-9321-66e3072cf0c0"
      },
      "outputs": [
        {
          "name": "stdout",
          "output_type": "stream",
          "text": [
            "6172\n",
            "   id              name   first       last compas_screening_date   sex  \\\n",
            "0   1  miguel hernandez  miguel  hernandez            2013-08-14  Male   \n",
            "1   3       kevon dixon   kevon      dixon            2013-01-27  Male   \n",
            "2   4          ed philo      ed      philo            2013-04-14  Male   \n",
            "5   7      marsha miles  marsha      miles            2013-11-30  Male   \n",
            "6   8     edward riddle  edward     riddle            2014-02-19  Male   \n",
            "\n",
            "          dob  age          age_cat              race  ...  v_decile_score  \\\n",
            "0  1947-04-18   69  Greater than 45             Other  ...               1   \n",
            "1  1982-01-22   34          25 - 45  African-American  ...               1   \n",
            "2  1991-05-14   24     Less than 25  African-American  ...               3   \n",
            "5  1971-08-22   44          25 - 45             Other  ...               1   \n",
            "6  1974-07-23   41          25 - 45         Caucasian  ...               2   \n",
            "\n",
            "   v_score_text  v_screening_date  in_custody  out_custody  priors_count.1  \\\n",
            "0           Low        2013-08-14  2014-07-07   2014-07-14               0   \n",
            "1           Low        2013-01-27  2013-01-26   2013-02-05               0   \n",
            "2           Low        2013-04-14  2013-06-16   2013-06-16               4   \n",
            "5           Low        2013-11-30  2013-11-30   2013-12-01               0   \n",
            "6           Low        2014-02-19  2014-03-31   2014-04-18              14   \n",
            "\n",
            "  start  end event two_year_recid  \n",
            "0     0  327     0              0  \n",
            "1     9  159     1              1  \n",
            "2     0   63     0              1  \n",
            "5     1  853     0              0  \n",
            "6     5   40     1              1  \n",
            "\n",
            "[5 rows x 53 columns]\n",
            "Index(['id', 'name', 'first', 'last', 'compas_screening_date', 'sex', 'dob',\n",
            "       'age', 'age_cat', 'race', 'juv_fel_count', 'decile_score',\n",
            "       'juv_misd_count', 'juv_other_count', 'priors_count',\n",
            "       'days_b_screening_arrest', 'c_jail_in', 'c_jail_out', 'c_case_number',\n",
            "       'c_offense_date', 'c_arrest_date', 'c_days_from_compas',\n",
            "       'c_charge_degree', 'c_charge_desc', 'is_recid', 'r_case_number',\n",
            "       'r_charge_degree', 'r_days_from_arrest', 'r_offense_date',\n",
            "       'r_charge_desc', 'r_jail_in', 'r_jail_out', 'violent_recid',\n",
            "       'is_violent_recid', 'vr_case_number', 'vr_charge_degree',\n",
            "       'vr_offense_date', 'vr_charge_desc', 'type_of_assessment',\n",
            "       'decile_score.1', 'score_text', 'screening_date',\n",
            "       'v_type_of_assessment', 'v_decile_score', 'v_score_text',\n",
            "       'v_screening_date', 'in_custody', 'out_custody', 'priors_count.1',\n",
            "       'start', 'end', 'event', 'two_year_recid'],\n",
            "      dtype='object')\n"
          ]
        }
      ],
      "source": [
        "df = pd.read_csv('compas-scores-two-years.csv')\n",
        "df = df[df['days_b_screening_arrest'] <= 30]\n",
        "df = df[df['days_b_screening_arrest'] >= -30]\n",
        "df = df[df['is_recid'] != -1]\n",
        "print(len(df))\n",
        "\n",
        "print(df.head())\n",
        "print(df.columns)"
      ]
    },
    {
      "cell_type": "markdown",
      "metadata": {
        "id": "iJrBVUtUwN12"
      },
      "source": [
        "**Groundtruth.** La variable 'two_year_recid' indica si la persona efectivamente reincidió antes de 2 años de ser liberada ('two_year_recid'==1) o no ('two_year_recid'==0). La variable 'is_recid' indica si la persona reincidió antes del la fecha en que capturaron los datos. Puede ocurrir (200 casos) que una persona tenga 'two_year_recid'==0 pero 'is_recid'==1. \n",
        "\n",
        "**Predicción.** La predicción del algoritmo está disponible en dos escalas. La variable 'score_text' puede tomar tres valores: 'High', 'Medium', y 'Low' que corresponden a un riesgo de reincidencia alto, medio, y bajo, respectivamente. Estas predicciones serán tratadas como categóricas. La variable 'decile_score' toma valores de 1 a 10 que corresponden a los deciles de riesgo que predice el algoritmo: 1 significa que la persona está en el primer decil de riesgo, 2 que está en el segundo decil de riesgo, etc. Estas predicciones serán tratadas como numéricas. \n",
        "\n",
        "**Variables.** Además de la predicción del algoritmo, el dataset incluye una serie de atriubutos interesantes entre los que destacaremos: el sexo, edad y raza de la persona. El sexo ('sex') se encuentra en escala binaria ('Male', 'Female'). La edad se encuentra disponible en escala numérica ('age') y categórica ('age_cat'). En este último caso se usan tres niveles: '25 - 45' 'Greater than 45' 'Less than 25'. La raza ('race') es una variable categórica con valores posibles: 'Caucasian', 'African-American', 'Asian', 'Hispanic' , 'Native American', 'Other'.\n",
        "\n"
      ]
    },
    {
      "cell_type": "markdown",
      "metadata": {
        "id": "1cZsQd-ZIojY"
      },
      "source": [
        "# Mini Exploratorio"
      ]
    },
    {
      "cell_type": "code",
      "execution_count": 3,
      "metadata": {
        "colab": {
          "base_uri": "https://localhost:8080/",
          "height": 326
        },
        "id": "pmzEGOYmE-6F",
        "outputId": "ffd968ae-cc87-4a9b-ff04-63452535da02"
      },
      "outputs": [
        {
          "data": {
            "image/png": "[encoded data removed]",
            "text/plain": [
              "<Figure size 576x288 with 1 Axes>"
            ]
          },
          "metadata": {},
          "output_type": "display_data"
        }
      ],
      "source": [
        "f = plt.figure(figsize=(8,4))\n",
        "ax = f.add_axes([0.1, 0.1, 0.9, 0.9])\n",
        "sns.distplot(df['age'].values, ax=ax, rug=True, hist=True, kde_kws={\"shade\": True}, label = 'los angeles')\n",
        "ax.set_title('Edad')\n",
        "plt.show()"
      ]
    },
    {
      "cell_type": "code",
      "execution_count": 4,
      "metadata": {
        "colab": {
          "base_uri": "https://localhost:8080/",
          "height": 394
        },
        "id": "BpMNZTdb3tqE",
        "outputId": "1c950ca5-f868-406f-f355-26d5068e7953"
      },
      "outputs": [
        {
          "name": "stdout",
          "output_type": "stream",
          "text": [
            "1: reincidente, 0: no reincidente\n"
          ]
        },
        {
          "data": {
            "image/png": "[encoded data removed]",
            "text/plain": [
              "<Figure size 576x288 with 1 Axes>"
            ]
          },
          "metadata": {},
          "output_type": "display_data"
        }
      ],
      "source": [
        "print(\"1: reincidente, 0: no reincidente\")\n",
        "\n",
        "f = plt.figure(figsize=(8,4))\n",
        "ax = f.add_axes([0.1, 0.1, 0.9, 0.9])\n",
        "df.groupby('two_year_recid').score_text.value_counts().unstack(0).plot.bar(ax=ax)\n",
        "ax.set_title('Reincidentes y Riesgo Predicho por el Algoritmo')\n",
        "ax.set_ylabel('# casos (frecuencia absoluta)')\n",
        "ax.legend(loc='upper left', bbox_to_anchor=(1, 0.95))\n",
        "plt.show()\n"
      ]
    },
    {
      "cell_type": "code",
      "execution_count": 5,
      "metadata": {
        "colab": {
          "base_uri": "https://localhost:8080/",
          "height": 377
        },
        "id": "YN3qZ9hPGAfK",
        "outputId": "1072f0b6-0a75-43ab-a283-0dc926109e5c"
      },
      "outputs": [
        {
          "data": {
            "image/png": "[encoded data removed]",
            "text/plain": [
              "<Figure size 576x288 with 1 Axes>"
            ]
          },
          "metadata": {},
          "output_type": "display_data"
        }
      ],
      "source": [
        "f = plt.figure(figsize=(8,4))\n",
        "ax = f.add_axes([0.1, 0.1, 0.9, 0.9])\n",
        "df.groupby('age_cat').score_text.value_counts().unstack(0).plot.bar(ax=ax)\n",
        "ax.set_title('Categorías de Edad y Nivel de Riesgo')\n",
        "ax.set_ylabel('# casos (frecuencia absoluta)')\n",
        "ax.legend(loc='upper left', bbox_to_anchor=(1, 0.95))\n",
        "plt.show()"
      ]
    },
    {
      "cell_type": "code",
      "execution_count": 6,
      "metadata": {
        "colab": {
          "base_uri": "https://localhost:8080/",
          "height": 377
        },
        "id": "Zi2d8MyoHsDu",
        "outputId": "8baa2c99-a037-4a6c-f6ad-c0ace59e1a82"
      },
      "outputs": [
        {
          "data": {
            "image/png": "[encoded data removed]",
            "text/plain": [
              "<Figure size 576x288 with 1 Axes>"
            ]
          },
          "metadata": {},
          "output_type": "display_data"
        }
      ],
      "source": [
        "f = plt.figure(figsize=(8,4))\n",
        "ax = f.add_axes([0.1, 0.1, 0.9, 0.9])\n",
        "df.groupby('sex').score_text.value_counts().unstack(0).plot.bar(ax=ax)\n",
        "ax.set_title('Sexo y Nivel de Riesgo')\n",
        "ax.set_ylabel('# casos (frecuencia absoluta)')\n",
        "ax.legend(loc='upper left', bbox_to_anchor=(1, 0.95))\n",
        "plt.show()"
      ]
    },
    {
      "cell_type": "code",
      "execution_count": 7,
      "metadata": {
        "colab": {
          "base_uri": "https://localhost:8080/",
          "height": 377
        },
        "id": "P43Q-7U3G1dW",
        "outputId": "5853efc6-8080-404d-da51-d8aa0b2a3275"
      },
      "outputs": [
        {
          "data": {
            "image/png": "[encoded data removed]",
            "text/plain": [
              "<Figure size 576x288 with 1 Axes>"
            ]
          },
          "metadata": {},
          "output_type": "display_data"
        }
      ],
      "source": [
        "f = plt.figure(figsize=(8,4))\n",
        "ax = f.add_axes([0.1, 0.1, 0.9, 0.9])\n",
        "df.groupby('race').score_text.value_counts().unstack(0).plot.bar(ax=ax)\n",
        "ax.set_title('Categorías Raciales por Nivel de Riesgo')\n",
        "ax.set_ylabel('# casos (frecuencia absoluta)')\n",
        "ax.legend(loc='upper left', bbox_to_anchor=(1, 0.95))\n",
        "plt.show()"
      ]
    },
    {
      "cell_type": "code",
      "execution_count": 8,
      "metadata": {
        "colab": {
          "base_uri": "https://localhost:8080/",
          "height": 347
        },
        "id": "bmbyFk-nIujU",
        "outputId": "f3ccaba8-d54a-463a-aa89-54f6c48e003e"
      },
      "outputs": [
        {
          "data": {
            "image/png": "[encoded data removed]",
            "text/plain": [
              "<Figure size 576x288 with 1 Axes>"
            ]
          },
          "metadata": {},
          "output_type": "display_data"
        }
      ],
      "source": [
        "f = plt.figure(figsize=(8,4))\n",
        "ax = f.add_axes([0.1, 0.1, 0.9, 0.9])\n",
        "df.groupby('decile_score').decile_score.value_counts().plot.bar(ax=ax)\n",
        "ax.set_xticklabels([1,2,3,4,5,6,7,8,9,10])\n",
        "ax.set_title('Predicción Numérica de Riesgo')\n",
        "ax.set_xlabel('Predicción')\n",
        "ax.set_ylabel('# casos (frecuencia absoluta)')\n",
        "\n",
        "plt.show()"
      ]
    },
    {
      "cell_type": "markdown",
      "metadata": {
        "id": "KknvDAeG2V9j"
      },
      "source": [
        "# Actividades"
      ]
    },
    {
      "cell_type": "markdown",
      "metadata": {
        "id": "Rz10fPpxlwSV"
      },
      "source": [
        "Un primer criterio para evaluar los eventuales \"sesgos\" (biases) de una IA consiste en determinar si selecciona algún atributo \"protegido\" de las personas como ***factor*** de decisión. En este taller, partiremos considerando el efecto de los factores raza, edad, y sexo en la decisión de la máquina de clasificar a una persona como de \"alto riesgo de reincidencia\". \n",
        "\n",
        "Otro criterio bastante común para evaluar el nivel de imparcialidad (\"fairness\") de una IA es comparar su ***eficacia*** en los diferentes grupos/segmentos de la población que se crean al considerar un atributo \"protegido\". En este taller, analizaremos el efecto de los factores raza, edad, y sexo, en los ***falsos positivos*** de la IA, es decir, la probabilidad de que la máquina haya clasificado una persona como de Alto Riesgo cuando en realidad la persona no reincidió después de ser liberada ('two_year_recid' != 1). "
      ]
    },
    {
      "cell_type": "markdown",
      "metadata": {
        "id": "OlHTINcB2YxM"
      },
      "source": [
        "## A) Raza, Edad, y Sexo en las Decisiones de la IA"
      ]
    },
    {
      "cell_type": "markdown",
      "metadata": {
        "id": "5ffSPOGy95OD"
      },
      "source": [
        "Considere la población P1 de personas que la IA predice como sujetos de alto riesgo y la población P2 de personas el algoritmo predice como sujetos de bajo riesgo. Queremos determinar si existe evidencia suficiente para concluir que la raza, edad, y sexo son factores que la IA considera al momento de decidir a cuál de estas poblaciones pertenece una persona. Se le pide entonces:\n",
        "\n",
        "1.   Diseñe un contraste que permita evaluar la hipótesis de que *la proporción de afroamericanos en P1 es mayor que la proporción de afroamericanos en P2*. Diseñe su contraste de manera que la probabilidad de aceptar incorrectamente esta conjetura es menor al 1%. Exponga con claridad la hipótesis, la región crítica, y la decisión que corresponde tomar. Justifique su elección de H1.\n",
        "\n",
        "2.   Diseñe un contraste que permita evaluar la hipótesis de que *la proporción de  mujeres en P1 es menor que la proporción de mujeres en P2*. Diseñe su contraste de manera que la probabilidad de aceptar incorrectamente esta conjetura es menor al 1%. Exponga con claridad la hipótesis, la región crítica, y la decisión que corresponde tomar. Justifique su elección de H1. \n",
        "\n",
        "3.   Diseñe un contraste que permita evaluar la hipótesis de que *la edad media en P1 es menor que la edad media en P2*. Diseñe su contraste de manera que la probabilidad de aceptar incorrectamente esta conjetura es menor al 1%. Exponga con claridad la hipótesis, la región crítica, y la decisión que corresponde tomar. Justifique su elección de H1. \n",
        "\n",
        "4.   Determine experimentalmente el p-valor asociado a cada uno de los 3 contrastes reduciendo gradualmente el nivel de significación desde un valor muy grande (e.g. 0.99). Determine luego el valor exacto usando la teoría. Comente sobre significado del resultado en cada caso. \n",
        "\n",
        "5.  Indique cómo cambian los resultados anteriores si se trabaja con una muestra igual a 1/4 de la muestra disponible. Para esto seleccione aleatoriamente 1/4 de la muestra original.\n"
      ]
    },
    {
      "cell_type": "markdown",
      "metadata": {
        "id": "sY5_SSxaqz22"
      },
      "source": [
        "Cierre esta sección comentando porqué podría ser inadecuado conducir el análisis condicionando al factor bajo estudio (e.g. raza) para luego comparar la proporción de personas de ese grupo que la IA clasifica como de alto riesgo con la proporción de personas que la IA clasifica como de bajo riesgo. "
      ]
    },
    {
      "cell_type": "code",
      "execution_count": 9,
      "metadata": {
        "id": "rUAnh3aMTNVA"
      },
      "outputs": [],
      "source": [
        "my_alpha=0.01\n",
        "\n",
        "df_alto_riesgo = df[df['score_text']=='High']\n",
        "df_bajo_riesgo = df[df['score_text']=='Low']\n"
      ]
    },
    {
      "cell_type": "code",
      "execution_count": 10,
      "metadata": {},
      "outputs": [],
      "source": [
        "from scipy.stats import norm, t\n",
        "\n",
        "\n",
        "def contraste_estadistico(n1,n2,p1,p2):\n",
        "    prop_combinada = (n1*p1 + n2*p2)/(n1+n2)\n",
        "    error_std = np.sqrt(prop_combinada*(1-prop_combinada))*np.sqrt(1/n1 + 1/n2)\n",
        "    return (p1-p2)\n",
        "    \n",
        "def contraste_estadistico_proporciones(n1,n2,p1,p2, alt='1>2'):\n",
        "    prop_combinada = (n1*p1 + n2*p2)/(n1+n2)\n",
        "    std_error= np.sqrt(prop_combinada*(1-prop_combinada))*np.sqrt(1/n1 + 1/n2)\n",
        "    region_critica = []\n",
        "    z0 = (p1-p2)/std_error\n",
        "\n",
        "    if (alt == '1>2'):\n",
        "\n",
        "        region_critica.append(pd.Interval(left=norm.ppf(1-0.01) ,right = np.inf, closed = 'neither'))\n",
        "        \n",
        "        p_value = 1 - norm.cdf(z0)\n",
        "\n",
        "\n",
        "    elif (alt == '1<2'):\n",
        "\n",
        "        region_critica.append(pd.Interval(left= -np.inf, right = norm.ppf(0.01), closed = 'neither'))\n",
        "        \n",
        "        p_value = norm.cdf(z0)\n",
        "\n",
        "    return z0, region_critica, p_value\n",
        "\n",
        "\n",
        "\n",
        "\n",
        "def contraste_estadistico_medias(n1, n2, m1, m2, std1, std2, alt='1>2'):\n",
        "    gl_num = (std1**2/n1 + std2**2/n2)**2\n",
        "    gl_den = ((std1**2/n1)**2)/(n1-1) + (std2**2/n2)**2/(n2-1)\n",
        "    gl = int(np.floor(gl_num/gl_den))\n",
        "    error_std = np.sqrt(std1**2/n1 + std2**2/n2)\n",
        "    t0 = (m1-m2)/error_std\n",
        "    region_critica = []\n",
        "\n",
        "    if (alt == '1>2'):\n",
        "        region_critica.append(pd.Interval(left = t.ppf(1-0.01, df=gl), right = np.inf, closed = 'neither'))\n",
        "        p = 1-t.cdf(t0, df=gl)\n",
        "\n",
        "    elif(alt == '1<2'):\n",
        "        region_critica.append(pd.Interval(left = -np.inf, right = t.ppf(0.01, df=gl), closed = 'neither'))\n",
        "        p = t.cdf(t0, df=gl)\n",
        "    \n",
        "    return t0, region_critica, p\n"
      ]
    },
    {
      "cell_type": "markdown",
      "metadata": {},
      "source": [
        "***Pregunta A.1***\n",
        "\n",
        "*H0=la proporción de afroamericanos en P1(sujetos de alto riesgo) es igual que la proporción de afroamericanos en P2(sujetos de bajo riesgo)* p2=p1\n",
        "\n",
        "\n",
        "*H1=la proporción de afroamericanos en P1(sujetos de alto riesgo) es mayor que la proporción de afroamericanos en P2(sujetos de bajo riesgo)* p1>p2\n",
        "\n",
        "\n",
        "\n"
      ]
    },
    {
      "cell_type": "code",
      "execution_count": 11,
      "metadata": {},
      "outputs": [
        {
          "name": "stdout",
          "output_type": "stream",
          "text": [
            "-----------------------------------------\n",
            "z0:  -15.751612482168303 region_critica:  ['(2.3263478740408408, inf)']\n",
            "p_value:  1.0\n",
            "Decision:  no podemos rechazar p1 = p2\n",
            "-----------------------------------------\n"
          ]
        }
      ],
      "source": [
        "negros_alto_riesgo = df_alto_riesgo[df_alto_riesgo['race'] == 'African-American']\n",
        "negros_bajo_riesgo = df_bajo_riesgo[df_bajo_riesgo['race'] == 'African-American']\n",
        "\n",
        "p2 = len(negros_bajo_riesgo)/len(df_bajo_riesgo) #p2\n",
        "p1 = len(negros_alto_riesgo)/len(df_alto_riesgo) #p1\n",
        "\n",
        "z0,region,p = contraste_estadistico_proporciones(len(negros_bajo_riesgo),len(negros_alto_riesgo),p2, p1, '1>2')\n",
        "result= \"p2 < p1\" if np.any([z0 in reg for reg in region]) else \"no podemos rechazar p1 = p2\"\n",
        "print(\"-----------------------------------------\")\n",
        "print('z0: ', z0, 'region_critica: ',[str(reg) for reg in region])\n",
        "print('p_value: ', p)\n",
        "print(\"Decision: \", result)\n",
        "print(\"-----------------------------------------\")\n",
        "\n"
      ]
    },
    {
      "cell_type": "markdown",
      "metadata": {},
      "source": [
        "Siendo la hipotesis nula que la proporcion de afroamericanos con mayor riesgo es igual a la proporcion de afroamericanos con menor riesgo, se plantea una hipotesis alternativa que corresponde a que la proporcion de afroamericanos con mayor riesgo es mayor a la proporcion de afroamericanos con menor riesgo.\n",
        "\n",
        "Ya teniendo definidas las hipotesis, se utiliza la formula de contraste para dos proporciones con un grado de aceptacion de 1% (alpha = 0.01) con lo cual arroja que no se puede rechazar la hipotesis nula, ya que el valor de la z0 no pertenece a la region critica definida por nuestro grado de aceptacion.\n",
        "\n",
        "Mas aun, se puede ver que la hipotesis nula se podria considerar verdadera en base al valor de p, el cual es 1.0.\n"
      ]
    },
    {
      "cell_type": "markdown",
      "metadata": {},
      "source": [
        "***Pregunta A.2***\n",
        "\n",
        "\n",
        "*H0 = la proporción de  mujeres en P1 es menor que la proporción de mujeres en P2* p1=p2\n",
        "\n",
        "*H1 = la proporción de  mujeres en P1 es mayor que la proporción de mujeres en P2* p1 < p2"
      ]
    },
    {
      "cell_type": "code",
      "execution_count": 12,
      "metadata": {},
      "outputs": [
        {
          "name": "stdout",
          "output_type": "stream",
          "text": [
            "-----------------------------------------\n",
            "z0:  -2.0485725437627735 region_critica:  ['(2.3263478740408408, inf)']\n",
            "p_value:  0.9797480341416301\n",
            "Decision:  no podemos rechazar p1 = p2\n",
            "-----------------------------------------\n"
          ]
        }
      ],
      "source": [
        "mujeres_alto_riesgo = df_alto_riesgo[df_alto_riesgo['sex'] == 'Female']\n",
        "mujeres_bajo_riesgo = df_bajo_riesgo[df_bajo_riesgo['sex'] == 'Female']\n",
        "\n",
        "p1 = len(mujeres_alto_riesgo)/len(df_alto_riesgo) \n",
        "p2 = len(mujeres_bajo_riesgo)/len(df_bajo_riesgo) \n",
        "\n",
        "\n",
        "z0,region,p = contraste_estadistico_proporciones(len(mujeres_alto_riesgo),len(mujeres_bajo_riesgo),p1, p2, '1>2')\n",
        "result= \"p2 > p1\" if np.any([z0 in reg for reg in region]) else \"no podemos rechazar p1 = p2\"\n",
        "print(\"-----------------------------------------\")\n",
        "print('z0: ', z0, 'region_critica: ',[str(reg) for reg in region])\n",
        "print('p_value: ', p)\n",
        "print(\"Decision: \", result)\n",
        "print(\"-----------------------------------------\")\n"
      ]
    },
    {
      "cell_type": "markdown",
      "metadata": {},
      "source": [
        "Siendo la hipotesis nula que la proporcion de mujeres con mayor riesgo es igual a la proporcion de mujeres con menor riesgo, se plantea una hipotesis alternativa que corresponde a que la proporcion de afroamericanos con mayor riesgo es menor a la proporcion de afroamericanos con menor riesgo.\n",
        "\n",
        "Ya teniendo definidas las hipotesis, se utiliza la formula de contraste para dos proporciones con un grado de aceptacion de 1% (alpha = 0.01) con lo cual arroja que no se puede rechazar la hipotesis nula, ya que el valor de la z0 no pertenece a la region critica definida por nuestro grado de aceptacion.\n",
        "\n",
        "\n",
        "Esta decision se reafirma ya que el p-value es 0.97 (p>0.05) lo que tambien señala que la hipotesis nula es verdadera"
      ]
    },
    {
      "cell_type": "markdown",
      "metadata": {},
      "source": [
        "***Pregunta A.3***\n",
        "\n",
        "*H0 = a edad media en P1 es menor que la edad media en P2* media 1 = media 2\n",
        "\n",
        "*H1 = a edad media en P1 es mayor que la edad media en P2* media 1 < media 2"
      ]
    },
    {
      "cell_type": "code",
      "execution_count": 13,
      "metadata": {},
      "outputs": [
        {
          "name": "stdout",
          "output_type": "stream",
          "text": [
            "-----------------------------------------\n",
            "z0:  -25.421473738055237 region_critica:  ['(2.327649713115185, inf)']\n",
            "p_value:  1.0\n",
            "Decision:  no podemos rechazar p1 = p2\n",
            "-----------------------------------------\n"
          ]
        }
      ],
      "source": [
        "edad_alto_riesgo = df_alto_riesgo['age']\n",
        "edad_bajo_riesgo = df_bajo_riesgo['age']\n",
        "\n",
        "m1 = edad_alto_riesgo.mean()\n",
        "m2 = edad_bajo_riesgo.mean()\n",
        "std1 = edad_alto_riesgo.std()\n",
        "std2 = edad_bajo_riesgo.std()\n",
        "\n",
        "\n",
        "z0,region,p = contraste_estadistico_medias(len(edad_alto_riesgo),len(edad_bajo_riesgo),m1, m2, std1, std2,'1>2')\n",
        "result= \"p2 > p1\" if np.any([z0 in reg for reg in region]) else \"no podemos rechazar p1 = p2\"\n",
        "print(\"-----------------------------------------\")\n",
        "print('z0: ', z0, 'region_critica: ',[str(reg) for reg in region])\n",
        "print('p_value: ', p)\n",
        "print(\"Decision: \", result)\n",
        "print(\"-----------------------------------------\")"
      ]
    },
    {
      "cell_type": "markdown",
      "metadata": {},
      "source": [
        "Siendo la hipotesis nula que la media de la edad con mayor riesgo es igual a la media de la edad con menor riesgo, se plantea una hipotesis alternativa que corresponde a que la proporcion de afroamericanos con mayor riesgo es mayor a la proporcion de afroamericanos con menor riesgo.\n",
        "\n",
        "Ya teniendo definidas las hipotesis, se utiliza la formula de contraste para dos proporciones con un grado de aceptacion de 1% (alpha = 0.01) con lo cual arroja que no se puede rechazar la hipotesis nula, ya que el valor de la z0 no pertenece a la region critica definida por nuestro grado de aceptacion.\n",
        "\n",
        "Mas aun, se puede ver que la hipotesis nula se podria considerar verdadera en base al valor de p, el cual es 1.0."
      ]
    },
    {
      "cell_type": "markdown",
      "metadata": {},
      "source": [
        "***Pregunta A.4***\n",
        "\n",
        "Determine experimentalmente el p-valor asociado a cada uno de los 3 contrastes reduciendo gradualmente el nivel de significación desde un valor muy grande (e.g. 0.99). Determine luego el valor exacto usando la teoría. Comente sobre significado del resultado en cada caso."
      ]
    },
    {
      "cell_type": "markdown",
      "metadata": {
        "id": "5LyaVYvGHcv2"
      },
      "source": [
        "## B) Eficacia de la IA según Raza, Edad, y Sexo"
      ]
    },
    {
      "cell_type": "markdown",
      "metadata": {
        "id": "SF2zlgqmH4tC"
      },
      "source": [
        "Considere primero el nivel de riesgo numérico que el algoritmo asignó a la población de personas que se sabe que no-reincidieron (claramente, asignar un puntaje alto a estas personas es un error de la máquina). Queremos determinar si *existe evidencia para concluir que el puntaje medio que la máquina asigna a personas de algún grupo protegido es mayor que el puntaje medio que la máquina asigna a personas de un grupo de control*. \n",
        "\n",
        "1.   Diseñe un contraste que permita determinar si el puntaje medio que la máquina asigna a personas afroamericanas no-reincidentes es mayor que el puntaje medio que la máquina asigna a personas de raza blanca no-reincidentes. Exponga con claridad sus hipótesis, indicando los criterios que utilizó para elegir H1 (favor lea bien el párrafo de más arriba). Indique la decisión que tomaría a partir del p-valor del contraste.\n",
        "\n",
        "2.   Diseñe un contraste que permita determinar si el puntaje medio que la máquina asigna a mujeres no-reincidentes es menor que el puntaje medio que la máquina asigna a hombres no-reincidentes. Exponga con claridad sus hipótesis, indicando los criterios que utilizó para elegir H1 (favor lea bien el párrafo inicial). Indique la decisión que tomaría a partir del p-valor del contraste.\n",
        "\n",
        "3.   Diseñe un contraste que permita determinar si el puntaje medio que la máquina asigna a personas menores de 25 años es mayor que el puntaje medio que la máquina asigna al resto de las personas. Exponga con claridad sus hipótesis, indicando los criterios que utilizó para elegir H1. Indique la decisión que tomaría a partir del p-valor del contraste.\n",
        "\n"
      ]
    },
    {
      "cell_type": "code",
      "execution_count": 14,
      "metadata": {
        "colab": {
          "base_uri": "https://localhost:8080/"
        },
        "id": "-Pdgy641B-MW",
        "outputId": "ee34d4e2-7590-4ae7-9c5d-d5d38ec40784"
      },
      "outputs": [
        {
          "name": "stdout",
          "output_type": "stream",
          "text": [
            "\n",
            "#### Predicciones Numéricas ####\n",
            "\n",
            " ... Raza .... \n",
            "\n",
            " ... Edad .... \n",
            "\n",
            " ... Sexo .... \n"
          ]
        }
      ],
      "source": [
        "print(\"\\n#### Predicciones Numéricas ####\")\n",
        "\n",
        "\n",
        "print(\"\\n ... Raza .... \")\n",
        "df_afroamericanos = df[(df['race']=='African-American') & (df['two_year_recid']!=1)]#afroamericanos y no reincidentes\n",
        "df_control = df[(df['race']=='Caucasian') & (df['two_year_recid']!=1)]#blancos y no reincidentes\n",
        "\n",
        "print(\"\\n ... Edad .... \")\n",
        "df_jovenes = df[(df['age_cat']=='Less than 25') & (df['two_year_recid']!=1)]#jovenes y no reincidentes\n",
        "df_control = df[(df['age_cat']!='Less than 25') & (df['two_year_recid']!=1)]#no jovenes y no reincidentes\n",
        "\n",
        "print(\"\\n ... Sexo .... \")\n",
        "df_mujeres = df[(df['sex']=='Female') & (df['two_year_recid']!=1)]\n",
        "df_control = df[(df['sex']!='Female') & (df['two_year_recid']!=1)]\n"
      ]
    },
    {
      "cell_type": "markdown",
      "metadata": {
        "id": "7wD60CPR_MRv"
      },
      "source": [
        "\n",
        "Considere ahora la predicción discreta del algoritmo. Supongamos que medimos la eficacia del algoritmo usando la probabilidad de que arroje un ***falso positivo***, es decir, la probabilidad de que clasifique una persona como de Alto Riesgo pero que la persona no reincida ('two_year_recid' != 1). "
      ]
    },
    {
      "cell_type": "markdown",
      "metadata": {
        "id": "ODVxR_4KJtEv"
      },
      "source": [
        "4.   Para cada uno de los grupos protegidos considerados antes (jóvenes, mujeres, afroamericanos), diseñe un contraste que permita determinar si la proporción de falsos positivos es mayor en ese grupo respecto de su respectivo grupo de control. Indique la decisión que tomaría a partir del p-valor del contraste."
      ]
    },
    {
      "cell_type": "code",
      "execution_count": 15,
      "metadata": {
        "colab": {
          "base_uri": "https://localhost:8080/"
        },
        "id": "oDeGhgvgqSVp",
        "outputId": "ad0ab6c8-6e7d-4e16-ebd9-146c5f7e837b"
      },
      "outputs": [
        {
          "name": "stdout",
          "output_type": "stream",
          "text": [
            "\n",
            "#### Predicciones Categóricas ####\n",
            "FFP 0.04812054439403759\n",
            "\n",
            " ... Raza .... \n"
          ]
        }
      ],
      "source": [
        "print(\"\\n#### Predicciones Categóricas ####\")\n",
        "my_alpha = 0.01\n",
        "\n",
        "####FALSOS POSITIVOS GLOBALES\n",
        "n_FP = len(df.loc[(df['two_year_recid'] != 1) & (df['score_text'] == 'High'),['name']])\n",
        "frac_FP = n_FP/len(df)\n",
        "print(\"FFP\", frac_FP )\n",
        "\n",
        "print(\"\\n ... Raza .... \")\n",
        "df_afroamericanos = df[df['race']=='African-American']\n",
        "df_control = df[df['race']=='Caucasian']\n",
        "n_FalsePos_afroamericanos = len(df_afroamericanos.loc[(df_afroamericanos['two_year_recid'] != 1) & (df_afroamericanos['score_text'] == 'High'),['name']])\n",
        "n_FalsePos_control = len(df_control.loc[(df_control['two_year_recid'] != 1) & (df_control['score_text'] == 'High'),['name']])\n"
      ]
    },
    {
      "cell_type": "markdown",
      "metadata": {
        "id": "FfzkWINdDCv-"
      },
      "source": [
        "# Resumen y Conclusiones"
      ]
    },
    {
      "cell_type": "markdown",
      "metadata": {
        "id": "2gY_Mf1KDKVw"
      },
      "source": [
        "Elabore un resumen ejecutivo y ofrezca conclusiones generales del estudio."
      ]
    }
  ],
  "metadata": {
    "colab": {
      "collapsed_sections": [],
      "name": "Taller8_I_2022_ENUNCIADOS.ipynb",
      "provenance": [],
      "toc_visible": true
    },
    "kernelspec": {
      "display_name": "Python 3.9.7 ('base')",
      "language": "python",
      "name": "python3"
    },
    "language_info": {
      "codemirror_mode": {
        "name": "ipython",
        "version": 3
      },
      "file_extension": ".py",
      "mimetype": "text/x-python",
      "name": "python",
      "nbconvert_exporter": "python",
      "pygments_lexer": "ipython3",
      "version": "3.9.7"
    },
    "vscode": {
      "interpreter": {
        "hash": "9c76cc11f19be559a4f62a96607bacd207529b1fa18e83e13f773a206267e783"
      }
    }
  },
  "nbformat": 4,
  "nbformat_minor": 0
}
