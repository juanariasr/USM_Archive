{
 "cells": [
  {
   "cell_type": "markdown",
   "metadata": {
    "cell_id": "607d378bc99d4758b4a82b81394d937f",
    "deepnote_cell_type": "markdown",
    "id": "dNvKzKqG5Ev0"
   },
   "source": [
    "<center>\n",
    "    <img src=\"http://sct.inf.utfsm.cl/wp-content/uploads/2020/04/logo_di.png\" style=\"width:60%\">\n",
    "    <h1> INF285 - Computación Científica </h1>\n",
    "    <h2> Tarea 2</h2>\n",
    "    <h2> [S]cientific [C]omputing [T]eam </a> </h2>\n",
    "    <h2> Version: 1.00</h2>\n",
    "</center>"
   ]
  },
  {
   "cell_type": "markdown",
   "metadata": {
    "cell_id": "5007f037b44845f3bac4c6e5a950af7a",
    "deepnote_cell_type": "markdown",
    "id": "rxp9HwV-5Ev1"
   },
   "source": [
    "# Contexto\n",
    "\n",
    "Los patrones de fractura aparecen en distintos campos desde la geología a la ciencia de materiales. A veces el foco está puesto en la forma de la fractura misma, pero otros investigadores están interesados en indicadores que permiten mostrar el comportamiento del patrón. Por ejemplo, la distribución de las áreas de cada celda, la distribución de los perímetros de cada celda, o la densidad del patrón, la cual consiste en conocer el porcentaje de \"fracturas\" presentes en el patrón versus el dominio. Cuando todas las imágenes obtenidas tienen la misma dimensión no es un problema poder trabajar con ellas, pero cuando tienen tamaño distinto entre ellas puede ser catastrófico. \n",
    "\n",
    "El objetivo de la tarea es poder evaluar dos procedimientos que permitan trabajar con imágenes de patrones de fractura considerando que tienen distinto tamaño entre ellas. Para esta tarea usted cuenta con la carpeta $\\verb|img|$ donde se encuentran $6000$ imágenes a su disposición, así como también se cuenta con el archivo $\\verb|SIZE_IMG.npy|$ el cual contiene la información sobre las dimensiones de cada imagen.\n",
    "\n",
    "A continuación se entrega una serie de funciones y variables a utilizar en esta tarea."
   ]
  },
  {
   "cell_type": "markdown",
   "metadata": {
    "cell_id": "a7478430437a413d98cc735b045444f2",
    "deepnote_cell_type": "markdown",
    "id": "HwtUgM0v5Ev1"
   },
   "source": [
    "## Librerías, variables y funciones predefinidas (NO MODIFICAR)"
   ]
  },
  {
   "cell_type": "code",
   "execution_count": 2,
   "metadata": {
    "id": "dsI-RjKc6jcz"
   },
   "outputs": [],
   "source": [
    "import matplotlib.image as mpimg\n",
    "import numpy as np\n",
    "import matplotlib.pyplot as plt\n",
    "from scipy.interpolate import BarycentricInterpolator"
   ]
  },
  {
   "cell_type": "code",
   "execution_count": 35,
   "metadata": {},
   "outputs": [],
   "source": [
    "def chebyshev_points(N):\n",
    "    return np.cos((2*np.arange(1, N+1) - 1) * np.pi / (2*N))\n",
    "\n",
    "def interpolateLog(n):\n",
    "    x_cheb = chebyshev_points(n)\n",
    "    y = np.exp(x_cheb)\n",
    "    pLog = BarycentricInterpolator(y,x_cheb)\n",
    "    return pLog\n",
    "pLog = interpolateLog(10)\n",
    "print(pLog([0.9, 1.5]))"
   ]
  },
  {
   "cell_type": "code",
   "execution_count": 41,
   "metadata": {},
   "outputs": [
    {
     "data": {
      "text/plain": [
       "array([0.99998])"
      ]
     },
     "execution_count": 41,
     "metadata": {},
     "output_type": "execute_result"
    }
   ],
   "source": [
    "def puntosEqui(n):\n",
    "    return -1 + 2*np.arange(1,n+1)/100000\n",
    "\n",
    "def ErrorD(n):\n",
    "    pLog = interpolateLog(n)\n",
    "    puntosEquix = puntosEqui(n)\n",
    "    discrete_error = np.abs(pLog(np.exp(puntosEquix)) - puntosEquix)\n",
    "    return discrete_error\n",
    "ErrorD(1)"
   ]
  },
  {
   "cell_type": "code",
   "execution_count": null,
   "metadata": {},
   "outputs": [],
   "source": [
    "def map_matching(p, xk, yk, tk, n):\n",
    "    a_x = np.ones(n,2)\n",
    "    a_x[:,1] = tk\n",
    "    q_x,r_x = np.linalg.qr(a_x, mode=\"reduced\")\n",
    "    c1 = np.dot(q_x.T, xk)\n",
    "    a1,b1 = np.linalg.solve(r_x, c1)\n",
    "\n",
    "    a_y = np.ones(n,2)\n",
    "    a_y[:,1] = tk\n",
    "    q_y,r_y = np.linalg.qr(a_y, mode=\"reduced\")\n",
    "    c2 = np.dot(q_y.T, yk)\n",
    "    a2,b2 = np.linalg.solve(r_y, c2)\n",
    "\n",
    "    gp = (p[0]*b1 - a1*b1 + p[1]*b2 - a2*b2)/(b1**2 + b2**2)\n",
    "    t_min = np.sqrt(gp) #minimiza t, no da el resultado que pide el enunciado\n",
    "    x_min = a1 + b1*t_min\n",
    "    y_min = a2 + b2*t_min\n",
    "    d = np.linalg.norm(p - np.array([x_min,y_min]))\n",
    "    return d"
   ]
  },
  {
   "cell_type": "code",
   "execution_count": 180,
   "metadata": {
    "id": "XVoQxqsU5fyO"
   },
   "outputs": [],
   "source": [
    "def readImage(filename):\n",
    "    \"\"\"\n",
    "    input:\n",
    "    filename: (str) name of the file to read.\n",
    "    \n",
    "    output:\n",
    "    img:      (ndarray) array with dimension SIZE x SIZE.\n",
    "    \"\"\"\n",
    "    img = mpimg.imread(filename)\n",
    "    img = np.array(img)[:,:,0]\n",
    "    return img\n",
    "\n",
    "def showImage(img):\n",
    "    \"\"\"\n",
    "    input:\n",
    "    img: (ndarray) array with dimension SIZE x SIZE where 0's are black pixels and 1's white pixels.\n",
    "    \"\"\"\n",
    "    plt.imshow(img,cmap=plt.get_cmap(\"gray\"))\n",
    "    plt.axis('off')\n",
    "    plt.show()"
   ]
  },
  {
   "cell_type": "markdown",
   "metadata": {},
   "source": [
    "La función $\\verb|PCA|$ recibe la matriz $X$ con la información de las imágenes. Se aplica SVD y retorna la matriz resultante $Vh$, los coeficientes proyectados $Y$, los valores singulares $S$ y el vector de medias $\\mu$."
   ]
  },
  {
   "cell_type": "code",
   "execution_count": 181,
   "metadata": {},
   "outputs": [],
   "source": [
    "def PCA(X):\n",
    "    \"\"\"\n",
    "    input:\n",
    "    X  :(ndarray) array with data of the noisy images.\n",
    "    \n",
    "    output:\n",
    "    Vh :(ndarray) array of the principal components.\n",
    "    Y  :(ndarray) array of projected coefficients.\n",
    "    S  :(ndarray) array of singular values.\n",
    "    mu :(ndarray) array with the mean of the columns of X.\n",
    "    \"\"\"\n",
    "    # Escriba su código aquí\n",
    "    # -----------------------------------\n",
    "    mu = np.mean(X,axis=0)\n",
    "    Z = X - mu\n",
    "    _,S,Vh = np.linalg.svd(Z,full_matrices=False)\n",
    "    Y = Z @ Vh.T\n",
    "    # -----------------------------------\n",
    "    return Vh,Y,S,mu\n"
   ]
  },
  {
   "cell_type": "markdown",
   "metadata": {},
   "source": [
    "La función $\\verb|reconstruction|$, a partir de la información obtenida de la función $\\verb|PCA|$ obtiene las imágenes reconstruidas con $k$ componentes principales."
   ]
  },
  {
   "cell_type": "code",
   "execution_count": 182,
   "metadata": {},
   "outputs": [],
   "source": [
    "def reconstruction(Vh,Y,mu,k):\n",
    "    \"\"\"\n",
    "    input:\n",
    "    Vh  :(ndarray) array of the principal components.\n",
    "    Y   :(ndarray) array of projected coefficients.\n",
    "    mu  :(ndarray) 1D array of averages per column of original data.\n",
    "    k   :(int)     number of principal components to use.\n",
    "    \n",
    "    output:\n",
    "    Xr  :(ndarray) array with data of the reconstructed images with k principal components.\n",
    "    \"\"\"\n",
    "    # Escriba su código aquí\n",
    "    # -----------------------------------\n",
    "    Zr = Y[:,:k] @ Vh[:k,:]\n",
    "    Xr = Zr + mu\n",
    "    # -----------------------------------\n",
    "    return Xr"
   ]
  },
  {
   "cell_type": "markdown",
   "metadata": {},
   "source": [
    "Ejecute el siguiente código para cargar las dimensiones de cada imagen:"
   ]
  },
  {
   "cell_type": "code",
   "execution_count": 183,
   "metadata": {},
   "outputs": [],
   "source": [
    "file_size = \"SIZE_IMG.npy\"\n",
    "f = open(file_size,\"rb\")\n",
    "SIZE_IMG = np.load(f)\n",
    "f.close()"
   ]
  },
  {
   "cell_type": "markdown",
   "metadata": {},
   "source": [
    "# Pregunta 1. Padding\n",
    "\n",
    "Una forma de lidiar con imágenes de distinto tamaño, es trabajar con un único tamaño de imagen, por ejemplo, imágenes de dimensión $\\textrm{MAX\\_SIZE}\\times\\textrm{MAX\\_SIZE}$. En caso de que una imagen tenga tamaño inferior a $\\textrm{MAX\\_SIZE}\\times\\textrm{MAX\\_SIZE}$ entonces se debe rellenar la imagen con espacios en blanco, es decir, valores nulos, o más conocido como $0$-padding."
   ]
  },
  {
   "cell_type": "markdown",
   "metadata": {},
   "source": [
    "## Pregunta 1.1 Construcción de la matriz X con padding (20 puntos)\n",
    "Construya la función $\\verb|buildMatrix_pad|$, la cual debe leer las imágenes y guardar su información en la matriz $X$, asegurándose de que todas las filas de la matriz sean de dimensión $\\textrm{MAX\\_SIZE}^2$."
   ]
  },
  {
   "cell_type": "code",
   "execution_count": 184,
   "metadata": {},
   "outputs": [],
   "source": [
    "def buildMatrix_pad(N,MAX_SIZE):\n",
    "    \"\"\"\n",
    "    input:\n",
    "    N        :(int) number of images to read.\n",
    "    MAX_SIZE :(int) MAX_SIZE x MAX_SIZE is the dimension of the largest image.\n",
    "    \n",
    "    output:\n",
    "    X      :(ndarray) array with dimension N x MAX_SIZE^2 with data as row vectors.\n",
    "    \"\"\"\n",
    "    # No modificar\n",
    "    path = \"img/\"\n",
    "    \n",
    "    # Escriba su código aquí\n",
    "    # -----------------------------------\n",
    "    X = np.zeros((N,MAX_SIZE**2))\n",
    "    for i in np.arange(N):\n",
    "        filename = f\"{path}img-{i}.jpg\"\n",
    "        img = readImage(filename)\n",
    "        size = img.shape[0]\n",
    "        padding = MAX_SIZE - size\n",
    "        if padding != 0:\n",
    "            img = np.pad(img, ((0, padding), (0, padding)), mode='constant', constant_values=0)\n",
    "        pad_img = img.flatten()\n",
    "        X[i,:] = pad_img\n",
    "    # -----------------------------------\n",
    "    return X"
   ]
  },
  {
   "cell_type": "markdown",
   "metadata": {},
   "source": [
    "Ejecute la función construida anteriormente con los siguientes parámetros:"
   ]
  },
  {
   "cell_type": "code",
   "execution_count": 185,
   "metadata": {},
   "outputs": [],
   "source": [
    "# No modificar\n",
    "N = 6000\n",
    "MAX_SIZE = 32\n",
    "Xp = buildMatrix_pad(N,MAX_SIZE)\n",
    "Vhp,Yp,Sp,mup = PCA(Xp)"
   ]
  },
  {
   "cell_type": "markdown",
   "metadata": {},
   "source": [
    "Ejecute el siguiente código que permite reconstruir la matriz $X$ utilizando por ejemplo $k = 10$ componentes principales:"
   ]
  },
  {
   "cell_type": "code",
   "execution_count": 186,
   "metadata": {},
   "outputs": [],
   "source": [
    "# No modificar\n",
    "Xpr = reconstruction(Vhp,Yp,mup,10)"
   ]
  },
  {
   "cell_type": "markdown",
   "metadata": {},
   "source": [
    "## Pregunta 1.2 Imagen reconstruida (10 puntos)\n",
    "\n",
    "Construya la función $\\verb|image_rec_pad|$, la cual a partir de la información obtenida de la matriz $\\verb|Xpr|$ que contiene la reconstrucción de las imágenes con $k$ componentes principales, retorne la imagen $\\verb|id|$-ésima."
   ]
  },
  {
   "cell_type": "code",
   "execution_count": 187,
   "metadata": {},
   "outputs": [],
   "source": [
    "def image_rec_pad(Xpr,id,MAX_SIZE,SIZE_IMG):\n",
    "    \"\"\"\n",
    "    input:\n",
    "    Xpr      :(ndarray) array with data of the reconstructed images with k principal components.\n",
    "    id       :(int)     id of the image to reconstruct.\n",
    "    MAX_SIZE :(int)     MAX_SIZE x MAX_SIZE is the dimension of the largest image.\n",
    "    SIZE_IMG :(ndarray) array with the size of the images.\n",
    "    \n",
    "    output:\n",
    "    img_r    :(ndarray) image reconstructed.\n",
    "    \"\"\"\n",
    "    # Escriba su código aquí\n",
    "    # -----------------------------------\n",
    "    img_id = Xpr[id]\n",
    "    padding = MAX_SIZE - SIZE_IMG[id]\n",
    "    img_r = img_id.reshape((MAX_SIZE, MAX_SIZE))\n",
    "    if SIZE_IMG[id] != MAX_SIZE:\n",
    "        img_r = np.zeros((SIZE_IMG[id], SIZE_IMG[id]))\n",
    "        img_r = img_id[0 : MAX_SIZE - padding, 0 : MAX_SIZE - padding]\n",
    "    \n",
    "    # -----------------------------------\n",
    "    return img_r"
   ]
  },
  {
   "cell_type": "markdown",
   "metadata": {},
   "source": [
    "# Pregunta 2. Domain decomposition\n",
    "\n",
    "Otra forma de lidiar con imágenes de distinto tamaño, es dividir la imagen en sub-imágenes del mismo tamaño, por ejemplo, sub-imágenes de dimensión $\\textrm{D\\_SIZE}\\times\\textrm{D\\_SIZE}$. En caso de que una imagen tenga tamaño $32 \\times 32$ y $\\textrm{D\\_SIZE} = 8$, entonces la imagen será dividida en 16 sub-imágenes, cada una de tamaño $8 \\times 8$ sin **overlapping**."
   ]
  },
  {
   "cell_type": "markdown",
   "metadata": {},
   "source": [
    "## Pregunta 2.1 (20 puntos) \n",
    "Construya la función $\\verb|buildMatrix_dd|$, la cual debe leer las imágenes y guardar su información en la matriz $X$, asegurándose de que todas las filas de la matriz sean de dimensión $\\textrm{D\\_SIZE}^2$, es decir, cada fila contiene una sub-imagen obtenida de la división del dominio de cada imagen."
   ]
  },
  {
   "cell_type": "code",
   "execution_count": 188,
   "metadata": {},
   "outputs": [],
   "source": [
    "def buildMatrix_dd(N,D_SIZE,SIZE_IMG):\n",
    "    \"\"\"\n",
    "    input:\n",
    "    N         :(int)     number of images to read.\n",
    "    D_SIZE    :(int)     D_SIZE x D_SIZE is the dimension of the block image.\n",
    "    SIZE_IMG  :(ndarray) array with the size of the images.\n",
    "    \n",
    "    output:\n",
    "    X         :(ndarray) array with data as row vectors.\n",
    "    \"\"\"\n",
    "    # No modificar\n",
    "    path = \"img/\"\n",
    "    \n",
    "    # Escriba su código aquí\n",
    "    # -----------------------------------\n",
    "    n_rows = lambda x: np.power(x//D_SIZE, 2)\n",
    "    n_rows_vec = np.vectorize(n_rows)\n",
    "    n_rows_matrix = np.sum(n_rows_vec(SIZE_IMG))\n",
    "    X = np.zeros((n_rows_matrix ,D_SIZE**2))\n",
    "\n",
    "    index = 0\n",
    "    for i in np.arange(N):\n",
    "        filename = f\"{path}img-{i}.jpg\"\n",
    "        img = readImage(filename)\n",
    "        num_submatrices = SIZE_IMG[i]//D_SIZE\n",
    "        \n",
    "        submatriz_i = np.zeros((D_SIZE,D_SIZE)) \n",
    "        \n",
    "        for j in np.arange(num_submatrices):\n",
    "            for k in np.arange(num_submatrices):\n",
    "                submatriz_i = img[j*D_SIZE:(j+1)*D_SIZE, k*D_SIZE:(k+1)*D_SIZE] \n",
    "                submatriz_i = submatriz_i.flatten()\n",
    "                X[index,:] = submatriz_i\n",
    "                index += 1\n",
    "    # -----------------------------------\n",
    "    return X"
   ]
  },
  {
   "cell_type": "markdown",
   "metadata": {},
   "source": [
    "Ejecute la función construida anteriormente con los siguientes parámetros:"
   ]
  },
  {
   "cell_type": "code",
   "execution_count": 189,
   "metadata": {},
   "outputs": [
    {
     "name": "stdout",
     "output_type": "stream",
     "text": [
      "36288\n"
     ]
    }
   ],
   "source": [
    "N = 6000\n",
    "D_SIZE = 8\n",
    "Xd = buildMatrix_dd(N,D_SIZE,SIZE_IMG)"
   ]
  },
  {
   "cell_type": "markdown",
   "metadata": {},
   "source": [
    "Ejecute el siguiente código que permite obtener la reconstrucción de la matriz $\\verb|Xd|$ utilizando $k=10$ componentes principales:"
   ]
  },
  {
   "cell_type": "code",
   "execution_count": 190,
   "metadata": {},
   "outputs": [],
   "source": [
    "Vhd,Yd,Sd,mud = PCA(Xd)\n",
    "Xdr = reconstruction(Vhd,Yd,mud,10)"
   ]
  },
  {
   "cell_type": "markdown",
   "metadata": {},
   "source": [
    "## Pregunta 2.2 Imagen reconstruida (20 puntos)\n",
    "\n",
    "Construya la función $\\verb|image_rec_dd|$, la cual a partir de la información obtenida de la matriz $\\verb|Xdr|$ que contiene la reconstrucción de las sub-imágenes con $k$ componentes principales, retorne la imagen $\\verb|id|$-ésima."
   ]
  },
  {
   "cell_type": "code",
   "execution_count": 191,
   "metadata": {},
   "outputs": [],
   "source": [
    "def image_rec_dd(Xdr,id,D_SIZE,SIZE_IMG):\n",
    "    \"\"\"\n",
    "    input:\n",
    "    Xdr      :(ndarray) array with data of the reconstructed images with k principal components.\n",
    "    id       :(int)     id of the image to reconstruct.\n",
    "    D_SIZE   :(int)     D_SIZE x D_SIZE is the dimension of the sub-images.\n",
    "    SIZE_IMG :(ndarray) array with the size of the images.\n",
    "    \n",
    "    output:\n",
    "    img_r    :(ndarray) image reconstructed.\n",
    "    \"\"\"\n",
    "    # Escriba su código aquí\n",
    "    # -----------------------------------\n",
    "    or_size = SIZE_IMG[id]\n",
    "    n_submatrices = or_size//D_SIZE\n",
    "    img_id = Xdr[id : id + np.power(n_submatrices,2)]\n",
    "    img_r = np.zeros((or_size, or_size))\n",
    "    for i in np.arange(n_submatrices):\n",
    "        for j in np.arange(n_submatrices):\n",
    "            submatriz_aux = img_id[i*n_submatrices + j].reshape((D_SIZE,D_SIZE))\n",
    "            img_r[i*D_SIZE:(i+1)*D_SIZE, j*D_SIZE:(j+1)*D_SIZE] = submatriz_aux\n",
    "    # -----------------------------------\n",
    "    return img_r"
   ]
  },
  {
   "cell_type": "markdown",
   "metadata": {},
   "source": [
    "Ejecute el siguiente código para observar, por ejemplo para la imagen con $\\verb|id=0|$, la imagen original y la reconstrucción utilizando $k = 10$ componentes principales con el procedimiento de **padding** y de **domain decomposition** respectivamente,"
   ]
  },
  {
   "cell_type": "code",
   "execution_count": 192,
   "metadata": {},
   "outputs": [
    {
     "data": {
      "image/png": "[encoded data removed]",
      "text/plain": [
       "<Figure size 432x288 with 1 Axes>"
      ]
     },
     "metadata": {
      "needs_background": "light"
     },
     "output_type": "display_data"
    },
    {
     "data": {
      "image/png": "[encoded data removed]",
      "text/plain": [
       "<Figure size 432x288 with 1 Axes>"
      ]
     },
     "metadata": {
      "needs_background": "light"
     },
     "output_type": "display_data"
    },
    {
     "data": {
      "image/png": "[encoded data removed]",
      "text/plain": [
       "<Figure size 432x288 with 1 Axes>"
      ]
     },
     "metadata": {
      "needs_background": "light"
     },
     "output_type": "display_data"
    }
   ],
   "source": [
    "id = 0\n",
    "img = readImage(f\"img/img-{id}.jpg\")\n",
    "img_rp = image_rec_pad(Xpr,id,MAX_SIZE,SIZE_IMG)\n",
    "img_rd = image_rec_dd(Xdr,id,D_SIZE,SIZE_IMG)\n",
    "\n",
    "showImage(img)\n",
    "showImage(img_rp)\n",
    "showImage(img_rd)"
   ]
  },
  {
   "cell_type": "markdown",
   "metadata": {},
   "source": [
    "# Pregunta 3 (20 puntos)\n",
    "Considerando que usted quiere almacenar las $6000$ imágenes tanto para el caso de **padding** como en el caso de **domain decomposition**, y que para almacenar las imágenes, en ambos casos, de forma comprimida usted no almacenará las imágenes reconstruidas, sino que almacenará los vectores singulares correspondientes, el vector de medias $\\mu$ y la matriz de coeficientes, de tal manera que si usted necesita reconstruir una imagen lo puede hacer con los procedimientos desarrollados anteriormente. Explique para ambos casos:\n",
    "1. La relación entre calidad de la imagen reconstruida y uso de memoria, y\n",
    "2. determine cuál de los 2 procedimientos entrega mejores resultados considerando que se quiere ahorrar por lo menos un $50\\%$ de espacio de almacenamiento respecto a almacenar las $6000$ imágenes sin comprimir de alguna forma.\n",
    "\n",
    "Justifique claramente sus respuestas."
   ]
  },
  {
   "cell_type": "markdown",
   "metadata": {},
   "source": [
    "**---------------------------------------------------------------------------------------------------------------------------**\n",
    "\n",
    "**Respuesta:**\n",
    "\n",
    "1.\n",
    "\n",
    "En padding, al agregar ceros se corre el riesgo de que se pierda informacion de la imagen original, lo que se puede ver en la calidad de imagen al reconstruirla que se ve distoricionada. Sin embargo, el uso de memoria es eficiente ya que rellenar con ceros no implica una ocupacion grande de memoria\n",
    "En domain decomposition, se al usar SVD/PCA para guardar la imagen en bloques mas pequeños se conserva de mejor manera la calidad de los datos, como se puede ver en la reconstruccion donde la imagen es mas nitida y similar a la original. Sin embargo, el uso de memoria puede ser grande ya que se tienen que almacenar mas matrices de coeficientes que vendrian siendo las sub matrices de cada imagen.\n",
    "\n",
    "2.\n",
    "\n",
    "Si el objetivo es ahorrar espacio de almacenamiento se deberia usar el metodo de padding ya que almacena menos matrices. Sin embargo se recuperara una peor imagen en comparacion a domain decomposition\n",
    "\n",
    "**---------------------------------------------------------------------------------------------------------------------------**"
   ]
  },
  {
   "cell_type": "markdown",
   "metadata": {
    "cell_id": "abde950b0c784593a327786e4969e550",
    "deepnote_cell_type": "markdown",
    "id": "Yu384EIl5Ev5"
   },
   "source": [
    "**¡Ya ha llegado al final de la tarea número 2! Ahora debe enviarla antes de las 23:59 hrs. del viernes 26 de mayo!**"
   ]
  }
 ],
 "metadata": {
  "colab": {
   "provenance": []
  },
  "deepnote": {},
  "deepnote_execution_queue": [],
  "deepnote_notebook_id": "8e84f84a060e4062b39e59b2b670818c",
  "deepnote_persisted_session": {
   "createdAt": "2023-04-28T15:32:17.336Z"
  },
  "kernelspec": {
   "display_name": "Python 3 (ipykernel)",
   "language": "python",
   "name": "python3"
  },
  "language_info": {
   "codemirror_mode": {
    "name": "ipython",
    "version": 3
   },
   "file_extension": ".py",
   "mimetype": "text/x-python",
   "name": "python",
   "nbconvert_exporter": "python",
   "pygments_lexer": "ipython3",
   "version": "3.9.7"
  }
 },
 "nbformat": 4,
 "nbformat_minor": 4
}
