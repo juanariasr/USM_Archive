{
  "nbformat": 4,
  "nbformat_minor": 0,
  "metadata": {
    "colab": {
      "name": "TallerT3_INF280_2022_ENTREGA_Equipo7PCWPPipynb",
      "provenance": [],
      "collapsed_sections": [],
      "toc_visible": true
    },
    "kernelspec": {
      "name": "python3",
      "display_name": "Python 3"
    },
    "language_info": {
      "name": "python"
    }
  },
  "cells": [
    {
      "cell_type": "markdown",
      "source": [
        "# Taller T3 Pirámides Binomiales"
      ],
      "metadata": {
        "id": "is7NUHBQX6tm"
      }
    },
    {
      "cell_type": "markdown",
      "source": [
        "Integrantes :\n",
        "\n",
        "Juan Diego Arias rol_202073590-5\n",
        "\n",
        "Alonso Maureira rol_202073589-1\n",
        "\n",
        "Ricardo Parragué rol_202073605-7\n",
        "\n",
        "enlace videos: https://drive.google.com/drive/folders/1ZcJlD2pbxTOWnl-avKEtqO88Kl1e7RIR?usp=sharing\n",
        "\n",
        "** Este taller fue realizado estrictamente por los 3 integrantes identificados en conformidad con el código de honor UTFSM **"
      ],
      "metadata": {
        "id": "3l3RXq5UFm5Z"
      }
    },
    {
      "cell_type": "markdown",
      "source": [
        "<table align='left'>\n",
        "<tr>\n",
        "<td><img src='https://bitcoinist.com/wp-content/uploads/2019/12/30-December-1-e1577702026209.jpg' width='850'/> </td>\n",
        "</tr>\n",
        "</table>\n"
      ],
      "metadata": {
        "id": "b3kVgbPhYKS6"
      }
    },
    {
      "cell_type": "markdown",
      "source": [
        "Imagine que el valor de cierta criptomoneda evoluciona con incrementos diarios independientes de manera que el $i$-ésimo día\n",
        "\n",
        "\\begin{eqnarray}\n",
        "Z_{i+1} &= \\left\\{ \\begin{array}{rl} \n",
        "2\\cdot Z_{i} & \\mbox{ con probabilidad} \\ p\\\\\n",
        "1/2 \\cdot Z_{i} & \\mbox{ con probabilidad} \\ 1-p\\\\\n",
        "\\end{array} \\right. \\ \\ \\ \\forall i=1,2,\\ldots\n",
        "\\end{eqnarray}"
      ],
      "metadata": {
        "id": "U7I0-QMUY2jm"
      }
    },
    {
      "cell_type": "markdown",
      "source": [
        "Si definimos $Y_i=\\log_2(Z_{i})$, lo anterior es equivalente a escribir"
      ],
      "metadata": {
        "id": "z1oec73_SLTn"
      }
    },
    {
      "cell_type": "markdown",
      "source": [
        "\\begin{eqnarray}\n",
        "Y_{i+1} & = Y_{i} + X_i \\ \\ \\ \\forall i=1,2,\\ldots\n",
        "\\end{eqnarray}"
      ],
      "metadata": {
        "id": "-1tcvzhxSWUI"
      }
    },
    {
      "cell_type": "markdown",
      "source": [
        "donde $X_i$ es una v.a. discreta de Rademacher (que toma el valor $1$ con probabilidad $p$ y el valor $-1$ con probabilidad $1-p$)."
      ],
      "metadata": {
        "id": "5PSi3JsKh3ec"
      }
    },
    {
      "cell_type": "markdown",
      "source": [
        "Suponga que valor actual de la moneda es $Z_0=1$ (de modo que $Y_0=0$)."
      ],
      "metadata": {
        "id": "t7vr_WnCj0LX"
      }
    },
    {
      "cell_type": "markdown",
      "source": [
        ""
      ],
      "metadata": {
        "id": "1TEynTIfnUWS"
      }
    },
    {
      "cell_type": "markdown",
      "source": [
        "# Actividades"
      ],
      "metadata": {
        "id": "SeayNWsykl_W"
      }
    },
    {
      "cell_type": "markdown",
      "source": [
        "\n",
        "1.   Determine los posibles valores de la moneda n días hacia adelante ($Z_n$) y su correspondiente f.d.p. \n",
        "\n",
        "2.   Compruebe el resultado anterior vía simulación para n=10 y p=3/5. ¿Cuál es el valor más probable de $Z_n$? ¿Es simétrica la distribución? ¿Qué sucede si p=1/2?\n",
        "\n",
        "3.   Construya un gráfico para el valor esperado y la varianza del valor que de la moneda durante los primeros 30 días. Compare lo que sucede con p=3/5 y p=1/2. ¿Qué observa? ¿Qué relación existe entre estos valores y los primeros momentos de $Y_n$? \n",
        "\n",
        "4.   Use la ley de los grandes números para los estimar los valores esperados y las varianzas de la pregunta anterior mediante simulación. ¿Obtiene buenas aproximaciones de los valores teóricos? ¿De qué depende?\n",
        "\n",
        "5.   Suponga que cuando vende una moneda debe pagar un impuesto de $I=1.35^n$ donde n es el número de días pasados desde la compra. Si p=3/5, ¿Cuál es la probabilidad de que pierda dinero vendiendo la moneda después del primer mes? ¿Cuál es el valor esperado de la utilidad neta obtenida en este caso? ¿Conviene comprar una moneda si se debe vender después del primer mes? Incluya en su respuesta tanto un razonamiento teórico como estimaciones obtenidas vía simulación. \n",
        "\n",
        "6.  Si p=1/2, determine la probabilidad de que durante las primeras dos semanas, se verifique una racha de 5 o más alzas consecutivas. \n",
        "\n",
        "7.  Si p=1/2, su amiga Fede le aconseja vender la moneda apenas se verifiquen $5$ alzas consecutivas. Determine la f.d.p. del tiempo que pasará hasta la venta si se usa esta estrategia. Verifique su resultado mediante simulación y use esta última para estimar también la utilidad neta obtenida. \n"
      ],
      "metadata": {
        "id": "rM1FrTW1kpcq"
      }
    },
    {
      "cell_type": "markdown",
      "source": [
        "# Disclaimer\n",
        "\n",
        "La situación expuesta en este taller no tiene relación oficinal con ninguna criptomoneda y no representa consejo de inversión alguno."
      ],
      "metadata": {
        "id": "5xigZ1sb28-h"
      }
    },
    {
      "cell_type": "markdown",
      "source": [
        "**IMPORTACIONES**"
      ],
      "metadata": {
        "id": "UxcyeYxfv2ny"
      }
    },
    {
      "cell_type": "code",
      "source": [
        "import pandas as pd\n",
        "import numpy as np\n",
        "import matplotlib.pyplot as plt\n",
        "import seaborn as sn\n",
        "import random\n",
        "import math\n",
        "import statistics as stat\n",
        "from tabulate import tabulate\n",
        "import statistics as stat"
      ],
      "metadata": {
        "id": "xpHKRVfcv1gq"
      },
      "execution_count": null,
      "outputs": []
    },
    {
      "cell_type": "markdown",
      "source": [
        "# ***Pregunta 1***"
      ],
      "metadata": {
        "id": "VozhGnaM3HtR"
      }
    },
    {
      "cell_type": "markdown",
      "source": [
        "\\begin{eqnarray}\n",
        "Z_{i+1} &= \\left\\{ \\begin{array}{rl} \n",
        "Z_{o} \\cdot 2^{Y_{n}}  & \\mbox{ con probabilidad} \\ p\\\\\n",
        "Z_{o} \\cdot \\frac {1}{2}^{Y_{n}}   & \\mbox{ con probabilidad} \\ 1-p\\\\\n",
        "\\end{array} \\right. \\ \\ \\ \\forall n=1,2,\\ldots\n",
        "\\end{eqnarray}"
      ],
      "metadata": {
        "id": "lFuUFlHvv26R"
      }
    },
    {
      "cell_type": "code",
      "source": [
        ""
      ],
      "metadata": {
        "id": "XLlfYYB_-Ksb"
      },
      "execution_count": null,
      "outputs": []
    },
    {
      "cell_type": "markdown",
      "source": [
        "\\begin{eqnarray}\n",
        "Z_{n} &= \\left\\{ \\begin{array}{rl} \n",
        "Z_{o} \\cdot 2^{\\log_2(Z_{n-1}) + 1}  & \\mbox{ con probabilidad} \\ p\\\\\n",
        "Z_{o} \\cdot 2^{{\\log_2(Z_{n-1}) - 1}}   & \\mbox{ con probabilidad} \\ 1-p\\\\\n",
        "\\end{array} \\right. \\ \\ \\ \\forall n=1,2,\\ldots\n",
        "\\end{eqnarray}"
      ],
      "metadata": {
        "id": "EirBuFCQzPHg"
      }
    },
    {
      "cell_type": "markdown",
      "source": [
        "Los valores posibles de la moneda son las potencias de 2 con exponente en los numeros enteros $2^n \\forall n \\in \\mathbb Z$"
      ],
      "metadata": {
        "id": "Lnc2FLB31azr"
      }
    },
    {
      "cell_type": "markdown",
      "source": [
        "# ***Pregunta 2***"
      ],
      "metadata": {
        "id": "XwkCd7B15AZN"
      }
    },
    {
      "cell_type": "code",
      "source": [
        "moneda = 1\n",
        "dias_a_calcular = 10\n",
        "precios = [moneda]\n",
        "precios_aux = []\n",
        "i = 0\n",
        "\n",
        "while dias_a_calcular > i:\n",
        "    for precio in precios:\n",
        "        precios_aux.append(precio * 2)\n",
        "        precios_aux.append(precio * 0.5)\n",
        "    precios = list(precios_aux)\n",
        "    precios_aux = []\n",
        "    i += 1 \n",
        "\n",
        "p = 0.6\n",
        "pmenos = 0.4\n",
        "probabilidades = [1]\n",
        "probabilidades_aux = []\n",
        "y = 0\n",
        "while dias_a_calcular > y:\n",
        "    for prob in probabilidades:\n",
        "        probabilidades_aux.append(prob * p)\n",
        "        probabilidades_aux.append(prob * pmenos)\n",
        "    probabilidades = list(probabilidades_aux)\n",
        "    probabilidades_aux = []\n",
        "    y += 1 \n",
        "\n",
        "d = {}\n",
        "for value in range(len(precios)):\n",
        "    clave = str(precios[value])\n",
        "    if clave not in d: \n",
        "        d[clave] = [0,0] \n",
        "    d[clave][0] += 1 # frecuencia\n",
        "    d[clave][1] += probabilidades[value] #probabilidad\n",
        "\n",
        "\n",
        "for valorposible in d:\n",
        "  print(valorposible, d[valorposible])\n",
        "\n",
        "x =[]\n",
        "y =[]\n",
        "sumapromedio = 0\n",
        "for llave in d:\n",
        "  val = float(llave)\n",
        "  x.append(val)\n",
        "  frec = d[llave][0]\n",
        "  y.append(frec)\n",
        "  sumapromedio += val*frec\n",
        "promedio = sumapromedio/1024\n",
        "\n",
        "\n",
        "print(\"\\n la moda seria 1 con una frecuencia de 252\")\n",
        "print(\"mediana corresponde a la posicion 512, la cual corresponderia a 1\")\n",
        "print(\"media corresponde a\",promedio)\n",
        "\n",
        "print(\"\\n El valor más probable para n = 10 y p=3/5 es 4, con una probabilidad de 0.246 \\n valor que no coincide con la media,moda y mediana, por lo tanto con p=3/5 no tenemos una distribucion simétrica\")\n",
        "\n",
        "plt.plot(x, y)\n",
        "plt.show()\n"
      ],
      "metadata": {
        "colab": {
          "base_uri": "https://localhost:8080/",
          "height": 604
        },
        "id": "T7dTe_UQVVLJ",
        "outputId": "fb7d19aa-639d-4bf1-9f10-9cca2bb3a94a"
      },
      "execution_count": null,
      "outputs": [
        {
          "output_type": "stream",
          "name": "stdout",
          "text": [
            "1024 [1, 0.006046617599999999]\n",
            "256.0 [10, 0.04031078399999999]\n",
            "64.0 [45, 0.12093235199999991]\n",
            "16.0 [120, 0.2149908479999994]\n",
            "4.0 [210, 0.2508226560000009]\n",
            "1.0 [252, 0.20065812479999948]\n",
            "0.25 [210, 0.11147673599999978]\n",
            "0.0625 [120, 0.04246732799999993]\n",
            "0.015625 [45, 0.01061683200000001]\n",
            "0.00390625 [10, 0.001572864000000001]\n",
            "0.0009765625 [1, 0.00010485760000000006]\n",
            "\n",
            " la moda seria 1 con una frecuencia de 252\n",
            "mediana corresponde a la posicion 512, la cual corresponderia a 1\n",
            "media corresponde a 9.313225746154785\n",
            "\n",
            " El valor más probable para n = 10 y p=3/5 es 4, con una probabilidad de 0.246 \n",
            " valor que no coincide con la media,moda y mediana, por lo tanto con p=3/5 no tenemos una distribucion simétrica\n"
          ]
        },
        {
          "output_type": "display_data",
          "data": {
            "text/plain": [
              "<Figure size 432x288 with 1 Axes>"
            ],
            "image/png": "[encoded data removed]"
          },
          "metadata": {
            "needs_background": "light"
          }
        }
      ]
    },
    {
      "cell_type": "code",
      "source": [
        "moneda = 1\n",
        "dias_a_calcular = 10\n",
        "precios = [moneda]\n",
        "precios_aux = []\n",
        "i = 0\n",
        "\n",
        "while dias_a_calcular > i:\n",
        "    for precio in precios:\n",
        "        precios_aux.append(precio * 2)\n",
        "        precios_aux.append(precio * 0.5)\n",
        "    precios = list(precios_aux)\n",
        "    precios_aux = []\n",
        "    i += 1 \n",
        "\n",
        "p = 0.5\n",
        "pmenos = 0.5\n",
        "probabilidades = [1]\n",
        "probabilidades_aux = []\n",
        "y = 0\n",
        "while dias_a_calcular > y:\n",
        "    for prob in probabilidades:\n",
        "        probabilidades_aux.append(prob * p)\n",
        "        probabilidades_aux.append(prob * pmenos)\n",
        "    probabilidades = list(probabilidades_aux)\n",
        "    probabilidades_aux = []\n",
        "    y += 1 \n",
        "\n",
        "d = {}\n",
        "for value in range(len(precios)):\n",
        "    clave = str(precios[value])\n",
        "    if clave not in d: \n",
        "        d[clave] = [0,0] \n",
        "    d[clave][0] += 1 # frecuencia\n",
        "    d[clave][1] += probabilidades[value] #probabilidad\n",
        "\n",
        "\n",
        "for valorposible in d:\n",
        "  print(valorposible, d[valorposible])\n",
        "\n",
        "\n",
        "x =[]\n",
        "y =[]\n",
        "sumapromedio = 0\n",
        "for llave in d:\n",
        "  val = float(llave)\n",
        "  x.append(val)\n",
        "  frec = d[llave][0]\n",
        "  y.append(frec)\n",
        "  sumapromedio += val*frec\n",
        "promedio = sumapromedio/1024\n",
        "\n",
        "print(\"\\n la moda seria 1 con una frecuencia de 252\")\n",
        "print(\"mediana corresponde a la posicion 512, la cual corresponderia a 1\")\n",
        "print(\"media corresponde a 9.31\")\n",
        "print(\"\\n El valor más probable para n = 10 y p=1/2 es 1, con una probabilidad de 0.246 \\n valor que coincide con la moda y mediana, pero no con la media, por lo tanto con p=1/2 no tenemos una distribucion simétrica\")\n",
        "\n",
        "\n",
        "plt.plot(x, y)\n",
        "plt.show()\n"
      ],
      "metadata": {
        "colab": {
          "base_uri": "https://localhost:8080/",
          "height": 577
        },
        "id": "x7YxpF4ubD1R",
        "outputId": "375d1680-7b6c-4dac-cdcc-9635468fcbcc"
      },
      "execution_count": null,
      "outputs": [
        {
          "output_type": "stream",
          "name": "stdout",
          "text": [
            "1024 [1, 0.0009765625]\n",
            "256.0 [10, 0.009765625]\n",
            "64.0 [45, 0.0439453125]\n",
            "16.0 [120, 0.1171875]\n",
            "4.0 [210, 0.205078125]\n",
            "1.0 [252, 0.24609375]\n",
            "0.25 [210, 0.205078125]\n",
            "0.0625 [120, 0.1171875]\n",
            "0.015625 [45, 0.0439453125]\n",
            "0.00390625 [10, 0.009765625]\n",
            "0.0009765625 [1, 0.0009765625]\n",
            "\n",
            " la moda seria 1 con una frecuencia de 252\n",
            "mediana corresponde a la posicion 512, la cual corresponderia a 1\n",
            "media corresponde a 9.31\n",
            "\n",
            " El valor más probable para n = 10 y p=1/2 es 1, con una probabilidad de 0.246 \n",
            " valor que coincide con la moda y mediana, pero no con la media, por lo tanto con p=1/2 no tenemos una distribucion simétrica\n"
          ]
        },
        {
          "output_type": "display_data",
          "data": {
            "text/plain": [
              "<Figure size 432x288 with 1 Axes>"
            ],
            "image/png": "[encoded data removed]"
          },
          "metadata": {
            "needs_background": "light"
          }
        }
      ]
    },
    {
      "cell_type": "markdown",
      "source": [
        "# **Pregunta 3**"
      ],
      "metadata": {
        "id": "H6WK6ENUHLos"
      }
    },
    {
      "cell_type": "code",
      "source": [
        "def esperado_caso(caso,lista,lista_dos):\n",
        "    i=1\n",
        "    while i <=30:\n",
        "        exp=i\n",
        "        aux2=i\n",
        "        valor_esp=0\n",
        "        v_a=0\n",
        "        while exp<=i and exp>=(-1)*exp:\n",
        "            multiplicacion=(math.factorial(i)//(math.factorial(aux2)*math.factorial(i-aux2)))*(caso**aux2*(1-caso)**(i-aux2))\n",
        "            valor_esp+= 2**exp*multiplicacion\n",
        "            v_a+=4**exp*multiplicacion\n",
        "            exp-=2\n",
        "            aux2-=1\n",
        "        lista.append(valor_esp)\n",
        "        lista_dos.append(v_a)\n",
        "        i+=1\n",
        "    return (lista,lista_dos)\n",
        "\n",
        "lista_e=[]\n",
        "lista_aux=[]\n",
        "valores_caso1=esperado_caso(3/5,lista_e,lista_aux)\n",
        "varianzas_1=[]\n",
        "dias=0\n",
        "\n",
        "print(\"valores esperados 1eros 30 días con p= 3/5:\", valores_caso1)\n",
        "\n",
        "while dias<30:\n",
        "  e1=valores_caso1[1][dias]\n",
        "  e2=(valores_caso1[0][dias])**2\n",
        "  var=e1-e2\n",
        "  varianzas_1.append(var)\n",
        "  dias+=1\n",
        "print(\"varianzas para p=3/5\")\n",
        "print(varianzas_1)\n",
        "print(len(varianzas_1))\n",
        "lista_e=[]\n",
        "varianzas_2=[]\n",
        "valores_caso2=esperado_caso(1/2,lista_e,lista_aux)\n",
        "\n",
        "print(\"valores esperados 1eros 30 días con p= 1/2:\", valores_caso2)\n",
        "\n",
        "dias=0\n",
        "while dias<30:\n",
        "  e1=valores_caso2[1][dias]\n",
        "  e2=(valores_caso2[0][dias])**2\n",
        "  var=e1-e2\n",
        "  varianzas_2.append(var)\n",
        "  dias+=1\n",
        "print(\"varianzas para p=1/2\")\n",
        "print(varianzas_2)\n",
        "print(len(varianzas_1))\n",
        "\n",
        "print(\"el valor esperado para el día 30 con p=1/2 es:\", valores_caso2[0][29])"
      ],
      "metadata": {
        "colab": {
          "base_uri": "https://localhost:8080/"
        },
        "id": "cRdUQLUoyU6j",
        "outputId": "b0cd7d23-48a8-433e-e596-ac62b017007f"
      },
      "execution_count": null,
      "outputs": [
        {
          "output_type": "stream",
          "name": "stdout",
          "text": [
            "valores esperados 1eros 30 días con p= 3/5: ([1.2, 1.92, 2.5919999999999996, 3.8015999999999996, 5.253119999999999, 7.492608, 10.434355199999997, 14.724218879999997, 20.567457791999995, 28.89476997119999, 40.412546334719984, 56.665854443519976, 79.29688039096318, 111.09433639698429, 155.5005894159236, 217.77165864696536, 304.8519887198826, 426.8570065491385, 597.5741202322727, 836.66233910045, 1171.3038464305225, 1639.879057131341, 2295.809211132433, 3214.182273943728, 4499.835432177892, 6299.815185072112, 8819.723027091732, 12347.654432006919, 17286.69932717829, 24201.41821415444], [2.4, 6.24, 15.551999999999998, 39.0528, 97.59743999999999, 244.13183999999993, 610.3019519999998, 1525.8710015999995, 3814.6542796799986, 9536.736028262398, 23841.820004843514, 59604.63830168369, 149011.57809629422, 372529.0239445852, 931322.5441206932, 2328306.431135197, 5820766.0636713, 14551915.223400593, 36379788.04565702, 90949470.1727133, 227373675.42006907, 568434188.603845, 1421085471.4988775, 3552713678.7965713, 8881784196.981556, 22204460492.499462, 55511151231.23954, 138777878078.14102, 346944695195.3443, 867361737988.3998])\n",
            "varianzas para p=3/5\n",
            "[0.96, 2.5536000000000003, 8.833535999999999, 24.60063744, 70.0021702656, 187.99266535833593, 501.42618356023286, 1309.0683799738513, 3391.633959654297, 8701.828296573836, 22208.646103587624, 56393.6192418695, 142723.5828565555, 360187.07236509887, 907142.1108119936, 2280881.935825347, 5727831.328644833, 14369708.319360502, 36022693.21648564, 90249466.30304426, 226001722.71940613, 565744985.281827, 1415814731.564957, 3542382711.106437, 8861535678.064873, 22164772821.133396, 55433363716.96493, 138625413508.16876, 346645865221.716, 866776029344.8234]\n",
            "30\n",
            "valores esperados 1eros 30 días con p= 1/2: ([1.0, 1.5, 1.75, 2.375, 2.875, 3.75, 4.609375, 5.8984375, 7.3046875, 9.25390625, 11.505859375, 14.4951171875, 18.0625, 22.682861328125, 28.30120849609375, 35.474700927734375, 44.294281005859375, 55.46058654785156, 69.27936553955078, 86.68730545043945, 108.31508255004883, 135.47794723510742, 169.30538702011108, 211.71232390403748, 264.60010981559753, 330.8276277780533, 413.4957894682884, 516.9444598257542, 646.1432132869959, 807.751248832792], [2.4, 6.24, 15.551999999999998, 39.0528, 97.59743999999999, 244.13183999999993, 610.3019519999998, 1525.8710015999995, 3814.6542796799986, 9536.736028262398, 23841.820004843514, 59604.63830168369, 149011.57809629422, 372529.0239445852, 931322.5441206932, 2328306.431135197, 5820766.0636713, 14551915.223400593, 36379788.04565702, 90949470.1727133, 227373675.42006907, 568434188.603845, 1421085471.4988775, 3552713678.7965713, 8881784196.981556, 22204460492.499462, 55511151231.23954, 138777878078.14102, 346944695195.3443, 867361737988.3998, 2.0, 4.5, 9.5, 20.375, 43.25, 92.0625, 195.59375, 415.7734375, 883.484375, 1877.52734375, 3989.71484375, 8478.2568359375, 18016.267578125, 38284.67333984375, 81354.90466308594, 172879.27059936523, 367368.4254760742, 780657.9968719482, 1658898.2201690674, 3525158.805957794, 7490962.440635681, 15918295.27044487, 33826377.42867184, 71881052.11651778, 152747235.72745275, 324587875.9983276, 689749236.4770736, 1465717127.5885043, 3114648896.106891, 6618628904.299375])\n",
            "varianzas para p=1/2\n",
            "[1.4, 3.99, 12.489499999999998, 33.412175, 89.33181499999999, 230.06933999999993, 589.0556141093748, 1491.0794366585933, 3761.2958202073423, 9451.101247378609, 23709.43520488624, 59394.529879404334, 148685.32419004422, 372014.5117465542, 930521.5857183539, 2327047.976729285, 5818804.080341474, 14548839.346740361, 36374988.41516745, 90941955.48378703, 227361943.26296124, 568415834.3296579, 1421056807.1848035, 3552668856.6884785, 8881714183.763441, 22204351045.580162, 55510980252.471634, 138777610846.56647, 346944277694.29224, 867361085526.3198]\n",
            "30\n",
            "el valor esperado para el día 30 con p=1/2 es: 807.751248832792\n"
          ]
        }
      ]
    },
    {
      "cell_type": "code",
      "source": [
        "serie_1 = valores_caso1\n",
        "serie_2 = valores_caso2\n",
        "print(serie_1)\n",
        "print(serie_2)\n",
        "#serie_1.std()\n",
        "#print(varianza)\n",
        " \n",
        " \n",
        "numero_de_grupos = len(serie_1)\n",
        "indice_barras = np.arange(numero_de_grupos)\n",
        "ancho_barras =0.35\n",
        "\n",
        "plt.figure(figsize=(20,12))\n",
        "plt.bar(indice_barras, serie_1, width=ancho_barras, label='3/5')\n",
        "plt.bar(indice_barras + ancho_barras, serie_2, width=ancho_barras, label='1/2')\n",
        "plt.legend(loc='best')\n",
        "plt.yscale(\"log\")\n",
        "## Se colocan los indicadores en el eje x\n",
        "\n",
        " \n",
        "plt.ylabel('Valores')\n",
        "plt.xlabel('Dia')\n",
        "plt.title('Valores Esperados por dia')\n",
        "\n",
        " \n",
        "plt.show()\n"
      ],
      "metadata": {
        "id": "Ec6-7hY24_2u",
        "colab": {
          "base_uri": "https://localhost:8080/",
          "height": 788
        },
        "outputId": "952915c2-fcfd-44c5-b66f-8a1eafdd2c9c"
      },
      "execution_count": null,
      "outputs": [
        {
          "output_type": "stream",
          "name": "stdout",
          "text": [
            "[1.2, 1.92, 2.5919999999999996, 3.8015999999999996, 5.253119999999999, 7.492608, 10.434355199999997, 14.724218879999997, 20.567457791999995, 28.89476997119999, 40.412546334719984, 56.665854443519976, 79.29688039096318, 111.09433639698429, 155.5005894159236, 217.77165864696536, 304.8519887198826, 426.8570065491385, 597.5741202322727, 836.66233910045, 1171.3038464305225, 1639.879057131341, 2295.809211132433, 3214.182273943728, 4499.835432177892, 6299.815185072112, 8819.723027091732, 12347.654432006919, 17286.69932717829, 24201.41821415444]\n",
            "[1.0, 1.5, 1.75, 2.375, 2.875, 3.75, 4.609375, 5.8984375, 7.3046875, 9.25390625, 11.505859375, 14.4951171875, 18.0625, 22.682861328125, 28.30120849609375, 35.474700927734375, 44.294281005859375, 55.46058654785156, 69.27936553955078, 86.68730545043945, 108.31508255004883, 135.47794723510742, 169.30538702011108, 211.71232390403748, 264.60010981559753, 330.8276277780533, 413.4957894682884, 516.9444598257542, 646.1432132869959, 807.751248832792]\n"
          ]
        },
        {
          "output_type": "display_data",
          "data": {
            "text/plain": [
              "<Figure size 1440x864 with 1 Axes>"
            ],
            "image/png": "[encoded data removed]"
          },
          "metadata": {
            "needs_background": "light"
          }
        }
      ]
    },
    {
      "cell_type": "code",
      "source": [
        "serie_1 = varianzas_1\n",
        "serie_2 = varianzas_2\n",
        "\n",
        "#serie_1.std()\n",
        "#print(varianza)\n",
        " \n",
        " \n",
        "numero_de_grupos = len(serie_1)\n",
        "indice_barras = np.arange(numero_de_grupos)\n",
        "ancho_barras =0.35\n",
        "\n",
        "plt.figure(figsize=(20,12))\n",
        "plt.bar(indice_barras, serie_1, width=ancho_barras, label='3/5')\n",
        "plt.bar(indice_barras + ancho_barras, serie_2, width=ancho_barras, label='1/2')\n",
        "plt.legend(loc='best')\n",
        "plt.yscale(\"log\")\n",
        "## Se colocan los indicadores en el eje x\n",
        "\n",
        " \n",
        "plt.ylabel('Valores')\n",
        "plt.xlabel('Dias')\n",
        "plt.title('Varianzas por dia')\n",
        "\n",
        " \n",
        "plt.show()"
      ],
      "metadata": {
        "colab": {
          "base_uri": "https://localhost:8080/",
          "height": 788
        },
        "id": "zaCXy51fZJKq",
        "outputId": "57c5143f-1666-48f2-9a03-9c08d2aed391"
      },
      "execution_count": null,
      "outputs": [
        {
          "output_type": "stream",
          "name": "stdout",
          "text": [
            "[0.96, 2.5536000000000003, 8.833535999999999, 24.60063744, 70.0021702656, 187.99266535833593, 501.42618356023286, 1309.0683799738513, 3391.633959654297, 8701.828296573836, 22208.646103587624, 56393.6192418695, 142723.5828565555, 360187.07236509887, 907142.1108119936, 2280881.935825347, 5727831.328644833, 14369708.319360502, 36022693.21648564, 90249466.30304426, 226001722.71940613, 565744985.281827, 1415814731.564957, 3542382711.106437, 8861535678.064873, 22164772821.133396, 55433363716.96493, 138625413508.16876, 346645865221.716, 866776029344.8234]\n",
            "[1.4, 3.99, 12.489499999999998, 33.412175, 89.33181499999999, 230.06933999999993, 589.0556141093748, 1491.0794366585933, 3761.2958202073423, 9451.101247378609, 23709.43520488624, 59394.529879404334, 148685.32419004422, 372014.5117465542, 930521.5857183539, 2327047.976729285, 5818804.080341474, 14548839.346740361, 36374988.41516745, 90941955.48378703, 227361943.26296124, 568415834.3296579, 1421056807.1848035, 3552668856.6884785, 8881714183.763441, 22204351045.580162, 55510980252.471634, 138777610846.56647, 346944277694.29224, 867361085526.3198]\n"
          ]
        },
        {
          "output_type": "display_data",
          "data": {
            "text/plain": [
              "<Figure size 1440x864 with 1 Axes>"
            ],
            "image/png": "[encoded data removed]"
          },
          "metadata": {
            "needs_background": "light"
          }
        }
      ]
    },
    {
      "cell_type": "markdown",
      "source": [
        "**Conclusiones**\n",
        "Se observa que para la distribucion de valores esperados para p=3/5 es mayor a la de p=1/2, lo cual tiene sentido, ya que su probabilidad de que se duplique la moneda es más probable, por ende tiene mas posibilidades que p=1/2.En torno a su varianza se ve que esta representa grandes valores lo cual tiene sentido, ya que al alcanzar grandes valores esperados, la varianza por consecuencia tambien alcanzaria grandes valores, ademas se ve que son casi iguales para p=3/5 con p=1/2 para mayores valores esperados, solo que cada vez se van alejando poco a poco. \n"
      ],
      "metadata": {
        "id": "8LJcP4G0F4YN"
      }
    },
    {
      "cell_type": "markdown",
      "source": [
        "# **Pregunta 4**"
      ],
      "metadata": {
        "id": "u425q90jqjKm"
      }
    },
    {
      "cell_type": "code",
      "source": [
        "num=30\n",
        "lista_val=[]\n",
        "lista_val_var=[]\n",
        "def estaca5(n):\n",
        "    if n==0:\n",
        "        return 1\n",
        "    elif random.randint(1,5) <= 3:\n",
        "        potencia=(math.log(estaca5(n-1),2)+1)\n",
        "        multiplicacion=1*2**potencia\n",
        "        lista_val.append(multiplicacion*0.6)\n",
        "        lista_val_var.append(((multiplicacion**2)*0.6)-((multiplicacion*0.6)**2))\n",
        "        return multiplicacion\n",
        "    else:\n",
        "        potencia=(math.log(estaca5(n-1),2)-1)\n",
        "        multiplicacion=1*2**potencia\n",
        "        lista_val.append(multiplicacion*0.4)\n",
        "        lista_val_var.append(((multiplicacion**2)*0.4)-((multiplicacion*0.4)**2))\n",
        "        return multiplicacion\n",
        "\n",
        "lista_p_unmedio=[]\n",
        "lista_p_unmedio_var=[]\n",
        "def estaca6(n):\n",
        "    if n==0:\n",
        "        return 1\n",
        "    elif random.randint(1,2) == 1:\n",
        "        potencia=(math.log(estaca6(n-1),2)+1)\n",
        "        multiplicacion=1*2**potencia\n",
        "        lista_p_unmedio.append(multiplicacion*0.5)\n",
        "        lista_p_unmedio_var.append((((multiplicacion**2)*0.5)-((multiplicacion*0.5)**2)))\n",
        "        return multiplicacion\n",
        "    else:\n",
        "        potencia=(math.log(estaca6(n-1),2)-1)\n",
        "        multiplicacion=1*2**potencia\n",
        "        lista_p_unmedio.append(multiplicacion*0.5)\n",
        "        lista_p_unmedio_var.append((((multiplicacion**2)*0.5)-((multiplicacion*0.5)**2)))\n",
        "        return multiplicacion\n",
        "\n",
        "frec=pd.value_counts(lista_val)\n",
        "\n",
        "\n",
        "\n",
        "\n",
        "suma_val =[]\n",
        "suma_val_var =[]\n",
        "suma_p_unmedio =[]\n",
        "suma_p_unmedio_var =[]\n",
        "\n",
        "for a in range(30):\n",
        "  suma_val.append(0)\n",
        "  suma_val_var.append(0)\n",
        "  suma_p_unmedio.append(0)\n",
        "  suma_p_unmedio_var.append(0)\n",
        "\n",
        "grandes_numeros = 100000\n",
        "i = 0\n",
        "while grandes_numeros > i:\n",
        "  estaca5(num)\n",
        "  estaca6(num)\n",
        "  for b in range(30):\n",
        "    suma_val[b] = suma_val[b]+lista_val[b]\n",
        "    suma_val_var[b] = suma_val_var[b]+lista_val_var[b]\n",
        "    suma_p_unmedio[b] = suma_p_unmedio[b]+lista_p_unmedio[b]\n",
        "    suma_p_unmedio_var[b] = suma_p_unmedio_var[b]+lista_p_unmedio_var[b]\n",
        "  i += 1\n",
        "   \n",
        "\n",
        "\n",
        "\n",
        "i = 0  \n",
        "while 30 > i:\n",
        "  suma_val[i] = suma_val[i]/grandes_numeros\n",
        "  suma_val_var[i] = suma_val_var[i]/grandes_numeros\n",
        "  suma_p_unmedio[i] = suma_p_unmedio[i]/grandes_numeros\n",
        "  suma_p_unmedio_var[i] = suma_p_unmedio_var[i]/grandes_numeros\n",
        "  i += 1 \n",
        "\n",
        "print(\"valores esperados primeros 30 dias por simulación, para p = 3/5\",suma_val)\n",
        "print(\"varianza de estos valores\", suma_val_var)\n",
        "print(\"valores esperados primeros 30 dias por simulación, para p = 1/2\", suma_p_unmedio)\n",
        "print(\"varianza de estos valores\", suma_p_unmedio_var)"
      ],
      "metadata": {
        "id": "xJNQ-yF94_Pb",
        "colab": {
          "base_uri": "https://localhost:8080/"
        },
        "outputId": "274a2bd7-7ddf-4ad1-8673-73d4f5958888"
      },
      "execution_count": null,
      "outputs": [
        {
          "output_type": "stream",
          "name": "stdout",
          "text": [
            "valores esperados primeros 30 dias por simulación, para p = 3/5 [1.1999999999980246, 2.3999999999960493, 4.799999999992099, 9.599999999984197, 19.199999999968394, 6.400000000012063, 19.199999999968394, 6.400000000012063, 3.2000000000060314, 1.6000000000030157, 0.8000000000015078, 2.3999999999960493, 0.8000000000015078, 2.3999999999960493, 4.799999999992099, 1.6000000000030157, 4.799999999992099, 9.599999999984197, 3.2000000000060314, 9.599999999984197, 19.199999999968394, 38.39999999993679, 76.79999999987358, 25.60000000004825, 76.79999999987358, 25.60000000004825, 12.800000000024125, 38.39999999993679, 76.79999999987358, 25.60000000004825]\n",
            "varianza de estos valores [0.9600000000015132, 3.840000000006053, 15.360000000024211, 61.440000000096845, 245.76000000038738, 61.440000000096845, 245.76000000038738, 61.440000000096845, 15.360000000024211, 3.840000000006053, 0.9600000000015132, 3.840000000006053, 0.9600000000015132, 3.840000000006053, 15.360000000024211, 3.840000000006053, 15.360000000024211, 61.440000000096845, 15.360000000024211, 61.440000000096845, 245.76000000038738, 983.0400000015495, 3932.160000006198, 983.0400000015495, 3932.160000006198, 983.0400000015495, 245.76000000038738, 983.0400000015495, 3932.160000006198, 983.0400000015495]\n",
            "valores esperados primeros 30 dias por simulación, para p = 1/2 [0.25, 0.125, 0.25, 0.125, 0.25, 0.5, 1.0, 0.5, 1.0, 2.0, 1.0, 0.5, 0.25, 0.125, 0.25, 0.5, 0.25, 0.5, 0.25, 0.125, 0.0625, 0.03125, 0.015625, 0.03125, 0.015625, 0.03125, 0.015625, 0.0078125, 0.00390625, 0.001953125]\n",
            "varianza de estos valores [0.0625, 0.015625, 0.0625, 0.015625, 0.0625, 0.25, 1.0, 0.25, 1.0, 4.0, 1.0, 0.25, 0.0625, 0.015625, 0.0625, 0.25, 0.0625, 0.25, 0.0625, 0.015625, 0.00390625, 0.0009765625, 0.000244140625, 0.0009765625, 0.000244140625, 0.0009765625, 0.000244140625, 6.103515625e-05, 1.52587890625e-05, 3.814697265625e-06]\n"
          ]
        }
      ]
    },
    {
      "cell_type": "markdown",
      "source": [
        "# **Pregunta 5**"
      ],
      "metadata": {
        "id": "BtStGuz9epva"
      }
    },
    {
      "cell_type": "code",
      "source": [
        "dias_que_pierda = 8\n",
        "'''\n",
        "fact = (math.factorial(30)/(math.factorial(dias_que_pierda) * math.factorial(30-dias_que_pierda)))\n",
        "prob1 = (3/5)**(30-dias_que_pierda)\n",
        "prob2= (2/5)**(dias_que_pierda)\n",
        "prob_ganar = fact * prob1 * prob2\n",
        "'''\n",
        "l = []\n",
        "while dias_que_pierda >= 0:\n",
        "  fact = (math.factorial(30)/(math.factorial(dias_que_pierda) * math.factorial(30-dias_que_pierda)))\n",
        "  prob1 = (3/5)**(30-dias_que_pierda)\n",
        "  prob2= (2/5)**(dias_que_pierda)\n",
        "  prob_ganar = fact * prob1 * prob2\n",
        "  l.append(round(prob_ganar,7))\n",
        "  dias_que_pierda -= 1\n",
        "print(l)\n",
        "\n",
        "sum_l = sum(l)\n",
        "\n",
        "prob_perder = 1 - sum_l\n",
        "print(\"Probabilidad perder dinero: \", round(prob_perder,3))"
      ],
      "metadata": {
        "colab": {
          "base_uri": "https://localhost:8080/"
        },
        "id": "lP87W5v4esyT",
        "outputId": "8ce472e7-9f73-465d-9f98-96d95adefc51"
      },
      "execution_count": null,
      "outputs": [
        {
          "output_type": "stream",
          "name": "stdout",
          "text": [
            "[0.0504871, 0.0263411, 0.0115242, 0.0041487, 0.0011967, 0.0002659, 4.27e-05, 4.4e-06, 2e-07]\n",
            "Probabilidad perder dinero:  0.906\n"
          ]
        }
      ]
    },
    {
      "cell_type": "markdown",
      "source": [
        "\n",
        "No convendria comprar una moneda si se debe vender despues del primer mes, ya que la probabilidad de perder dinero es muy alta (91%) comparada a la probabilidad de ganar dinero (9%), por lo que como se dijo, no seria una buena inversion comprarla.\n",
        "\n",
        "Para esta pregunta nos faltaron simulaciones, pero segun teoria en la mayoria de ellas, segun las probabilidades, la persona debio haber perdido dinero."
      ],
      "metadata": {
        "id": "dImOewYKMYhE"
      }
    },
    {
      "cell_type": "code",
      "source": [
        "def estaca9(n):\n",
        "    if n==0:\n",
        "        return 1\n",
        "    elif random.randint(1,5) <= 3:\n",
        "        potencia=(math.log(estaca9(n-1),2)+1)\n",
        "        multiplicacion=1*2**potencia\n",
        "        multiplicacion2 = 1*2**potencia * 0.25\n",
        "        valor_esperado = multiplicacion * 0.6 + multiplicacion2 * 0.4\n",
        "        l_ve.append(valor_esperado)\n",
        "        return multiplicacion\n",
        "    else:\n",
        "        potencia=(math.log(estaca9(n-1),2)-1)\n",
        "        multiplicacion=1*2**potencia\n",
        "        multiplicacion2 = multiplicacion * 4\n",
        "        valor_esperado = multiplicacion * 0.6 + multiplicacion2 * 0.4     \n",
        "        l_ve.append(valor_esperado)   \n",
        "        return multiplicacion\n",
        "        \n",
        "\n",
        "l = []\n",
        "l_ve = []\n",
        "for i in range(30):\n",
        "  l.append(estaca9(30))\n",
        "  print(i, \": \",l_ve)\n",
        "\n",
        "#print(l)\n",
        "#print(l_ve)\n",
        "print(stat.mean(l_ve))\n"
      ],
      "metadata": {
        "id": "Qg3S6CQghPAI",
        "colab": {
          "base_uri": "https://localhost:8080/"
        },
        "outputId": "d251507e-d336-4e28-988d-d38ea69b572f"
      },
      "execution_count": null,
      "outputs": [
        {
          "output_type": "stream",
          "name": "stdout",
          "text": [
            "0 :  [1.4, 2.8, 5.6, 11.2, 22.4, 44.8, 89.6, 179.2, 281.6, 179.2, 358.4, 563.2, 281.6, 140.8, 70.4, 44.8, 70.4, 44.8, 70.4, 35.2, 22.4, 35.2, 22.4, 35.2, 17.6, 8.8, 5.6, 11.2, 17.6, 8.8]\n",
            "1 :  [1.4, 2.8, 5.6, 11.2, 22.4, 44.8, 89.6, 179.2, 281.6, 179.2, 358.4, 563.2, 281.6, 140.8, 70.4, 44.8, 70.4, 44.8, 70.4, 35.2, 22.4, 35.2, 22.4, 35.2, 17.6, 8.8, 5.6, 11.2, 17.6, 8.8, 1.1, 0.7, 1.1, 0.55, 0.275, 0.175, 0.35, 0.7, 1.1, 0.55, 0.275, 0.175, 0.275, 0.175, 0.35, 0.55, 0.35, 0.7, 1.4, 2.8, 5.6, 8.8, 5.6, 11.2, 17.6, 11.2, 22.4, 44.8, 89.6, 179.2]\n",
            "2 :  [1.4, 2.8, 5.6, 11.2, 22.4, 44.8, 89.6, 179.2, 281.6, 179.2, 358.4, 563.2, 281.6, 140.8, 70.4, 44.8, 70.4, 44.8, 70.4, 35.2, 22.4, 35.2, 22.4, 35.2, 17.6, 8.8, 5.6, 11.2, 17.6, 8.8, 1.1, 0.7, 1.1, 0.55, 0.275, 0.175, 0.35, 0.7, 1.1, 0.55, 0.275, 0.175, 0.275, 0.175, 0.35, 0.55, 0.35, 0.7, 1.4, 2.8, 5.6, 8.8, 5.6, 11.2, 17.6, 11.2, 22.4, 44.8, 89.6, 179.2, 1.4, 2.8, 5.6, 8.8, 5.6, 11.2, 22.4, 44.8, 70.4, 35.2, 22.4, 35.2, 17.6, 11.2, 17.6, 11.2, 22.4, 44.8, 89.6, 140.8, 70.4, 35.2, 22.4, 35.2, 22.4, 35.2, 22.4, 44.8, 70.4, 44.8]\n",
            "3 :  [1.4, 2.8, 5.6, 11.2, 22.4, 44.8, 89.6, 179.2, 281.6, 179.2, 358.4, 563.2, 281.6, 140.8, 70.4, 44.8, 70.4, 44.8, 70.4, 35.2, 22.4, 35.2, 22.4, 35.2, 17.6, 8.8, 5.6, 11.2, 17.6, 8.8, 1.1, 0.7, 1.1, 0.55, 0.275, 0.175, 0.35, 0.7, 1.1, 0.55, 0.275, 0.175, 0.275, 0.175, 0.35, 0.55, 0.35, 0.7, 1.4, 2.8, 5.6, 8.8, 5.6, 11.2, 17.6, 11.2, 22.4, 44.8, 89.6, 179.2, 1.4, 2.8, 5.6, 8.8, 5.6, 11.2, 22.4, 44.8, 70.4, 35.2, 22.4, 35.2, 17.6, 11.2, 17.6, 11.2, 22.4, 44.8, 89.6, 140.8, 70.4, 35.2, 22.4, 35.2, 22.4, 35.2, 22.4, 44.8, 70.4, 44.8, 1.4, 2.8, 4.4, 2.2, 1.4, 2.8, 4.4, 2.2, 1.4, 2.2, 1.4, 2.8, 5.6, 11.2, 22.4, 35.2, 22.4, 35.2, 17.6, 11.2, 22.4, 44.8, 89.6, 140.8, 89.6, 140.8, 89.6, 140.8, 70.4, 35.2]\n",
            "4 :  [1.4, 2.8, 5.6, 11.2, 22.4, 44.8, 89.6, 179.2, 281.6, 179.2, 358.4, 563.2, 281.6, 140.8, 70.4, 44.8, 70.4, 44.8, 70.4, 35.2, 22.4, 35.2, 22.4, 35.2, 17.6, 8.8, 5.6, 11.2, 17.6, 8.8, 1.1, 0.7, 1.1, 0.55, 0.275, 0.175, 0.35, 0.7, 1.1, 0.55, 0.275, 0.175, 0.275, 0.175, 0.35, 0.55, 0.35, 0.7, 1.4, 2.8, 5.6, 8.8, 5.6, 11.2, 17.6, 11.2, 22.4, 44.8, 89.6, 179.2, 1.4, 2.8, 5.6, 8.8, 5.6, 11.2, 22.4, 44.8, 70.4, 35.2, 22.4, 35.2, 17.6, 11.2, 17.6, 11.2, 22.4, 44.8, 89.6, 140.8, 70.4, 35.2, 22.4, 35.2, 22.4, 35.2, 22.4, 44.8, 70.4, 44.8, 1.4, 2.8, 4.4, 2.2, 1.4, 2.8, 4.4, 2.2, 1.4, 2.2, 1.4, 2.8, 5.6, 11.2, 22.4, 35.2, 22.4, 35.2, 17.6, 11.2, 22.4, 44.8, 89.6, 140.8, 89.6, 140.8, 89.6, 140.8, 70.4, 35.2, 1.4, 2.8, 5.6, 11.2, 22.4, 35.2, 22.4, 44.8, 70.4, 35.2, 17.6, 11.2, 17.6, 11.2, 17.6, 11.2, 17.6, 11.2, 22.4, 35.2, 22.4, 44.8, 89.6, 179.2, 281.6, 179.2, 358.4, 716.8, 1433.6, 2867.2]\n",
            "5 :  [1.4, 2.8, 5.6, 11.2, 22.4, 44.8, 89.6, 179.2, 281.6, 179.2, 358.4, 563.2, 281.6, 140.8, 70.4, 44.8, 70.4, 44.8, 70.4, 35.2, 22.4, 35.2, 22.4, 35.2, 17.6, 8.8, 5.6, 11.2, 17.6, 8.8, 1.1, 0.7, 1.1, 0.55, 0.275, 0.175, 0.35, 0.7, 1.1, 0.55, 0.275, 0.175, 0.275, 0.175, 0.35, 0.55, 0.35, 0.7, 1.4, 2.8, 5.6, 8.8, 5.6, 11.2, 17.6, 11.2, 22.4, 44.8, 89.6, 179.2, 1.4, 2.8, 5.6, 8.8, 5.6, 11.2, 22.4, 44.8, 70.4, 35.2, 22.4, 35.2, 17.6, 11.2, 17.6, 11.2, 22.4, 44.8, 89.6, 140.8, 70.4, 35.2, 22.4, 35.2, 22.4, 35.2, 22.4, 44.8, 70.4, 44.8, 1.4, 2.8, 4.4, 2.2, 1.4, 2.8, 4.4, 2.2, 1.4, 2.2, 1.4, 2.8, 5.6, 11.2, 22.4, 35.2, 22.4, 35.2, 17.6, 11.2, 22.4, 44.8, 89.6, 140.8, 89.6, 140.8, 89.6, 140.8, 70.4, 35.2, 1.4, 2.8, 5.6, 11.2, 22.4, 35.2, 22.4, 44.8, 70.4, 35.2, 17.6, 11.2, 17.6, 11.2, 17.6, 11.2, 17.6, 11.2, 22.4, 35.2, 22.4, 44.8, 89.6, 179.2, 281.6, 179.2, 358.4, 716.8, 1433.6, 2867.2, 1.4, 2.2, 1.1, 0.7, 1.4, 2.8, 5.6, 8.8, 5.6, 11.2, 22.4, 35.2, 22.4, 44.8, 89.6, 179.2, 358.4, 716.8, 1433.6, 2252.8, 1126.4, 716.8, 1126.4, 716.8, 1433.6, 2252.8, 1126.4, 716.8, 1433.6, 2867.2]\n",
            "6 :  [1.4, 2.8, 5.6, 11.2, 22.4, 44.8, 89.6, 179.2, 281.6, 179.2, 358.4, 563.2, 281.6, 140.8, 70.4, 44.8, 70.4, 44.8, 70.4, 35.2, 22.4, 35.2, 22.4, 35.2, 17.6, 8.8, 5.6, 11.2, 17.6, 8.8, 1.1, 0.7, 1.1, 0.55, 0.275, 0.175, 0.35, 0.7, 1.1, 0.55, 0.275, 0.175, 0.275, 0.175, 0.35, 0.55, 0.35, 0.7, 1.4, 2.8, 5.6, 8.8, 5.6, 11.2, 17.6, 11.2, 22.4, 44.8, 89.6, 179.2, 1.4, 2.8, 5.6, 8.8, 5.6, 11.2, 22.4, 44.8, 70.4, 35.2, 22.4, 35.2, 17.6, 11.2, 17.6, 11.2, 22.4, 44.8, 89.6, 140.8, 70.4, 35.2, 22.4, 35.2, 22.4, 35.2, 22.4, 44.8, 70.4, 44.8, 1.4, 2.8, 4.4, 2.2, 1.4, 2.8, 4.4, 2.2, 1.4, 2.2, 1.4, 2.8, 5.6, 11.2, 22.4, 35.2, 22.4, 35.2, 17.6, 11.2, 22.4, 44.8, 89.6, 140.8, 89.6, 140.8, 89.6, 140.8, 70.4, 35.2, 1.4, 2.8, 5.6, 11.2, 22.4, 35.2, 22.4, 44.8, 70.4, 35.2, 17.6, 11.2, 17.6, 11.2, 17.6, 11.2, 17.6, 11.2, 22.4, 35.2, 22.4, 44.8, 89.6, 179.2, 281.6, 179.2, 358.4, 716.8, 1433.6, 2867.2, 1.4, 2.2, 1.1, 0.7, 1.4, 2.8, 5.6, 8.8, 5.6, 11.2, 22.4, 35.2, 22.4, 44.8, 89.6, 179.2, 358.4, 716.8, 1433.6, 2252.8, 1126.4, 716.8, 1126.4, 716.8, 1433.6, 2252.8, 1126.4, 716.8, 1433.6, 2867.2, 1.4, 2.8, 5.6, 8.8, 5.6, 8.8, 4.4, 2.2, 1.4, 2.8, 5.6, 11.2, 17.6, 11.2, 17.6, 8.8, 4.4, 2.8, 5.6, 11.2, 17.6, 11.2, 17.6, 8.8, 5.6, 8.8, 4.4, 2.2, 1.1, 0.7]\n",
            "7 :  [1.4, 2.8, 5.6, 11.2, 22.4, 44.8, 89.6, 179.2, 281.6, 179.2, 358.4, 563.2, 281.6, 140.8, 70.4, 44.8, 70.4, 44.8, 70.4, 35.2, 22.4, 35.2, 22.4, 35.2, 17.6, 8.8, 5.6, 11.2, 17.6, 8.8, 1.1, 0.7, 1.1, 0.55, 0.275, 0.175, 0.35, 0.7, 1.1, 0.55, 0.275, 0.175, 0.275, 0.175, 0.35, 0.55, 0.35, 0.7, 1.4, 2.8, 5.6, 8.8, 5.6, 11.2, 17.6, 11.2, 22.4, 44.8, 89.6, 179.2, 1.4, 2.8, 5.6, 8.8, 5.6, 11.2, 22.4, 44.8, 70.4, 35.2, 22.4, 35.2, 17.6, 11.2, 17.6, 11.2, 22.4, 44.8, 89.6, 140.8, 70.4, 35.2, 22.4, 35.2, 22.4, 35.2, 22.4, 44.8, 70.4, 44.8, 1.4, 2.8, 4.4, 2.2, 1.4, 2.8, 4.4, 2.2, 1.4, 2.2, 1.4, 2.8, 5.6, 11.2, 22.4, 35.2, 22.4, 35.2, 17.6, 11.2, 22.4, 44.8, 89.6, 140.8, 89.6, 140.8, 89.6, 140.8, 70.4, 35.2, 1.4, 2.8, 5.6, 11.2, 22.4, 35.2, 22.4, 44.8, 70.4, 35.2, 17.6, 11.2, 17.6, 11.2, 17.6, 11.2, 17.6, 11.2, 22.4, 35.2, 22.4, 44.8, 89.6, 179.2, 281.6, 179.2, 358.4, 716.8, 1433.6, 2867.2, 1.4, 2.2, 1.1, 0.7, 1.4, 2.8, 5.6, 8.8, 5.6, 11.2, 22.4, 35.2, 22.4, 44.8, 89.6, 179.2, 358.4, 716.8, 1433.6, 2252.8, 1126.4, 716.8, 1126.4, 716.8, 1433.6, 2252.8, 1126.4, 716.8, 1433.6, 2867.2, 1.4, 2.8, 5.6, 8.8, 5.6, 8.8, 4.4, 2.2, 1.4, 2.8, 5.6, 11.2, 17.6, 11.2, 17.6, 8.8, 4.4, 2.8, 5.6, 11.2, 17.6, 11.2, 17.6, 8.8, 5.6, 8.8, 4.4, 2.2, 1.1, 0.7, 1.4, 2.8, 5.6, 8.8, 5.6, 11.2, 17.6, 11.2, 22.4, 35.2, 22.4, 44.8, 89.6, 179.2, 358.4, 716.8, 1126.4, 563.2, 358.4, 716.8, 1433.6, 2867.2, 4505.6, 2252.8, 1433.6, 2867.2, 5734.4, 9011.2, 4505.6, 2252.8]\n",
            "8 :  [1.4, 2.8, 5.6, 11.2, 22.4, 44.8, 89.6, 179.2, 281.6, 179.2, 358.4, 563.2, 281.6, 140.8, 70.4, 44.8, 70.4, 44.8, 70.4, 35.2, 22.4, 35.2, 22.4, 35.2, 17.6, 8.8, 5.6, 11.2, 17.6, 8.8, 1.1, 0.7, 1.1, 0.55, 0.275, 0.175, 0.35, 0.7, 1.1, 0.55, 0.275, 0.175, 0.275, 0.175, 0.35, 0.55, 0.35, 0.7, 1.4, 2.8, 5.6, 8.8, 5.6, 11.2, 17.6, 11.2, 22.4, 44.8, 89.6, 179.2, 1.4, 2.8, 5.6, 8.8, 5.6, 11.2, 22.4, 44.8, 70.4, 35.2, 22.4, 35.2, 17.6, 11.2, 17.6, 11.2, 22.4, 44.8, 89.6, 140.8, 70.4, 35.2, 22.4, 35.2, 22.4, 35.2, 22.4, 44.8, 70.4, 44.8, 1.4, 2.8, 4.4, 2.2, 1.4, 2.8, 4.4, 2.2, 1.4, 2.2, 1.4, 2.8, 5.6, 11.2, 22.4, 35.2, 22.4, 35.2, 17.6, 11.2, 22.4, 44.8, 89.6, 140.8, 89.6, 140.8, 89.6, 140.8, 70.4, 35.2, 1.4, 2.8, 5.6, 11.2, 22.4, 35.2, 22.4, 44.8, 70.4, 35.2, 17.6, 11.2, 17.6, 11.2, 17.6, 11.2, 17.6, 11.2, 22.4, 35.2, 22.4, 44.8, 89.6, 179.2, 281.6, 179.2, 358.4, 716.8, 1433.6, 2867.2, 1.4, 2.2, 1.1, 0.7, 1.4, 2.8, 5.6, 8.8, 5.6, 11.2, 22.4, 35.2, 22.4, 44.8, 89.6, 179.2, 358.4, 716.8, 1433.6, 2252.8, 1126.4, 716.8, 1126.4, 716.8, 1433.6, 2252.8, 1126.4, 716.8, 1433.6, 2867.2, 1.4, 2.8, 5.6, 8.8, 5.6, 8.8, 4.4, 2.2, 1.4, 2.8, 5.6, 11.2, 17.6, 11.2, 17.6, 8.8, 4.4, 2.8, 5.6, 11.2, 17.6, 11.2, 17.6, 8.8, 5.6, 8.8, 4.4, 2.2, 1.1, 0.7, 1.4, 2.8, 5.6, 8.8, 5.6, 11.2, 17.6, 11.2, 22.4, 35.2, 22.4, 44.8, 89.6, 179.2, 358.4, 716.8, 1126.4, 563.2, 358.4, 716.8, 1433.6, 2867.2, 4505.6, 2252.8, 1433.6, 2867.2, 5734.4, 9011.2, 4505.6, 2252.8, 1.4, 2.2, 1.1, 0.7, 1.1, 0.7, 1.1, 0.55, 0.275, 0.1375, 0.06875, 0.034375, 0.0171875, 0.0109375, 0.0171875, 0.0109375, 0.0171875, 0.00859375, 0.004296875, 0.002734375, 0.00546875, 0.0109375, 0.021875, 0.04375, 0.0875, 0.175, 0.275, 0.1375, 0.0875, 0.175]\n",
            "9 :  [1.4, 2.8, 5.6, 11.2, 22.4, 44.8, 89.6, 179.2, 281.6, 179.2, 358.4, 563.2, 281.6, 140.8, 70.4, 44.8, 70.4, 44.8, 70.4, 35.2, 22.4, 35.2, 22.4, 35.2, 17.6, 8.8, 5.6, 11.2, 17.6, 8.8, 1.1, 0.7, 1.1, 0.55, 0.275, 0.175, 0.35, 0.7, 1.1, 0.55, 0.275, 0.175, 0.275, 0.175, 0.35, 0.55, 0.35, 0.7, 1.4, 2.8, 5.6, 8.8, 5.6, 11.2, 17.6, 11.2, 22.4, 44.8, 89.6, 179.2, 1.4, 2.8, 5.6, 8.8, 5.6, 11.2, 22.4, 44.8, 70.4, 35.2, 22.4, 35.2, 17.6, 11.2, 17.6, 11.2, 22.4, 44.8, 89.6, 140.8, 70.4, 35.2, 22.4, 35.2, 22.4, 35.2, 22.4, 44.8, 70.4, 44.8, 1.4, 2.8, 4.4, 2.2, 1.4, 2.8, 4.4, 2.2, 1.4, 2.2, 1.4, 2.8, 5.6, 11.2, 22.4, 35.2, 22.4, 35.2, 17.6, 11.2, 22.4, 44.8, 89.6, 140.8, 89.6, 140.8, 89.6, 140.8, 70.4, 35.2, 1.4, 2.8, 5.6, 11.2, 22.4, 35.2, 22.4, 44.8, 70.4, 35.2, 17.6, 11.2, 17.6, 11.2, 17.6, 11.2, 17.6, 11.2, 22.4, 35.2, 22.4, 44.8, 89.6, 179.2, 281.6, 179.2, 358.4, 716.8, 1433.6, 2867.2, 1.4, 2.2, 1.1, 0.7, 1.4, 2.8, 5.6, 8.8, 5.6, 11.2, 22.4, 35.2, 22.4, 44.8, 89.6, 179.2, 358.4, 716.8, 1433.6, 2252.8, 1126.4, 716.8, 1126.4, 716.8, 1433.6, 2252.8, 1126.4, 716.8, 1433.6, 2867.2, 1.4, 2.8, 5.6, 8.8, 5.6, 8.8, 4.4, 2.2, 1.4, 2.8, 5.6, 11.2, 17.6, 11.2, 17.6, 8.8, 4.4, 2.8, 5.6, 11.2, 17.6, 11.2, 17.6, 8.8, 5.6, 8.8, 4.4, 2.2, 1.1, 0.7, 1.4, 2.8, 5.6, 8.8, 5.6, 11.2, 17.6, 11.2, 22.4, 35.2, 22.4, 44.8, 89.6, 179.2, 358.4, 716.8, 1126.4, 563.2, 358.4, 716.8, 1433.6, 2867.2, 4505.6, 2252.8, 1433.6, 2867.2, 5734.4, 9011.2, 4505.6, 2252.8, 1.4, 2.2, 1.1, 0.7, 1.1, 0.7, 1.1, 0.55, 0.275, 0.1375, 0.06875, 0.034375, 0.0171875, 0.0109375, 0.0171875, 0.0109375, 0.0171875, 0.00859375, 0.004296875, 0.002734375, 0.00546875, 0.0109375, 0.021875, 0.04375, 0.0875, 0.175, 0.275, 0.1375, 0.0875, 0.175, 1.4, 2.2, 1.4, 2.8, 5.6, 11.2, 22.4, 44.8, 70.4, 44.8, 89.6, 179.2, 358.4, 563.2, 358.4, 716.8, 1433.6, 2252.8, 1433.6, 2252.8, 1433.6, 2867.2, 4505.6, 2867.2, 4505.6, 2867.2, 4505.6, 2252.8, 1126.4, 716.8]\n",
            "10 :  [1.4, 2.8, 5.6, 11.2, 22.4, 44.8, 89.6, 179.2, 281.6, 179.2, 358.4, 563.2, 281.6, 140.8, 70.4, 44.8, 70.4, 44.8, 70.4, 35.2, 22.4, 35.2, 22.4, 35.2, 17.6, 8.8, 5.6, 11.2, 17.6, 8.8, 1.1, 0.7, 1.1, 0.55, 0.275, 0.175, 0.35, 0.7, 1.1, 0.55, 0.275, 0.175, 0.275, 0.175, 0.35, 0.55, 0.35, 0.7, 1.4, 2.8, 5.6, 8.8, 5.6, 11.2, 17.6, 11.2, 22.4, 44.8, 89.6, 179.2, 1.4, 2.8, 5.6, 8.8, 5.6, 11.2, 22.4, 44.8, 70.4, 35.2, 22.4, 35.2, 17.6, 11.2, 17.6, 11.2, 22.4, 44.8, 89.6, 140.8, 70.4, 35.2, 22.4, 35.2, 22.4, 35.2, 22.4, 44.8, 70.4, 44.8, 1.4, 2.8, 4.4, 2.2, 1.4, 2.8, 4.4, 2.2, 1.4, 2.2, 1.4, 2.8, 5.6, 11.2, 22.4, 35.2, 22.4, 35.2, 17.6, 11.2, 22.4, 44.8, 89.6, 140.8, 89.6, 140.8, 89.6, 140.8, 70.4, 35.2, 1.4, 2.8, 5.6, 11.2, 22.4, 35.2, 22.4, 44.8, 70.4, 35.2, 17.6, 11.2, 17.6, 11.2, 17.6, 11.2, 17.6, 11.2, 22.4, 35.2, 22.4, 44.8, 89.6, 179.2, 281.6, 179.2, 358.4, 716.8, 1433.6, 2867.2, 1.4, 2.2, 1.1, 0.7, 1.4, 2.8, 5.6, 8.8, 5.6, 11.2, 22.4, 35.2, 22.4, 44.8, 89.6, 179.2, 358.4, 716.8, 1433.6, 2252.8, 1126.4, 716.8, 1126.4, 716.8, 1433.6, 2252.8, 1126.4, 716.8, 1433.6, 2867.2, 1.4, 2.8, 5.6, 8.8, 5.6, 8.8, 4.4, 2.2, 1.4, 2.8, 5.6, 11.2, 17.6, 11.2, 17.6, 8.8, 4.4, 2.8, 5.6, 11.2, 17.6, 11.2, 17.6, 8.8, 5.6, 8.8, 4.4, 2.2, 1.1, 0.7, 1.4, 2.8, 5.6, 8.8, 5.6, 11.2, 17.6, 11.2, 22.4, 35.2, 22.4, 44.8, 89.6, 179.2, 358.4, 716.8, 1126.4, 563.2, 358.4, 716.8, 1433.6, 2867.2, 4505.6, 2252.8, 1433.6, 2867.2, 5734.4, 9011.2, 4505.6, 2252.8, 1.4, 2.2, 1.1, 0.7, 1.1, 0.7, 1.1, 0.55, 0.275, 0.1375, 0.06875, 0.034375, 0.0171875, 0.0109375, 0.0171875, 0.0109375, 0.0171875, 0.00859375, 0.004296875, 0.002734375, 0.00546875, 0.0109375, 0.021875, 0.04375, 0.0875, 0.175, 0.275, 0.1375, 0.0875, 0.175, 1.4, 2.2, 1.4, 2.8, 5.6, 11.2, 22.4, 44.8, 70.4, 44.8, 89.6, 179.2, 358.4, 563.2, 358.4, 716.8, 1433.6, 2252.8, 1433.6, 2252.8, 1433.6, 2867.2, 4505.6, 2867.2, 4505.6, 2867.2, 4505.6, 2252.8, 1126.4, 716.8, 1.1, 0.7, 1.1, 0.55, 0.35, 0.7, 1.4, 2.8, 5.6, 8.8, 4.4, 2.8, 5.6, 8.8, 4.4, 2.8, 4.4, 2.2, 1.4, 2.2, 1.4, 2.8, 5.6, 11.2, 17.6, 8.8, 5.6, 8.8, 5.6, 11.2]\n",
            "11 :  [1.4, 2.8, 5.6, 11.2, 22.4, 44.8, 89.6, 179.2, 281.6, 179.2, 358.4, 563.2, 281.6, 140.8, 70.4, 44.8, 70.4, 44.8, 70.4, 35.2, 22.4, 35.2, 22.4, 35.2, 17.6, 8.8, 5.6, 11.2, 17.6, 8.8, 1.1, 0.7, 1.1, 0.55, 0.275, 0.175, 0.35, 0.7, 1.1, 0.55, 0.275, 0.175, 0.275, 0.175, 0.35, 0.55, 0.35, 0.7, 1.4, 2.8, 5.6, 8.8, 5.6, 11.2, 17.6, 11.2, 22.4, 44.8, 89.6, 179.2, 1.4, 2.8, 5.6, 8.8, 5.6, 11.2, 22.4, 44.8, 70.4, 35.2, 22.4, 35.2, 17.6, 11.2, 17.6, 11.2, 22.4, 44.8, 89.6, 140.8, 70.4, 35.2, 22.4, 35.2, 22.4, 35.2, 22.4, 44.8, 70.4, 44.8, 1.4, 2.8, 4.4, 2.2, 1.4, 2.8, 4.4, 2.2, 1.4, 2.2, 1.4, 2.8, 5.6, 11.2, 22.4, 35.2, 22.4, 35.2, 17.6, 11.2, 22.4, 44.8, 89.6, 140.8, 89.6, 140.8, 89.6, 140.8, 70.4, 35.2, 1.4, 2.8, 5.6, 11.2, 22.4, 35.2, 22.4, 44.8, 70.4, 35.2, 17.6, 11.2, 17.6, 11.2, 17.6, 11.2, 17.6, 11.2, 22.4, 35.2, 22.4, 44.8, 89.6, 179.2, 281.6, 179.2, 358.4, 716.8, 1433.6, 2867.2, 1.4, 2.2, 1.1, 0.7, 1.4, 2.8, 5.6, 8.8, 5.6, 11.2, 22.4, 35.2, 22.4, 44.8, 89.6, 179.2, 358.4, 716.8, 1433.6, 2252.8, 1126.4, 716.8, 1126.4, 716.8, 1433.6, 2252.8, 1126.4, 716.8, 1433.6, 2867.2, 1.4, 2.8, 5.6, 8.8, 5.6, 8.8, 4.4, 2.2, 1.4, 2.8, 5.6, 11.2, 17.6, 11.2, 17.6, 8.8, 4.4, 2.8, 5.6, 11.2, 17.6, 11.2, 17.6, 8.8, 5.6, 8.8, 4.4, 2.2, 1.1, 0.7, 1.4, 2.8, 5.6, 8.8, 5.6, 11.2, 17.6, 11.2, 22.4, 35.2, 22.4, 44.8, 89.6, 179.2, 358.4, 716.8, 1126.4, 563.2, 358.4, 716.8, 1433.6, 2867.2, 4505.6, 2252.8, 1433.6, 2867.2, 5734.4, 9011.2, 4505.6, 2252.8, 1.4, 2.2, 1.1, 0.7, 1.1, 0.7, 1.1, 0.55, 0.275, 0.1375, 0.06875, 0.034375, 0.0171875, 0.0109375, 0.0171875, 0.0109375, 0.0171875, 0.00859375, 0.004296875, 0.002734375, 0.00546875, 0.0109375, 0.021875, 0.04375, 0.0875, 0.175, 0.275, 0.1375, 0.0875, 0.175, 1.4, 2.2, 1.4, 2.8, 5.6, 11.2, 22.4, 44.8, 70.4, 44.8, 89.6, 179.2, 358.4, 563.2, 358.4, 716.8, 1433.6, 2252.8, 1433.6, 2252.8, 1433.6, 2867.2, 4505.6, 2867.2, 4505.6, 2867.2, 4505.6, 2252.8, 1126.4, 716.8, 1.1, 0.7, 1.1, 0.55, 0.35, 0.7, 1.4, 2.8, 5.6, 8.8, 4.4, 2.8, 5.6, 8.8, 4.4, 2.8, 4.4, 2.2, 1.4, 2.2, 1.4, 2.8, 5.6, 11.2, 17.6, 8.8, 5.6, 8.8, 5.6, 11.2, 1.1, 0.7, 1.1, 0.7, 1.4, 2.2, 1.4, 2.2, 1.4, 2.8, 5.6, 11.2, 22.4, 35.2, 22.4, 44.8, 70.4, 44.8, 89.6, 179.2, 358.4, 716.8, 1126.4, 716.8, 1433.6, 2252.8, 1433.6, 2252.8, 1433.6, 2867.2]\n",
            "12 :  [1.4, 2.8, 5.6, 11.2, 22.4, 44.8, 89.6, 179.2, 281.6, 179.2, 358.4, 563.2, 281.6, 140.8, 70.4, 44.8, 70.4, 44.8, 70.4, 35.2, 22.4, 35.2, 22.4, 35.2, 17.6, 8.8, 5.6, 11.2, 17.6, 8.8, 1.1, 0.7, 1.1, 0.55, 0.275, 0.175, 0.35, 0.7, 1.1, 0.55, 0.275, 0.175, 0.275, 0.175, 0.35, 0.55, 0.35, 0.7, 1.4, 2.8, 5.6, 8.8, 5.6, 11.2, 17.6, 11.2, 22.4, 44.8, 89.6, 179.2, 1.4, 2.8, 5.6, 8.8, 5.6, 11.2, 22.4, 44.8, 70.4, 35.2, 22.4, 35.2, 17.6, 11.2, 17.6, 11.2, 22.4, 44.8, 89.6, 140.8, 70.4, 35.2, 22.4, 35.2, 22.4, 35.2, 22.4, 44.8, 70.4, 44.8, 1.4, 2.8, 4.4, 2.2, 1.4, 2.8, 4.4, 2.2, 1.4, 2.2, 1.4, 2.8, 5.6, 11.2, 22.4, 35.2, 22.4, 35.2, 17.6, 11.2, 22.4, 44.8, 89.6, 140.8, 89.6, 140.8, 89.6, 140.8, 70.4, 35.2, 1.4, 2.8, 5.6, 11.2, 22.4, 35.2, 22.4, 44.8, 70.4, 35.2, 17.6, 11.2, 17.6, 11.2, 17.6, 11.2, 17.6, 11.2, 22.4, 35.2, 22.4, 44.8, 89.6, 179.2, 281.6, 179.2, 358.4, 716.8, 1433.6, 2867.2, 1.4, 2.2, 1.1, 0.7, 1.4, 2.8, 5.6, 8.8, 5.6, 11.2, 22.4, 35.2, 22.4, 44.8, 89.6, 179.2, 358.4, 716.8, 1433.6, 2252.8, 1126.4, 716.8, 1126.4, 716.8, 1433.6, 2252.8, 1126.4, 716.8, 1433.6, 2867.2, 1.4, 2.8, 5.6, 8.8, 5.6, 8.8, 4.4, 2.2, 1.4, 2.8, 5.6, 11.2, 17.6, 11.2, 17.6, 8.8, 4.4, 2.8, 5.6, 11.2, 17.6, 11.2, 17.6, 8.8, 5.6, 8.8, 4.4, 2.2, 1.1, 0.7, 1.4, 2.8, 5.6, 8.8, 5.6, 11.2, 17.6, 11.2, 22.4, 35.2, 22.4, 44.8, 89.6, 179.2, 358.4, 716.8, 1126.4, 563.2, 358.4, 716.8, 1433.6, 2867.2, 4505.6, 2252.8, 1433.6, 2867.2, 5734.4, 9011.2, 4505.6, 2252.8, 1.4, 2.2, 1.1, 0.7, 1.1, 0.7, 1.1, 0.55, 0.275, 0.1375, 0.06875, 0.034375, 0.0171875, 0.0109375, 0.0171875, 0.0109375, 0.0171875, 0.00859375, 0.004296875, 0.002734375, 0.00546875, 0.0109375, 0.021875, 0.04375, 0.0875, 0.175, 0.275, 0.1375, 0.0875, 0.175, 1.4, 2.2, 1.4, 2.8, 5.6, 11.2, 22.4, 44.8, 70.4, 44.8, 89.6, 179.2, 358.4, 563.2, 358.4, 716.8, 1433.6, 2252.8, 1433.6, 2252.8, 1433.6, 2867.2, 4505.6, 2867.2, 4505.6, 2867.2, 4505.6, 2252.8, 1126.4, 716.8, 1.1, 0.7, 1.1, 0.55, 0.35, 0.7, 1.4, 2.8, 5.6, 8.8, 4.4, 2.8, 5.6, 8.8, 4.4, 2.8, 4.4, 2.2, 1.4, 2.2, 1.4, 2.8, 5.6, 11.2, 17.6, 8.8, 5.6, 8.8, 5.6, 11.2, 1.1, 0.7, 1.1, 0.7, 1.4, 2.2, 1.4, 2.2, 1.4, 2.8, 5.6, 11.2, 22.4, 35.2, 22.4, 44.8, 70.4, 44.8, 89.6, 179.2, 358.4, 716.8, 1126.4, 716.8, 1433.6, 2252.8, 1433.6, 2252.8, 1433.6, 2867.2, 1.1, 0.7, 1.4, 2.2, 1.4, 2.2, 1.1, 0.55, 0.275, 0.175, 0.35, 0.55, 0.35, 0.7, 1.1, 0.55, 0.275, 0.175, 0.35, 0.7, 1.4, 2.8, 5.6, 11.2, 22.4, 44.8, 89.6, 179.2, 358.4, 563.2]\n",
            "13 :  [1.4, 2.8, 5.6, 11.2, 22.4, 44.8, 89.6, 179.2, 281.6, 179.2, 358.4, 563.2, 281.6, 140.8, 70.4, 44.8, 70.4, 44.8, 70.4, 35.2, 22.4, 35.2, 22.4, 35.2, 17.6, 8.8, 5.6, 11.2, 17.6, 8.8, 1.1, 0.7, 1.1, 0.55, 0.275, 0.175, 0.35, 0.7, 1.1, 0.55, 0.275, 0.175, 0.275, 0.175, 0.35, 0.55, 0.35, 0.7, 1.4, 2.8, 5.6, 8.8, 5.6, 11.2, 17.6, 11.2, 22.4, 44.8, 89.6, 179.2, 1.4, 2.8, 5.6, 8.8, 5.6, 11.2, 22.4, 44.8, 70.4, 35.2, 22.4, 35.2, 17.6, 11.2, 17.6, 11.2, 22.4, 44.8, 89.6, 140.8, 70.4, 35.2, 22.4, 35.2, 22.4, 35.2, 22.4, 44.8, 70.4, 44.8, 1.4, 2.8, 4.4, 2.2, 1.4, 2.8, 4.4, 2.2, 1.4, 2.2, 1.4, 2.8, 5.6, 11.2, 22.4, 35.2, 22.4, 35.2, 17.6, 11.2, 22.4, 44.8, 89.6, 140.8, 89.6, 140.8, 89.6, 140.8, 70.4, 35.2, 1.4, 2.8, 5.6, 11.2, 22.4, 35.2, 22.4, 44.8, 70.4, 35.2, 17.6, 11.2, 17.6, 11.2, 17.6, 11.2, 17.6, 11.2, 22.4, 35.2, 22.4, 44.8, 89.6, 179.2, 281.6, 179.2, 358.4, 716.8, 1433.6, 2867.2, 1.4, 2.2, 1.1, 0.7, 1.4, 2.8, 5.6, 8.8, 5.6, 11.2, 22.4, 35.2, 22.4, 44.8, 89.6, 179.2, 358.4, 716.8, 1433.6, 2252.8, 1126.4, 716.8, 1126.4, 716.8, 1433.6, 2252.8, 1126.4, 716.8, 1433.6, 2867.2, 1.4, 2.8, 5.6, 8.8, 5.6, 8.8, 4.4, 2.2, 1.4, 2.8, 5.6, 11.2, 17.6, 11.2, 17.6, 8.8, 4.4, 2.8, 5.6, 11.2, 17.6, 11.2, 17.6, 8.8, 5.6, 8.8, 4.4, 2.2, 1.1, 0.7, 1.4, 2.8, 5.6, 8.8, 5.6, 11.2, 17.6, 11.2, 22.4, 35.2, 22.4, 44.8, 89.6, 179.2, 358.4, 716.8, 1126.4, 563.2, 358.4, 716.8, 1433.6, 2867.2, 4505.6, 2252.8, 1433.6, 2867.2, 5734.4, 9011.2, 4505.6, 2252.8, 1.4, 2.2, 1.1, 0.7, 1.1, 0.7, 1.1, 0.55, 0.275, 0.1375, 0.06875, 0.034375, 0.0171875, 0.0109375, 0.0171875, 0.0109375, 0.0171875, 0.00859375, 0.004296875, 0.002734375, 0.00546875, 0.0109375, 0.021875, 0.04375, 0.0875, 0.175, 0.275, 0.1375, 0.0875, 0.175, 1.4, 2.2, 1.4, 2.8, 5.6, 11.2, 22.4, 44.8, 70.4, 44.8, 89.6, 179.2, 358.4, 563.2, 358.4, 716.8, 1433.6, 2252.8, 1433.6, 2252.8, 1433.6, 2867.2, 4505.6, 2867.2, 4505.6, 2867.2, 4505.6, 2252.8, 1126.4, 716.8, 1.1, 0.7, 1.1, 0.55, 0.35, 0.7, 1.4, 2.8, 5.6, 8.8, 4.4, 2.8, 5.6, 8.8, 4.4, 2.8, 4.4, 2.2, 1.4, 2.2, 1.4, 2.8, 5.6, 11.2, 17.6, 8.8, 5.6, 8.8, 5.6, 11.2, 1.1, 0.7, 1.1, 0.7, 1.4, 2.2, 1.4, 2.2, 1.4, 2.8, 5.6, 11.2, 22.4, 35.2, 22.4, 44.8, 70.4, 44.8, 89.6, 179.2, 358.4, 716.8, 1126.4, 716.8, 1433.6, 2252.8, 1433.6, 2252.8, 1433.6, 2867.2, 1.1, 0.7, 1.4, 2.2, 1.4, 2.2, 1.1, 0.55, 0.275, 0.175, 0.35, 0.55, 0.35, 0.7, 1.1, 0.55, 0.275, 0.175, 0.35, 0.7, 1.4, 2.8, 5.6, 11.2, 22.4, 44.8, 89.6, 179.2, 358.4, 563.2, 1.4, 2.8, 4.4, 2.2, 1.4, 2.2, 1.1, 0.7, 1.4, 2.2, 1.4, 2.8, 4.4, 2.8, 4.4, 2.2, 1.4, 2.8, 4.4, 2.2, 1.1, 0.55, 0.35, 0.7, 1.4, 2.8, 5.6, 8.8, 5.6, 11.2]\n",
            "14 :  [1.4, 2.8, 5.6, 11.2, 22.4, 44.8, 89.6, 179.2, 281.6, 179.2, 358.4, 563.2, 281.6, 140.8, 70.4, 44.8, 70.4, 44.8, 70.4, 35.2, 22.4, 35.2, 22.4, 35.2, 17.6, 8.8, 5.6, 11.2, 17.6, 8.8, 1.1, 0.7, 1.1, 0.55, 0.275, 0.175, 0.35, 0.7, 1.1, 0.55, 0.275, 0.175, 0.275, 0.175, 0.35, 0.55, 0.35, 0.7, 1.4, 2.8, 5.6, 8.8, 5.6, 11.2, 17.6, 11.2, 22.4, 44.8, 89.6, 179.2, 1.4, 2.8, 5.6, 8.8, 5.6, 11.2, 22.4, 44.8, 70.4, 35.2, 22.4, 35.2, 17.6, 11.2, 17.6, 11.2, 22.4, 44.8, 89.6, 140.8, 70.4, 35.2, 22.4, 35.2, 22.4, 35.2, 22.4, 44.8, 70.4, 44.8, 1.4, 2.8, 4.4, 2.2, 1.4, 2.8, 4.4, 2.2, 1.4, 2.2, 1.4, 2.8, 5.6, 11.2, 22.4, 35.2, 22.4, 35.2, 17.6, 11.2, 22.4, 44.8, 89.6, 140.8, 89.6, 140.8, 89.6, 140.8, 70.4, 35.2, 1.4, 2.8, 5.6, 11.2, 22.4, 35.2, 22.4, 44.8, 70.4, 35.2, 17.6, 11.2, 17.6, 11.2, 17.6, 11.2, 17.6, 11.2, 22.4, 35.2, 22.4, 44.8, 89.6, 179.2, 281.6, 179.2, 358.4, 716.8, 1433.6, 2867.2, 1.4, 2.2, 1.1, 0.7, 1.4, 2.8, 5.6, 8.8, 5.6, 11.2, 22.4, 35.2, 22.4, 44.8, 89.6, 179.2, 358.4, 716.8, 1433.6, 2252.8, 1126.4, 716.8, 1126.4, 716.8, 1433.6, 2252.8, 1126.4, 716.8, 1433.6, 2867.2, 1.4, 2.8, 5.6, 8.8, 5.6, 8.8, 4.4, 2.2, 1.4, 2.8, 5.6, 11.2, 17.6, 11.2, 17.6, 8.8, 4.4, 2.8, 5.6, 11.2, 17.6, 11.2, 17.6, 8.8, 5.6, 8.8, 4.4, 2.2, 1.1, 0.7, 1.4, 2.8, 5.6, 8.8, 5.6, 11.2, 17.6, 11.2, 22.4, 35.2, 22.4, 44.8, 89.6, 179.2, 358.4, 716.8, 1126.4, 563.2, 358.4, 716.8, 1433.6, 2867.2, 4505.6, 2252.8, 1433.6, 2867.2, 5734.4, 9011.2, 4505.6, 2252.8, 1.4, 2.2, 1.1, 0.7, 1.1, 0.7, 1.1, 0.55, 0.275, 0.1375, 0.06875, 0.034375, 0.0171875, 0.0109375, 0.0171875, 0.0109375, 0.0171875, 0.00859375, 0.004296875, 0.002734375, 0.00546875, 0.0109375, 0.021875, 0.04375, 0.0875, 0.175, 0.275, 0.1375, 0.0875, 0.175, 1.4, 2.2, 1.4, 2.8, 5.6, 11.2, 22.4, 44.8, 70.4, 44.8, 89.6, 179.2, 358.4, 563.2, 358.4, 716.8, 1433.6, 2252.8, 1433.6, 2252.8, 1433.6, 2867.2, 4505.6, 2867.2, 4505.6, 2867.2, 4505.6, 2252.8, 1126.4, 716.8, 1.1, 0.7, 1.1, 0.55, 0.35, 0.7, 1.4, 2.8, 5.6, 8.8, 4.4, 2.8, 5.6, 8.8, 4.4, 2.8, 4.4, 2.2, 1.4, 2.2, 1.4, 2.8, 5.6, 11.2, 17.6, 8.8, 5.6, 8.8, 5.6, 11.2, 1.1, 0.7, 1.1, 0.7, 1.4, 2.2, 1.4, 2.2, 1.4, 2.8, 5.6, 11.2, 22.4, 35.2, 22.4, 44.8, 70.4, 44.8, 89.6, 179.2, 358.4, 716.8, 1126.4, 716.8, 1433.6, 2252.8, 1433.6, 2252.8, 1433.6, 2867.2, 1.1, 0.7, 1.4, 2.2, 1.4, 2.2, 1.1, 0.55, 0.275, 0.175, 0.35, 0.55, 0.35, 0.7, 1.1, 0.55, 0.275, 0.175, 0.35, 0.7, 1.4, 2.8, 5.6, 11.2, 22.4, 44.8, 89.6, 179.2, 358.4, 563.2, 1.4, 2.8, 4.4, 2.2, 1.4, 2.2, 1.1, 0.7, 1.4, 2.2, 1.4, 2.8, 4.4, 2.8, 4.4, 2.2, 1.4, 2.8, 4.4, 2.2, 1.1, 0.55, 0.35, 0.7, 1.4, 2.8, 5.6, 8.8, 5.6, 11.2, 1.4, 2.2, 1.1, 0.55, 0.35, 0.7, 1.1, 0.7, 1.4, 2.2, 1.4, 2.8, 4.4, 2.8, 4.4, 2.8, 4.4, 2.2, 1.4, 2.2, 1.4, 2.2, 1.4, 2.2, 1.4, 2.2, 1.4, 2.8, 4.4, 2.8]\n",
            "15 :  [1.4, 2.8, 5.6, 11.2, 22.4, 44.8, 89.6, 179.2, 281.6, 179.2, 358.4, 563.2, 281.6, 140.8, 70.4, 44.8, 70.4, 44.8, 70.4, 35.2, 22.4, 35.2, 22.4, 35.2, 17.6, 8.8, 5.6, 11.2, 17.6, 8.8, 1.1, 0.7, 1.1, 0.55, 0.275, 0.175, 0.35, 0.7, 1.1, 0.55, 0.275, 0.175, 0.275, 0.175, 0.35, 0.55, 0.35, 0.7, 1.4, 2.8, 5.6, 8.8, 5.6, 11.2, 17.6, 11.2, 22.4, 44.8, 89.6, 179.2, 1.4, 2.8, 5.6, 8.8, 5.6, 11.2, 22.4, 44.8, 70.4, 35.2, 22.4, 35.2, 17.6, 11.2, 17.6, 11.2, 22.4, 44.8, 89.6, 140.8, 70.4, 35.2, 22.4, 35.2, 22.4, 35.2, 22.4, 44.8, 70.4, 44.8, 1.4, 2.8, 4.4, 2.2, 1.4, 2.8, 4.4, 2.2, 1.4, 2.2, 1.4, 2.8, 5.6, 11.2, 22.4, 35.2, 22.4, 35.2, 17.6, 11.2, 22.4, 44.8, 89.6, 140.8, 89.6, 140.8, 89.6, 140.8, 70.4, 35.2, 1.4, 2.8, 5.6, 11.2, 22.4, 35.2, 22.4, 44.8, 70.4, 35.2, 17.6, 11.2, 17.6, 11.2, 17.6, 11.2, 17.6, 11.2, 22.4, 35.2, 22.4, 44.8, 89.6, 179.2, 281.6, 179.2, 358.4, 716.8, 1433.6, 2867.2, 1.4, 2.2, 1.1, 0.7, 1.4, 2.8, 5.6, 8.8, 5.6, 11.2, 22.4, 35.2, 22.4, 44.8, 89.6, 179.2, 358.4, 716.8, 1433.6, 2252.8, 1126.4, 716.8, 1126.4, 716.8, 1433.6, 2252.8, 1126.4, 716.8, 1433.6, 2867.2, 1.4, 2.8, 5.6, 8.8, 5.6, 8.8, 4.4, 2.2, 1.4, 2.8, 5.6, 11.2, 17.6, 11.2, 17.6, 8.8, 4.4, 2.8, 5.6, 11.2, 17.6, 11.2, 17.6, 8.8, 5.6, 8.8, 4.4, 2.2, 1.1, 0.7, 1.4, 2.8, 5.6, 8.8, 5.6, 11.2, 17.6, 11.2, 22.4, 35.2, 22.4, 44.8, 89.6, 179.2, 358.4, 716.8, 1126.4, 563.2, 358.4, 716.8, 1433.6, 2867.2, 4505.6, 2252.8, 1433.6, 2867.2, 5734.4, 9011.2, 4505.6, 2252.8, 1.4, 2.2, 1.1, 0.7, 1.1, 0.7, 1.1, 0.55, 0.275, 0.1375, 0.06875, 0.034375, 0.0171875, 0.0109375, 0.0171875, 0.0109375, 0.0171875, 0.00859375, 0.004296875, 0.002734375, 0.00546875, 0.0109375, 0.021875, 0.04375, 0.0875, 0.175, 0.275, 0.1375, 0.0875, 0.175, 1.4, 2.2, 1.4, 2.8, 5.6, 11.2, 22.4, 44.8, 70.4, 44.8, 89.6, 179.2, 358.4, 563.2, 358.4, 716.8, 1433.6, 2252.8, 1433.6, 2252.8, 1433.6, 2867.2, 4505.6, 2867.2, 4505.6, 2867.2, 4505.6, 2252.8, 1126.4, 716.8, 1.1, 0.7, 1.1, 0.55, 0.35, 0.7, 1.4, 2.8, 5.6, 8.8, 4.4, 2.8, 5.6, 8.8, 4.4, 2.8, 4.4, 2.2, 1.4, 2.2, 1.4, 2.8, 5.6, 11.2, 17.6, 8.8, 5.6, 8.8, 5.6, 11.2, 1.1, 0.7, 1.1, 0.7, 1.4, 2.2, 1.4, 2.2, 1.4, 2.8, 5.6, 11.2, 22.4, 35.2, 22.4, 44.8, 70.4, 44.8, 89.6, 179.2, 358.4, 716.8, 1126.4, 716.8, 1433.6, 2252.8, 1433.6, 2252.8, 1433.6, 2867.2, 1.1, 0.7, 1.4, 2.2, 1.4, 2.2, 1.1, 0.55, 0.275, 0.175, 0.35, 0.55, 0.35, 0.7, 1.1, 0.55, 0.275, 0.175, 0.35, 0.7, 1.4, 2.8, 5.6, 11.2, 22.4, 44.8, 89.6, 179.2, 358.4, 563.2, 1.4, 2.8, 4.4, 2.2, 1.4, 2.2, 1.1, 0.7, 1.4, 2.2, 1.4, 2.8, 4.4, 2.8, 4.4, 2.2, 1.4, 2.8, 4.4, 2.2, 1.1, 0.55, 0.35, 0.7, 1.4, 2.8, 5.6, 8.8, 5.6, 11.2, 1.4, 2.2, 1.1, 0.55, 0.35, 0.7, 1.1, 0.7, 1.4, 2.2, 1.4, 2.8, 4.4, 2.8, 4.4, 2.8, 4.4, 2.2, 1.4, 2.2, 1.4, 2.2, 1.4, 2.2, 1.4, 2.2, 1.4, 2.8, 4.4, 2.8, 1.4, 2.8, 4.4, 2.2, 1.1, 0.7, 1.4, 2.8, 5.6, 11.2, 22.4, 44.8, 70.4, 35.2, 22.4, 44.8, 89.6, 140.8, 89.6, 140.8, 70.4, 35.2, 17.6, 8.8, 5.6, 11.2, 17.6, 11.2, 22.4, 35.2]\n",
            "16 :  [1.4, 2.8, 5.6, 11.2, 22.4, 44.8, 89.6, 179.2, 281.6, 179.2, 358.4, 563.2, 281.6, 140.8, 70.4, 44.8, 70.4, 44.8, 70.4, 35.2, 22.4, 35.2, 22.4, 35.2, 17.6, 8.8, 5.6, 11.2, 17.6, 8.8, 1.1, 0.7, 1.1, 0.55, 0.275, 0.175, 0.35, 0.7, 1.1, 0.55, 0.275, 0.175, 0.275, 0.175, 0.35, 0.55, 0.35, 0.7, 1.4, 2.8, 5.6, 8.8, 5.6, 11.2, 17.6, 11.2, 22.4, 44.8, 89.6, 179.2, 1.4, 2.8, 5.6, 8.8, 5.6, 11.2, 22.4, 44.8, 70.4, 35.2, 22.4, 35.2, 17.6, 11.2, 17.6, 11.2, 22.4, 44.8, 89.6, 140.8, 70.4, 35.2, 22.4, 35.2, 22.4, 35.2, 22.4, 44.8, 70.4, 44.8, 1.4, 2.8, 4.4, 2.2, 1.4, 2.8, 4.4, 2.2, 1.4, 2.2, 1.4, 2.8, 5.6, 11.2, 22.4, 35.2, 22.4, 35.2, 17.6, 11.2, 22.4, 44.8, 89.6, 140.8, 89.6, 140.8, 89.6, 140.8, 70.4, 35.2, 1.4, 2.8, 5.6, 11.2, 22.4, 35.2, 22.4, 44.8, 70.4, 35.2, 17.6, 11.2, 17.6, 11.2, 17.6, 11.2, 17.6, 11.2, 22.4, 35.2, 22.4, 44.8, 89.6, 179.2, 281.6, 179.2, 358.4, 716.8, 1433.6, 2867.2, 1.4, 2.2, 1.1, 0.7, 1.4, 2.8, 5.6, 8.8, 5.6, 11.2, 22.4, 35.2, 22.4, 44.8, 89.6, 179.2, 358.4, 716.8, 1433.6, 2252.8, 1126.4, 716.8, 1126.4, 716.8, 1433.6, 2252.8, 1126.4, 716.8, 1433.6, 2867.2, 1.4, 2.8, 5.6, 8.8, 5.6, 8.8, 4.4, 2.2, 1.4, 2.8, 5.6, 11.2, 17.6, 11.2, 17.6, 8.8, 4.4, 2.8, 5.6, 11.2, 17.6, 11.2, 17.6, 8.8, 5.6, 8.8, 4.4, 2.2, 1.1, 0.7, 1.4, 2.8, 5.6, 8.8, 5.6, 11.2, 17.6, 11.2, 22.4, 35.2, 22.4, 44.8, 89.6, 179.2, 358.4, 716.8, 1126.4, 563.2, 358.4, 716.8, 1433.6, 2867.2, 4505.6, 2252.8, 1433.6, 2867.2, 5734.4, 9011.2, 4505.6, 2252.8, 1.4, 2.2, 1.1, 0.7, 1.1, 0.7, 1.1, 0.55, 0.275, 0.1375, 0.06875, 0.034375, 0.0171875, 0.0109375, 0.0171875, 0.0109375, 0.0171875, 0.00859375, 0.004296875, 0.002734375, 0.00546875, 0.0109375, 0.021875, 0.04375, 0.0875, 0.175, 0.275, 0.1375, 0.0875, 0.175, 1.4, 2.2, 1.4, 2.8, 5.6, 11.2, 22.4, 44.8, 70.4, 44.8, 89.6, 179.2, 358.4, 563.2, 358.4, 716.8, 1433.6, 2252.8, 1433.6, 2252.8, 1433.6, 2867.2, 4505.6, 2867.2, 4505.6, 2867.2, 4505.6, 2252.8, 1126.4, 716.8, 1.1, 0.7, 1.1, 0.55, 0.35, 0.7, 1.4, 2.8, 5.6, 8.8, 4.4, 2.8, 5.6, 8.8, 4.4, 2.8, 4.4, 2.2, 1.4, 2.2, 1.4, 2.8, 5.6, 11.2, 17.6, 8.8, 5.6, 8.8, 5.6, 11.2, 1.1, 0.7, 1.1, 0.7, 1.4, 2.2, 1.4, 2.2, 1.4, 2.8, 5.6, 11.2, 22.4, 35.2, 22.4, 44.8, 70.4, 44.8, 89.6, 179.2, 358.4, 716.8, 1126.4, 716.8, 1433.6, 2252.8, 1433.6, 2252.8, 1433.6, 2867.2, 1.1, 0.7, 1.4, 2.2, 1.4, 2.2, 1.1, 0.55, 0.275, 0.175, 0.35, 0.55, 0.35, 0.7, 1.1, 0.55, 0.275, 0.175, 0.35, 0.7, 1.4, 2.8, 5.6, 11.2, 22.4, 44.8, 89.6, 179.2, 358.4, 563.2, 1.4, 2.8, 4.4, 2.2, 1.4, 2.2, 1.1, 0.7, 1.4, 2.2, 1.4, 2.8, 4.4, 2.8, 4.4, 2.2, 1.4, 2.8, 4.4, 2.2, 1.1, 0.55, 0.35, 0.7, 1.4, 2.8, 5.6, 8.8, 5.6, 11.2, 1.4, 2.2, 1.1, 0.55, 0.35, 0.7, 1.1, 0.7, 1.4, 2.2, 1.4, 2.8, 4.4, 2.8, 4.4, 2.8, 4.4, 2.2, 1.4, 2.2, 1.4, 2.2, 1.4, 2.2, 1.4, 2.2, 1.4, 2.8, 4.4, 2.8, 1.4, 2.8, 4.4, 2.2, 1.1, 0.7, 1.4, 2.8, 5.6, 11.2, 22.4, 44.8, 70.4, 35.2, 22.4, 44.8, 89.6, 140.8, 89.6, 140.8, 70.4, 35.2, 17.6, 8.8, 5.6, 11.2, 17.6, 11.2, 22.4, 35.2, 1.4, 2.2, 1.1, 0.55, 0.35, 0.7, 1.4, 2.2, 1.1, 0.7, 1.4, 2.8, 5.6, 11.2, 17.6, 11.2, 22.4, 35.2, 17.6, 8.8, 5.6, 11.2, 22.4, 35.2, 22.4, 35.2, 22.4, 44.8, 70.4, 35.2]\n",
            "17 :  [1.4, 2.8, 5.6, 11.2, 22.4, 44.8, 89.6, 179.2, 281.6, 179.2, 358.4, 563.2, 281.6, 140.8, 70.4, 44.8, 70.4, 44.8, 70.4, 35.2, 22.4, 35.2, 22.4, 35.2, 17.6, 8.8, 5.6, 11.2, 17.6, 8.8, 1.1, 0.7, 1.1, 0.55, 0.275, 0.175, 0.35, 0.7, 1.1, 0.55, 0.275, 0.175, 0.275, 0.175, 0.35, 0.55, 0.35, 0.7, 1.4, 2.8, 5.6, 8.8, 5.6, 11.2, 17.6, 11.2, 22.4, 44.8, 89.6, 179.2, 1.4, 2.8, 5.6, 8.8, 5.6, 11.2, 22.4, 44.8, 70.4, 35.2, 22.4, 35.2, 17.6, 11.2, 17.6, 11.2, 22.4, 44.8, 89.6, 140.8, 70.4, 35.2, 22.4, 35.2, 22.4, 35.2, 22.4, 44.8, 70.4, 44.8, 1.4, 2.8, 4.4, 2.2, 1.4, 2.8, 4.4, 2.2, 1.4, 2.2, 1.4, 2.8, 5.6, 11.2, 22.4, 35.2, 22.4, 35.2, 17.6, 11.2, 22.4, 44.8, 89.6, 140.8, 89.6, 140.8, 89.6, 140.8, 70.4, 35.2, 1.4, 2.8, 5.6, 11.2, 22.4, 35.2, 22.4, 44.8, 70.4, 35.2, 17.6, 11.2, 17.6, 11.2, 17.6, 11.2, 17.6, 11.2, 22.4, 35.2, 22.4, 44.8, 89.6, 179.2, 281.6, 179.2, 358.4, 716.8, 1433.6, 2867.2, 1.4, 2.2, 1.1, 0.7, 1.4, 2.8, 5.6, 8.8, 5.6, 11.2, 22.4, 35.2, 22.4, 44.8, 89.6, 179.2, 358.4, 716.8, 1433.6, 2252.8, 1126.4, 716.8, 1126.4, 716.8, 1433.6, 2252.8, 1126.4, 716.8, 1433.6, 2867.2, 1.4, 2.8, 5.6, 8.8, 5.6, 8.8, 4.4, 2.2, 1.4, 2.8, 5.6, 11.2, 17.6, 11.2, 17.6, 8.8, 4.4, 2.8, 5.6, 11.2, 17.6, 11.2, 17.6, 8.8, 5.6, 8.8, 4.4, 2.2, 1.1, 0.7, 1.4, 2.8, 5.6, 8.8, 5.6, 11.2, 17.6, 11.2, 22.4, 35.2, 22.4, 44.8, 89.6, 179.2, 358.4, 716.8, 1126.4, 563.2, 358.4, 716.8, 1433.6, 2867.2, 4505.6, 2252.8, 1433.6, 2867.2, 5734.4, 9011.2, 4505.6, 2252.8, 1.4, 2.2, 1.1, 0.7, 1.1, 0.7, 1.1, 0.55, 0.275, 0.1375, 0.06875, 0.034375, 0.0171875, 0.0109375, 0.0171875, 0.0109375, 0.0171875, 0.00859375, 0.004296875, 0.002734375, 0.00546875, 0.0109375, 0.021875, 0.04375, 0.0875, 0.175, 0.275, 0.1375, 0.0875, 0.175, 1.4, 2.2, 1.4, 2.8, 5.6, 11.2, 22.4, 44.8, 70.4, 44.8, 89.6, 179.2, 358.4, 563.2, 358.4, 716.8, 1433.6, 2252.8, 1433.6, 2252.8, 1433.6, 2867.2, 4505.6, 2867.2, 4505.6, 2867.2, 4505.6, 2252.8, 1126.4, 716.8, 1.1, 0.7, 1.1, 0.55, 0.35, 0.7, 1.4, 2.8, 5.6, 8.8, 4.4, 2.8, 5.6, 8.8, 4.4, 2.8, 4.4, 2.2, 1.4, 2.2, 1.4, 2.8, 5.6, 11.2, 17.6, 8.8, 5.6, 8.8, 5.6, 11.2, 1.1, 0.7, 1.1, 0.7, 1.4, 2.2, 1.4, 2.2, 1.4, 2.8, 5.6, 11.2, 22.4, 35.2, 22.4, 44.8, 70.4, 44.8, 89.6, 179.2, 358.4, 716.8, 1126.4, 716.8, 1433.6, 2252.8, 1433.6, 2252.8, 1433.6, 2867.2, 1.1, 0.7, 1.4, 2.2, 1.4, 2.2, 1.1, 0.55, 0.275, 0.175, 0.35, 0.55, 0.35, 0.7, 1.1, 0.55, 0.275, 0.175, 0.35, 0.7, 1.4, 2.8, 5.6, 11.2, 22.4, 44.8, 89.6, 179.2, 358.4, 563.2, 1.4, 2.8, 4.4, 2.2, 1.4, 2.2, 1.1, 0.7, 1.4, 2.2, 1.4, 2.8, 4.4, 2.8, 4.4, 2.2, 1.4, 2.8, 4.4, 2.2, 1.1, 0.55, 0.35, 0.7, 1.4, 2.8, 5.6, 8.8, 5.6, 11.2, 1.4, 2.2, 1.1, 0.55, 0.35, 0.7, 1.1, 0.7, 1.4, 2.2, 1.4, 2.8, 4.4, 2.8, 4.4, 2.8, 4.4, 2.2, 1.4, 2.2, 1.4, 2.2, 1.4, 2.2, 1.4, 2.2, 1.4, 2.8, 4.4, 2.8, 1.4, 2.8, 4.4, 2.2, 1.1, 0.7, 1.4, 2.8, 5.6, 11.2, 22.4, 44.8, 70.4, 35.2, 22.4, 44.8, 89.6, 140.8, 89.6, 140.8, 70.4, 35.2, 17.6, 8.8, 5.6, 11.2, 17.6, 11.2, 22.4, 35.2, 1.4, 2.2, 1.1, 0.55, 0.35, 0.7, 1.4, 2.2, 1.1, 0.7, 1.4, 2.8, 5.6, 11.2, 17.6, 11.2, 22.4, 35.2, 17.6, 8.8, 5.6, 11.2, 22.4, 35.2, 22.4, 35.2, 22.4, 44.8, 70.4, 35.2, 1.4, 2.2, 1.1, 0.55, 0.35, 0.7, 1.1, 0.7, 1.4, 2.2, 1.1, 0.55, 0.35, 0.55, 0.35, 0.55, 0.35, 0.7, 1.4, 2.8, 4.4, 2.8, 5.6, 8.8, 5.6, 8.8, 4.4, 2.8, 5.6, 8.8]\n",
            "18 :  [1.4, 2.8, 5.6, 11.2, 22.4, 44.8, 89.6, 179.2, 281.6, 179.2, 358.4, 563.2, 281.6, 140.8, 70.4, 44.8, 70.4, 44.8, 70.4, 35.2, 22.4, 35.2, 22.4, 35.2, 17.6, 8.8, 5.6, 11.2, 17.6, 8.8, 1.1, 0.7, 1.1, 0.55, 0.275, 0.175, 0.35, 0.7, 1.1, 0.55, 0.275, 0.175, 0.275, 0.175, 0.35, 0.55, 0.35, 0.7, 1.4, 2.8, 5.6, 8.8, 5.6, 11.2, 17.6, 11.2, 22.4, 44.8, 89.6, 179.2, 1.4, 2.8, 5.6, 8.8, 5.6, 11.2, 22.4, 44.8, 70.4, 35.2, 22.4, 35.2, 17.6, 11.2, 17.6, 11.2, 22.4, 44.8, 89.6, 140.8, 70.4, 35.2, 22.4, 35.2, 22.4, 35.2, 22.4, 44.8, 70.4, 44.8, 1.4, 2.8, 4.4, 2.2, 1.4, 2.8, 4.4, 2.2, 1.4, 2.2, 1.4, 2.8, 5.6, 11.2, 22.4, 35.2, 22.4, 35.2, 17.6, 11.2, 22.4, 44.8, 89.6, 140.8, 89.6, 140.8, 89.6, 140.8, 70.4, 35.2, 1.4, 2.8, 5.6, 11.2, 22.4, 35.2, 22.4, 44.8, 70.4, 35.2, 17.6, 11.2, 17.6, 11.2, 17.6, 11.2, 17.6, 11.2, 22.4, 35.2, 22.4, 44.8, 89.6, 179.2, 281.6, 179.2, 358.4, 716.8, 1433.6, 2867.2, 1.4, 2.2, 1.1, 0.7, 1.4, 2.8, 5.6, 8.8, 5.6, 11.2, 22.4, 35.2, 22.4, 44.8, 89.6, 179.2, 358.4, 716.8, 1433.6, 2252.8, 1126.4, 716.8, 1126.4, 716.8, 1433.6, 2252.8, 1126.4, 716.8, 1433.6, 2867.2, 1.4, 2.8, 5.6, 8.8, 5.6, 8.8, 4.4, 2.2, 1.4, 2.8, 5.6, 11.2, 17.6, 11.2, 17.6, 8.8, 4.4, 2.8, 5.6, 11.2, 17.6, 11.2, 17.6, 8.8, 5.6, 8.8, 4.4, 2.2, 1.1, 0.7, 1.4, 2.8, 5.6, 8.8, 5.6, 11.2, 17.6, 11.2, 22.4, 35.2, 22.4, 44.8, 89.6, 179.2, 358.4, 716.8, 1126.4, 563.2, 358.4, 716.8, 1433.6, 2867.2, 4505.6, 2252.8, 1433.6, 2867.2, 5734.4, 9011.2, 4505.6, 2252.8, 1.4, 2.2, 1.1, 0.7, 1.1, 0.7, 1.1, 0.55, 0.275, 0.1375, 0.06875, 0.034375, 0.0171875, 0.0109375, 0.0171875, 0.0109375, 0.0171875, 0.00859375, 0.004296875, 0.002734375, 0.00546875, 0.0109375, 0.021875, 0.04375, 0.0875, 0.175, 0.275, 0.1375, 0.0875, 0.175, 1.4, 2.2, 1.4, 2.8, 5.6, 11.2, 22.4, 44.8, 70.4, 44.8, 89.6, 179.2, 358.4, 563.2, 358.4, 716.8, 1433.6, 2252.8, 1433.6, 2252.8, 1433.6, 2867.2, 4505.6, 2867.2, 4505.6, 2867.2, 4505.6, 2252.8, 1126.4, 716.8, 1.1, 0.7, 1.1, 0.55, 0.35, 0.7, 1.4, 2.8, 5.6, 8.8, 4.4, 2.8, 5.6, 8.8, 4.4, 2.8, 4.4, 2.2, 1.4, 2.2, 1.4, 2.8, 5.6, 11.2, 17.6, 8.8, 5.6, 8.8, 5.6, 11.2, 1.1, 0.7, 1.1, 0.7, 1.4, 2.2, 1.4, 2.2, 1.4, 2.8, 5.6, 11.2, 22.4, 35.2, 22.4, 44.8, 70.4, 44.8, 89.6, 179.2, 358.4, 716.8, 1126.4, 716.8, 1433.6, 2252.8, 1433.6, 2252.8, 1433.6, 2867.2, 1.1, 0.7, 1.4, 2.2, 1.4, 2.2, 1.1, 0.55, 0.275, 0.175, 0.35, 0.55, 0.35, 0.7, 1.1, 0.55, 0.275, 0.175, 0.35, 0.7, 1.4, 2.8, 5.6, 11.2, 22.4, 44.8, 89.6, 179.2, 358.4, 563.2, 1.4, 2.8, 4.4, 2.2, 1.4, 2.2, 1.1, 0.7, 1.4, 2.2, 1.4, 2.8, 4.4, 2.8, 4.4, 2.2, 1.4, 2.8, 4.4, 2.2, 1.1, 0.55, 0.35, 0.7, 1.4, 2.8, 5.6, 8.8, 5.6, 11.2, 1.4, 2.2, 1.1, 0.55, 0.35, 0.7, 1.1, 0.7, 1.4, 2.2, 1.4, 2.8, 4.4, 2.8, 4.4, 2.8, 4.4, 2.2, 1.4, 2.2, 1.4, 2.2, 1.4, 2.2, 1.4, 2.2, 1.4, 2.8, 4.4, 2.8, 1.4, 2.8, 4.4, 2.2, 1.1, 0.7, 1.4, 2.8, 5.6, 11.2, 22.4, 44.8, 70.4, 35.2, 22.4, 44.8, 89.6, 140.8, 89.6, 140.8, 70.4, 35.2, 17.6, 8.8, 5.6, 11.2, 17.6, 11.2, 22.4, 35.2, 1.4, 2.2, 1.1, 0.55, 0.35, 0.7, 1.4, 2.2, 1.1, 0.7, 1.4, 2.8, 5.6, 11.2, 17.6, 11.2, 22.4, 35.2, 17.6, 8.8, 5.6, 11.2, 22.4, 35.2, 22.4, 35.2, 22.4, 44.8, 70.4, 35.2, 1.4, 2.2, 1.1, 0.55, 0.35, 0.7, 1.1, 0.7, 1.4, 2.2, 1.1, 0.55, 0.35, 0.55, 0.35, 0.55, 0.35, 0.7, 1.4, 2.8, 4.4, 2.8, 5.6, 8.8, 5.6, 8.8, 4.4, 2.8, 5.6, 8.8, 1.1, 0.55, 0.35, 0.7, 1.1, 0.7, 1.1, 0.55, 0.35, 0.55, 0.35, 0.7, 1.1, 0.55, 0.275, 0.175, 0.35, 0.7, 1.1, 0.55, 0.275, 0.175, 0.275, 0.175, 0.275, 0.1375, 0.06875, 0.04375, 0.06875, 0.034375]\n",
            "19 :  [1.4, 2.8, 5.6, 11.2, 22.4, 44.8, 89.6, 179.2, 281.6, 179.2, 358.4, 563.2, 281.6, 140.8, 70.4, 44.8, 70.4, 44.8, 70.4, 35.2, 22.4, 35.2, 22.4, 35.2, 17.6, 8.8, 5.6, 11.2, 17.6, 8.8, 1.1, 0.7, 1.1, 0.55, 0.275, 0.175, 0.35, 0.7, 1.1, 0.55, 0.275, 0.175, 0.275, 0.175, 0.35, 0.55, 0.35, 0.7, 1.4, 2.8, 5.6, 8.8, 5.6, 11.2, 17.6, 11.2, 22.4, 44.8, 89.6, 179.2, 1.4, 2.8, 5.6, 8.8, 5.6, 11.2, 22.4, 44.8, 70.4, 35.2, 22.4, 35.2, 17.6, 11.2, 17.6, 11.2, 22.4, 44.8, 89.6, 140.8, 70.4, 35.2, 22.4, 35.2, 22.4, 35.2, 22.4, 44.8, 70.4, 44.8, 1.4, 2.8, 4.4, 2.2, 1.4, 2.8, 4.4, 2.2, 1.4, 2.2, 1.4, 2.8, 5.6, 11.2, 22.4, 35.2, 22.4, 35.2, 17.6, 11.2, 22.4, 44.8, 89.6, 140.8, 89.6, 140.8, 89.6, 140.8, 70.4, 35.2, 1.4, 2.8, 5.6, 11.2, 22.4, 35.2, 22.4, 44.8, 70.4, 35.2, 17.6, 11.2, 17.6, 11.2, 17.6, 11.2, 17.6, 11.2, 22.4, 35.2, 22.4, 44.8, 89.6, 179.2, 281.6, 179.2, 358.4, 716.8, 1433.6, 2867.2, 1.4, 2.2, 1.1, 0.7, 1.4, 2.8, 5.6, 8.8, 5.6, 11.2, 22.4, 35.2, 22.4, 44.8, 89.6, 179.2, 358.4, 716.8, 1433.6, 2252.8, 1126.4, 716.8, 1126.4, 716.8, 1433.6, 2252.8, 1126.4, 716.8, 1433.6, 2867.2, 1.4, 2.8, 5.6, 8.8, 5.6, 8.8, 4.4, 2.2, 1.4, 2.8, 5.6, 11.2, 17.6, 11.2, 17.6, 8.8, 4.4, 2.8, 5.6, 11.2, 17.6, 11.2, 17.6, 8.8, 5.6, 8.8, 4.4, 2.2, 1.1, 0.7, 1.4, 2.8, 5.6, 8.8, 5.6, 11.2, 17.6, 11.2, 22.4, 35.2, 22.4, 44.8, 89.6, 179.2, 358.4, 716.8, 1126.4, 563.2, 358.4, 716.8, 1433.6, 2867.2, 4505.6, 2252.8, 1433.6, 2867.2, 5734.4, 9011.2, 4505.6, 2252.8, 1.4, 2.2, 1.1, 0.7, 1.1, 0.7, 1.1, 0.55, 0.275, 0.1375, 0.06875, 0.034375, 0.0171875, 0.0109375, 0.0171875, 0.0109375, 0.0171875, 0.00859375, 0.004296875, 0.002734375, 0.00546875, 0.0109375, 0.021875, 0.04375, 0.0875, 0.175, 0.275, 0.1375, 0.0875, 0.175, 1.4, 2.2, 1.4, 2.8, 5.6, 11.2, 22.4, 44.8, 70.4, 44.8, 89.6, 179.2, 358.4, 563.2, 358.4, 716.8, 1433.6, 2252.8, 1433.6, 2252.8, 1433.6, 2867.2, 4505.6, 2867.2, 4505.6, 2867.2, 4505.6, 2252.8, 1126.4, 716.8, 1.1, 0.7, 1.1, 0.55, 0.35, 0.7, 1.4, 2.8, 5.6, 8.8, 4.4, 2.8, 5.6, 8.8, 4.4, 2.8, 4.4, 2.2, 1.4, 2.2, 1.4, 2.8, 5.6, 11.2, 17.6, 8.8, 5.6, 8.8, 5.6, 11.2, 1.1, 0.7, 1.1, 0.7, 1.4, 2.2, 1.4, 2.2, 1.4, 2.8, 5.6, 11.2, 22.4, 35.2, 22.4, 44.8, 70.4, 44.8, 89.6, 179.2, 358.4, 716.8, 1126.4, 716.8, 1433.6, 2252.8, 1433.6, 2252.8, 1433.6, 2867.2, 1.1, 0.7, 1.4, 2.2, 1.4, 2.2, 1.1, 0.55, 0.275, 0.175, 0.35, 0.55, 0.35, 0.7, 1.1, 0.55, 0.275, 0.175, 0.35, 0.7, 1.4, 2.8, 5.6, 11.2, 22.4, 44.8, 89.6, 179.2, 358.4, 563.2, 1.4, 2.8, 4.4, 2.2, 1.4, 2.2, 1.1, 0.7, 1.4, 2.2, 1.4, 2.8, 4.4, 2.8, 4.4, 2.2, 1.4, 2.8, 4.4, 2.2, 1.1, 0.55, 0.35, 0.7, 1.4, 2.8, 5.6, 8.8, 5.6, 11.2, 1.4, 2.2, 1.1, 0.55, 0.35, 0.7, 1.1, 0.7, 1.4, 2.2, 1.4, 2.8, 4.4, 2.8, 4.4, 2.8, 4.4, 2.2, 1.4, 2.2, 1.4, 2.2, 1.4, 2.2, 1.4, 2.2, 1.4, 2.8, 4.4, 2.8, 1.4, 2.8, 4.4, 2.2, 1.1, 0.7, 1.4, 2.8, 5.6, 11.2, 22.4, 44.8, 70.4, 35.2, 22.4, 44.8, 89.6, 140.8, 89.6, 140.8, 70.4, 35.2, 17.6, 8.8, 5.6, 11.2, 17.6, 11.2, 22.4, 35.2, 1.4, 2.2, 1.1, 0.55, 0.35, 0.7, 1.4, 2.2, 1.1, 0.7, 1.4, 2.8, 5.6, 11.2, 17.6, 11.2, 22.4, 35.2, 17.6, 8.8, 5.6, 11.2, 22.4, 35.2, 22.4, 35.2, 22.4, 44.8, 70.4, 35.2, 1.4, 2.2, 1.1, 0.55, 0.35, 0.7, 1.1, 0.7, 1.4, 2.2, 1.1, 0.55, 0.35, 0.55, 0.35, 0.55, 0.35, 0.7, 1.4, 2.8, 4.4, 2.8, 5.6, 8.8, 5.6, 8.8, 4.4, 2.8, 5.6, 8.8, 1.1, 0.55, 0.35, 0.7, 1.1, 0.7, 1.1, 0.55, 0.35, 0.55, 0.35, 0.7, 1.1, 0.55, 0.275, 0.175, 0.35, 0.7, 1.1, 0.55, 0.275, 0.175, 0.275, 0.175, 0.275, 0.1375, 0.06875, 0.04375, 0.06875, 0.034375, 1.4, 2.8, 4.4, 2.8, 4.4, 2.2, 1.1, 0.7, 1.4, 2.2, 1.4, 2.8, 5.6, 11.2, 17.6, 8.8, 4.4, 2.8, 5.6, 8.8, 5.6, 8.8, 4.4, 2.8, 4.4, 2.2, 1.4, 2.2, 1.4, 2.2]\n",
            "20 :  [1.4, 2.8, 5.6, 11.2, 22.4, 44.8, 89.6, 179.2, 281.6, 179.2, 358.4, 563.2, 281.6, 140.8, 70.4, 44.8, 70.4, 44.8, 70.4, 35.2, 22.4, 35.2, 22.4, 35.2, 17.6, 8.8, 5.6, 11.2, 17.6, 8.8, 1.1, 0.7, 1.1, 0.55, 0.275, 0.175, 0.35, 0.7, 1.1, 0.55, 0.275, 0.175, 0.275, 0.175, 0.35, 0.55, 0.35, 0.7, 1.4, 2.8, 5.6, 8.8, 5.6, 11.2, 17.6, 11.2, 22.4, 44.8, 89.6, 179.2, 1.4, 2.8, 5.6, 8.8, 5.6, 11.2, 22.4, 44.8, 70.4, 35.2, 22.4, 35.2, 17.6, 11.2, 17.6, 11.2, 22.4, 44.8, 89.6, 140.8, 70.4, 35.2, 22.4, 35.2, 22.4, 35.2, 22.4, 44.8, 70.4, 44.8, 1.4, 2.8, 4.4, 2.2, 1.4, 2.8, 4.4, 2.2, 1.4, 2.2, 1.4, 2.8, 5.6, 11.2, 22.4, 35.2, 22.4, 35.2, 17.6, 11.2, 22.4, 44.8, 89.6, 140.8, 89.6, 140.8, 89.6, 140.8, 70.4, 35.2, 1.4, 2.8, 5.6, 11.2, 22.4, 35.2, 22.4, 44.8, 70.4, 35.2, 17.6, 11.2, 17.6, 11.2, 17.6, 11.2, 17.6, 11.2, 22.4, 35.2, 22.4, 44.8, 89.6, 179.2, 281.6, 179.2, 358.4, 716.8, 1433.6, 2867.2, 1.4, 2.2, 1.1, 0.7, 1.4, 2.8, 5.6, 8.8, 5.6, 11.2, 22.4, 35.2, 22.4, 44.8, 89.6, 179.2, 358.4, 716.8, 1433.6, 2252.8, 1126.4, 716.8, 1126.4, 716.8, 1433.6, 2252.8, 1126.4, 716.8, 1433.6, 2867.2, 1.4, 2.8, 5.6, 8.8, 5.6, 8.8, 4.4, 2.2, 1.4, 2.8, 5.6, 11.2, 17.6, 11.2, 17.6, 8.8, 4.4, 2.8, 5.6, 11.2, 17.6, 11.2, 17.6, 8.8, 5.6, 8.8, 4.4, 2.2, 1.1, 0.7, 1.4, 2.8, 5.6, 8.8, 5.6, 11.2, 17.6, 11.2, 22.4, 35.2, 22.4, 44.8, 89.6, 179.2, 358.4, 716.8, 1126.4, 563.2, 358.4, 716.8, 1433.6, 2867.2, 4505.6, 2252.8, 1433.6, 2867.2, 5734.4, 9011.2, 4505.6, 2252.8, 1.4, 2.2, 1.1, 0.7, 1.1, 0.7, 1.1, 0.55, 0.275, 0.1375, 0.06875, 0.034375, 0.0171875, 0.0109375, 0.0171875, 0.0109375, 0.0171875, 0.00859375, 0.004296875, 0.002734375, 0.00546875, 0.0109375, 0.021875, 0.04375, 0.0875, 0.175, 0.275, 0.1375, 0.0875, 0.175, 1.4, 2.2, 1.4, 2.8, 5.6, 11.2, 22.4, 44.8, 70.4, 44.8, 89.6, 179.2, 358.4, 563.2, 358.4, 716.8, 1433.6, 2252.8, 1433.6, 2252.8, 1433.6, 2867.2, 4505.6, 2867.2, 4505.6, 2867.2, 4505.6, 2252.8, 1126.4, 716.8, 1.1, 0.7, 1.1, 0.55, 0.35, 0.7, 1.4, 2.8, 5.6, 8.8, 4.4, 2.8, 5.6, 8.8, 4.4, 2.8, 4.4, 2.2, 1.4, 2.2, 1.4, 2.8, 5.6, 11.2, 17.6, 8.8, 5.6, 8.8, 5.6, 11.2, 1.1, 0.7, 1.1, 0.7, 1.4, 2.2, 1.4, 2.2, 1.4, 2.8, 5.6, 11.2, 22.4, 35.2, 22.4, 44.8, 70.4, 44.8, 89.6, 179.2, 358.4, 716.8, 1126.4, 716.8, 1433.6, 2252.8, 1433.6, 2252.8, 1433.6, 2867.2, 1.1, 0.7, 1.4, 2.2, 1.4, 2.2, 1.1, 0.55, 0.275, 0.175, 0.35, 0.55, 0.35, 0.7, 1.1, 0.55, 0.275, 0.175, 0.35, 0.7, 1.4, 2.8, 5.6, 11.2, 22.4, 44.8, 89.6, 179.2, 358.4, 563.2, 1.4, 2.8, 4.4, 2.2, 1.4, 2.2, 1.1, 0.7, 1.4, 2.2, 1.4, 2.8, 4.4, 2.8, 4.4, 2.2, 1.4, 2.8, 4.4, 2.2, 1.1, 0.55, 0.35, 0.7, 1.4, 2.8, 5.6, 8.8, 5.6, 11.2, 1.4, 2.2, 1.1, 0.55, 0.35, 0.7, 1.1, 0.7, 1.4, 2.2, 1.4, 2.8, 4.4, 2.8, 4.4, 2.8, 4.4, 2.2, 1.4, 2.2, 1.4, 2.2, 1.4, 2.2, 1.4, 2.2, 1.4, 2.8, 4.4, 2.8, 1.4, 2.8, 4.4, 2.2, 1.1, 0.7, 1.4, 2.8, 5.6, 11.2, 22.4, 44.8, 70.4, 35.2, 22.4, 44.8, 89.6, 140.8, 89.6, 140.8, 70.4, 35.2, 17.6, 8.8, 5.6, 11.2, 17.6, 11.2, 22.4, 35.2, 1.4, 2.2, 1.1, 0.55, 0.35, 0.7, 1.4, 2.2, 1.1, 0.7, 1.4, 2.8, 5.6, 11.2, 17.6, 11.2, 22.4, 35.2, 17.6, 8.8, 5.6, 11.2, 22.4, 35.2, 22.4, 35.2, 22.4, 44.8, 70.4, 35.2, 1.4, 2.2, 1.1, 0.55, 0.35, 0.7, 1.1, 0.7, 1.4, 2.2, 1.1, 0.55, 0.35, 0.55, 0.35, 0.55, 0.35, 0.7, 1.4, 2.8, 4.4, 2.8, 5.6, 8.8, 5.6, 8.8, 4.4, 2.8, 5.6, 8.8, 1.1, 0.55, 0.35, 0.7, 1.1, 0.7, 1.1, 0.55, 0.35, 0.55, 0.35, 0.7, 1.1, 0.55, 0.275, 0.175, 0.35, 0.7, 1.1, 0.55, 0.275, 0.175, 0.275, 0.175, 0.275, 0.1375, 0.06875, 0.04375, 0.06875, 0.034375, 1.4, 2.8, 4.4, 2.8, 4.4, 2.2, 1.1, 0.7, 1.4, 2.2, 1.4, 2.8, 5.6, 11.2, 17.6, 8.8, 4.4, 2.8, 5.6, 8.8, 5.6, 8.8, 4.4, 2.8, 4.4, 2.2, 1.4, 2.2, 1.4, 2.2, 1.4, 2.8, 4.4, 2.2, 1.1, 0.7, 1.1, 0.7, 1.4, 2.8, 4.4, 2.8, 4.4, 2.8, 4.4, 2.8, 5.6, 8.8, 4.4, 2.2, 1.1, 0.55, 0.35, 0.7, 1.1, 0.55, 0.275, 0.175, 0.275, 0.175]\n",
            "21 :  [1.4, 2.8, 5.6, 11.2, 22.4, 44.8, 89.6, 179.2, 281.6, 179.2, 358.4, 563.2, 281.6, 140.8, 70.4, 44.8, 70.4, 44.8, 70.4, 35.2, 22.4, 35.2, 22.4, 35.2, 17.6, 8.8, 5.6, 11.2, 17.6, 8.8, 1.1, 0.7, 1.1, 0.55, 0.275, 0.175, 0.35, 0.7, 1.1, 0.55, 0.275, 0.175, 0.275, 0.175, 0.35, 0.55, 0.35, 0.7, 1.4, 2.8, 5.6, 8.8, 5.6, 11.2, 17.6, 11.2, 22.4, 44.8, 89.6, 179.2, 1.4, 2.8, 5.6, 8.8, 5.6, 11.2, 22.4, 44.8, 70.4, 35.2, 22.4, 35.2, 17.6, 11.2, 17.6, 11.2, 22.4, 44.8, 89.6, 140.8, 70.4, 35.2, 22.4, 35.2, 22.4, 35.2, 22.4, 44.8, 70.4, 44.8, 1.4, 2.8, 4.4, 2.2, 1.4, 2.8, 4.4, 2.2, 1.4, 2.2, 1.4, 2.8, 5.6, 11.2, 22.4, 35.2, 22.4, 35.2, 17.6, 11.2, 22.4, 44.8, 89.6, 140.8, 89.6, 140.8, 89.6, 140.8, 70.4, 35.2, 1.4, 2.8, 5.6, 11.2, 22.4, 35.2, 22.4, 44.8, 70.4, 35.2, 17.6, 11.2, 17.6, 11.2, 17.6, 11.2, 17.6, 11.2, 22.4, 35.2, 22.4, 44.8, 89.6, 179.2, 281.6, 179.2, 358.4, 716.8, 1433.6, 2867.2, 1.4, 2.2, 1.1, 0.7, 1.4, 2.8, 5.6, 8.8, 5.6, 11.2, 22.4, 35.2, 22.4, 44.8, 89.6, 179.2, 358.4, 716.8, 1433.6, 2252.8, 1126.4, 716.8, 1126.4, 716.8, 1433.6, 2252.8, 1126.4, 716.8, 1433.6, 2867.2, 1.4, 2.8, 5.6, 8.8, 5.6, 8.8, 4.4, 2.2, 1.4, 2.8, 5.6, 11.2, 17.6, 11.2, 17.6, 8.8, 4.4, 2.8, 5.6, 11.2, 17.6, 11.2, 17.6, 8.8, 5.6, 8.8, 4.4, 2.2, 1.1, 0.7, 1.4, 2.8, 5.6, 8.8, 5.6, 11.2, 17.6, 11.2, 22.4, 35.2, 22.4, 44.8, 89.6, 179.2, 358.4, 716.8, 1126.4, 563.2, 358.4, 716.8, 1433.6, 2867.2, 4505.6, 2252.8, 1433.6, 2867.2, 5734.4, 9011.2, 4505.6, 2252.8, 1.4, 2.2, 1.1, 0.7, 1.1, 0.7, 1.1, 0.55, 0.275, 0.1375, 0.06875, 0.034375, 0.0171875, 0.0109375, 0.0171875, 0.0109375, 0.0171875, 0.00859375, 0.004296875, 0.002734375, 0.00546875, 0.0109375, 0.021875, 0.04375, 0.0875, 0.175, 0.275, 0.1375, 0.0875, 0.175, 1.4, 2.2, 1.4, 2.8, 5.6, 11.2, 22.4, 44.8, 70.4, 44.8, 89.6, 179.2, 358.4, 563.2, 358.4, 716.8, 1433.6, 2252.8, 1433.6, 2252.8, 1433.6, 2867.2, 4505.6, 2867.2, 4505.6, 2867.2, 4505.6, 2252.8, 1126.4, 716.8, 1.1, 0.7, 1.1, 0.55, 0.35, 0.7, 1.4, 2.8, 5.6, 8.8, 4.4, 2.8, 5.6, 8.8, 4.4, 2.8, 4.4, 2.2, 1.4, 2.2, 1.4, 2.8, 5.6, 11.2, 17.6, 8.8, 5.6, 8.8, 5.6, 11.2, 1.1, 0.7, 1.1, 0.7, 1.4, 2.2, 1.4, 2.2, 1.4, 2.8, 5.6, 11.2, 22.4, 35.2, 22.4, 44.8, 70.4, 44.8, 89.6, 179.2, 358.4, 716.8, 1126.4, 716.8, 1433.6, 2252.8, 1433.6, 2252.8, 1433.6, 2867.2, 1.1, 0.7, 1.4, 2.2, 1.4, 2.2, 1.1, 0.55, 0.275, 0.175, 0.35, 0.55, 0.35, 0.7, 1.1, 0.55, 0.275, 0.175, 0.35, 0.7, 1.4, 2.8, 5.6, 11.2, 22.4, 44.8, 89.6, 179.2, 358.4, 563.2, 1.4, 2.8, 4.4, 2.2, 1.4, 2.2, 1.1, 0.7, 1.4, 2.2, 1.4, 2.8, 4.4, 2.8, 4.4, 2.2, 1.4, 2.8, 4.4, 2.2, 1.1, 0.55, 0.35, 0.7, 1.4, 2.8, 5.6, 8.8, 5.6, 11.2, 1.4, 2.2, 1.1, 0.55, 0.35, 0.7, 1.1, 0.7, 1.4, 2.2, 1.4, 2.8, 4.4, 2.8, 4.4, 2.8, 4.4, 2.2, 1.4, 2.2, 1.4, 2.2, 1.4, 2.2, 1.4, 2.2, 1.4, 2.8, 4.4, 2.8, 1.4, 2.8, 4.4, 2.2, 1.1, 0.7, 1.4, 2.8, 5.6, 11.2, 22.4, 44.8, 70.4, 35.2, 22.4, 44.8, 89.6, 140.8, 89.6, 140.8, 70.4, 35.2, 17.6, 8.8, 5.6, 11.2, 17.6, 11.2, 22.4, 35.2, 1.4, 2.2, 1.1, 0.55, 0.35, 0.7, 1.4, 2.2, 1.1, 0.7, 1.4, 2.8, 5.6, 11.2, 17.6, 11.2, 22.4, 35.2, 17.6, 8.8, 5.6, 11.2, 22.4, 35.2, 22.4, 35.2, 22.4, 44.8, 70.4, 35.2, 1.4, 2.2, 1.1, 0.55, 0.35, 0.7, 1.1, 0.7, 1.4, 2.2, 1.1, 0.55, 0.35, 0.55, 0.35, 0.55, 0.35, 0.7, 1.4, 2.8, 4.4, 2.8, 5.6, 8.8, 5.6, 8.8, 4.4, 2.8, 5.6, 8.8, 1.1, 0.55, 0.35, 0.7, 1.1, 0.7, 1.1, 0.55, 0.35, 0.55, 0.35, 0.7, 1.1, 0.55, 0.275, 0.175, 0.35, 0.7, 1.1, 0.55, 0.275, 0.175, 0.275, 0.175, 0.275, 0.1375, 0.06875, 0.04375, 0.06875, 0.034375, 1.4, 2.8, 4.4, 2.8, 4.4, 2.2, 1.1, 0.7, 1.4, 2.2, 1.4, 2.8, 5.6, 11.2, 17.6, 8.8, 4.4, 2.8, 5.6, 8.8, 5.6, 8.8, 4.4, 2.8, 4.4, 2.2, 1.4, 2.2, 1.4, 2.2, 1.4, 2.8, 4.4, 2.2, 1.1, 0.7, 1.1, 0.7, 1.4, 2.8, 4.4, 2.8, 4.4, 2.8, 4.4, 2.8, 5.6, 8.8, 4.4, 2.2, 1.1, 0.55, 0.35, 0.7, 1.1, 0.55, 0.275, 0.175, 0.275, 0.175, 1.1, 0.55, 0.275, 0.1375, 0.0875, 0.1375, 0.0875, 0.175, 0.275, 0.175, 0.35, 0.7, 1.1, 0.7, 1.1, 0.7, 1.4, 2.2, 1.4, 2.2, 1.1, 0.7, 1.4, 2.8, 4.4, 2.8, 4.4, 2.2, 1.1, 0.55]\n",
            "22 :  [1.4, 2.8, 5.6, 11.2, 22.4, 44.8, 89.6, 179.2, 281.6, 179.2, 358.4, 563.2, 281.6, 140.8, 70.4, 44.8, 70.4, 44.8, 70.4, 35.2, 22.4, 35.2, 22.4, 35.2, 17.6, 8.8, 5.6, 11.2, 17.6, 8.8, 1.1, 0.7, 1.1, 0.55, 0.275, 0.175, 0.35, 0.7, 1.1, 0.55, 0.275, 0.175, 0.275, 0.175, 0.35, 0.55, 0.35, 0.7, 1.4, 2.8, 5.6, 8.8, 5.6, 11.2, 17.6, 11.2, 22.4, 44.8, 89.6, 179.2, 1.4, 2.8, 5.6, 8.8, 5.6, 11.2, 22.4, 44.8, 70.4, 35.2, 22.4, 35.2, 17.6, 11.2, 17.6, 11.2, 22.4, 44.8, 89.6, 140.8, 70.4, 35.2, 22.4, 35.2, 22.4, 35.2, 22.4, 44.8, 70.4, 44.8, 1.4, 2.8, 4.4, 2.2, 1.4, 2.8, 4.4, 2.2, 1.4, 2.2, 1.4, 2.8, 5.6, 11.2, 22.4, 35.2, 22.4, 35.2, 17.6, 11.2, 22.4, 44.8, 89.6, 140.8, 89.6, 140.8, 89.6, 140.8, 70.4, 35.2, 1.4, 2.8, 5.6, 11.2, 22.4, 35.2, 22.4, 44.8, 70.4, 35.2, 17.6, 11.2, 17.6, 11.2, 17.6, 11.2, 17.6, 11.2, 22.4, 35.2, 22.4, 44.8, 89.6, 179.2, 281.6, 179.2, 358.4, 716.8, 1433.6, 2867.2, 1.4, 2.2, 1.1, 0.7, 1.4, 2.8, 5.6, 8.8, 5.6, 11.2, 22.4, 35.2, 22.4, 44.8, 89.6, 179.2, 358.4, 716.8, 1433.6, 2252.8, 1126.4, 716.8, 1126.4, 716.8, 1433.6, 2252.8, 1126.4, 716.8, 1433.6, 2867.2, 1.4, 2.8, 5.6, 8.8, 5.6, 8.8, 4.4, 2.2, 1.4, 2.8, 5.6, 11.2, 17.6, 11.2, 17.6, 8.8, 4.4, 2.8, 5.6, 11.2, 17.6, 11.2, 17.6, 8.8, 5.6, 8.8, 4.4, 2.2, 1.1, 0.7, 1.4, 2.8, 5.6, 8.8, 5.6, 11.2, 17.6, 11.2, 22.4, 35.2, 22.4, 44.8, 89.6, 179.2, 358.4, 716.8, 1126.4, 563.2, 358.4, 716.8, 1433.6, 2867.2, 4505.6, 2252.8, 1433.6, 2867.2, 5734.4, 9011.2, 4505.6, 2252.8, 1.4, 2.2, 1.1, 0.7, 1.1, 0.7, 1.1, 0.55, 0.275, 0.1375, 0.06875, 0.034375, 0.0171875, 0.0109375, 0.0171875, 0.0109375, 0.0171875, 0.00859375, 0.004296875, 0.002734375, 0.00546875, 0.0109375, 0.021875, 0.04375, 0.0875, 0.175, 0.275, 0.1375, 0.0875, 0.175, 1.4, 2.2, 1.4, 2.8, 5.6, 11.2, 22.4, 44.8, 70.4, 44.8, 89.6, 179.2, 358.4, 563.2, 358.4, 716.8, 1433.6, 2252.8, 1433.6, 2252.8, 1433.6, 2867.2, 4505.6, 2867.2, 4505.6, 2867.2, 4505.6, 2252.8, 1126.4, 716.8, 1.1, 0.7, 1.1, 0.55, 0.35, 0.7, 1.4, 2.8, 5.6, 8.8, 4.4, 2.8, 5.6, 8.8, 4.4, 2.8, 4.4, 2.2, 1.4, 2.2, 1.4, 2.8, 5.6, 11.2, 17.6, 8.8, 5.6, 8.8, 5.6, 11.2, 1.1, 0.7, 1.1, 0.7, 1.4, 2.2, 1.4, 2.2, 1.4, 2.8, 5.6, 11.2, 22.4, 35.2, 22.4, 44.8, 70.4, 44.8, 89.6, 179.2, 358.4, 716.8, 1126.4, 716.8, 1433.6, 2252.8, 1433.6, 2252.8, 1433.6, 2867.2, 1.1, 0.7, 1.4, 2.2, 1.4, 2.2, 1.1, 0.55, 0.275, 0.175, 0.35, 0.55, 0.35, 0.7, 1.1, 0.55, 0.275, 0.175, 0.35, 0.7, 1.4, 2.8, 5.6, 11.2, 22.4, 44.8, 89.6, 179.2, 358.4, 563.2, 1.4, 2.8, 4.4, 2.2, 1.4, 2.2, 1.1, 0.7, 1.4, 2.2, 1.4, 2.8, 4.4, 2.8, 4.4, 2.2, 1.4, 2.8, 4.4, 2.2, 1.1, 0.55, 0.35, 0.7, 1.4, 2.8, 5.6, 8.8, 5.6, 11.2, 1.4, 2.2, 1.1, 0.55, 0.35, 0.7, 1.1, 0.7, 1.4, 2.2, 1.4, 2.8, 4.4, 2.8, 4.4, 2.8, 4.4, 2.2, 1.4, 2.2, 1.4, 2.2, 1.4, 2.2, 1.4, 2.2, 1.4, 2.8, 4.4, 2.8, 1.4, 2.8, 4.4, 2.2, 1.1, 0.7, 1.4, 2.8, 5.6, 11.2, 22.4, 44.8, 70.4, 35.2, 22.4, 44.8, 89.6, 140.8, 89.6, 140.8, 70.4, 35.2, 17.6, 8.8, 5.6, 11.2, 17.6, 11.2, 22.4, 35.2, 1.4, 2.2, 1.1, 0.55, 0.35, 0.7, 1.4, 2.2, 1.1, 0.7, 1.4, 2.8, 5.6, 11.2, 17.6, 11.2, 22.4, 35.2, 17.6, 8.8, 5.6, 11.2, 22.4, 35.2, 22.4, 35.2, 22.4, 44.8, 70.4, 35.2, 1.4, 2.2, 1.1, 0.55, 0.35, 0.7, 1.1, 0.7, 1.4, 2.2, 1.1, 0.55, 0.35, 0.55, 0.35, 0.55, 0.35, 0.7, 1.4, 2.8, 4.4, 2.8, 5.6, 8.8, 5.6, 8.8, 4.4, 2.8, 5.6, 8.8, 1.1, 0.55, 0.35, 0.7, 1.1, 0.7, 1.1, 0.55, 0.35, 0.55, 0.35, 0.7, 1.1, 0.55, 0.275, 0.175, 0.35, 0.7, 1.1, 0.55, 0.275, 0.175, 0.275, 0.175, 0.275, 0.1375, 0.06875, 0.04375, 0.06875, 0.034375, 1.4, 2.8, 4.4, 2.8, 4.4, 2.2, 1.1, 0.7, 1.4, 2.2, 1.4, 2.8, 5.6, 11.2, 17.6, 8.8, 4.4, 2.8, 5.6, 8.8, 5.6, 8.8, 4.4, 2.8, 4.4, 2.2, 1.4, 2.2, 1.4, 2.2, 1.4, 2.8, 4.4, 2.2, 1.1, 0.7, 1.1, 0.7, 1.4, 2.8, 4.4, 2.8, 4.4, 2.8, 4.4, 2.8, 5.6, 8.8, 4.4, 2.2, 1.1, 0.55, 0.35, 0.7, 1.1, 0.55, 0.275, 0.175, 0.275, 0.175, 1.1, 0.55, 0.275, 0.1375, 0.0875, 0.1375, 0.0875, 0.175, 0.275, 0.175, 0.35, 0.7, 1.1, 0.7, 1.1, 0.7, 1.4, 2.2, 1.4, 2.2, 1.1, 0.7, 1.4, 2.8, 4.4, 2.8, 4.4, 2.2, 1.1, 0.55, 1.4, 2.2, 1.4, 2.8, 4.4, 2.2, 1.4, 2.8, 5.6, 11.2, 22.4, 44.8, 89.6, 179.2, 281.6, 179.2, 281.6, 179.2, 358.4, 563.2, 358.4, 563.2, 358.4, 716.8, 1433.6, 2252.8, 1126.4, 563.2, 281.6, 179.2]\n",
            "23 :  [1.4, 2.8, 5.6, 11.2, 22.4, 44.8, 89.6, 179.2, 281.6, 179.2, 358.4, 563.2, 281.6, 140.8, 70.4, 44.8, 70.4, 44.8, 70.4, 35.2, 22.4, 35.2, 22.4, 35.2, 17.6, 8.8, 5.6, 11.2, 17.6, 8.8, 1.1, 0.7, 1.1, 0.55, 0.275, 0.175, 0.35, 0.7, 1.1, 0.55, 0.275, 0.175, 0.275, 0.175, 0.35, 0.55, 0.35, 0.7, 1.4, 2.8, 5.6, 8.8, 5.6, 11.2, 17.6, 11.2, 22.4, 44.8, 89.6, 179.2, 1.4, 2.8, 5.6, 8.8, 5.6, 11.2, 22.4, 44.8, 70.4, 35.2, 22.4, 35.2, 17.6, 11.2, 17.6, 11.2, 22.4, 44.8, 89.6, 140.8, 70.4, 35.2, 22.4, 35.2, 22.4, 35.2, 22.4, 44.8, 70.4, 44.8, 1.4, 2.8, 4.4, 2.2, 1.4, 2.8, 4.4, 2.2, 1.4, 2.2, 1.4, 2.8, 5.6, 11.2, 22.4, 35.2, 22.4, 35.2, 17.6, 11.2, 22.4, 44.8, 89.6, 140.8, 89.6, 140.8, 89.6, 140.8, 70.4, 35.2, 1.4, 2.8, 5.6, 11.2, 22.4, 35.2, 22.4, 44.8, 70.4, 35.2, 17.6, 11.2, 17.6, 11.2, 17.6, 11.2, 17.6, 11.2, 22.4, 35.2, 22.4, 44.8, 89.6, 179.2, 281.6, 179.2, 358.4, 716.8, 1433.6, 2867.2, 1.4, 2.2, 1.1, 0.7, 1.4, 2.8, 5.6, 8.8, 5.6, 11.2, 22.4, 35.2, 22.4, 44.8, 89.6, 179.2, 358.4, 716.8, 1433.6, 2252.8, 1126.4, 716.8, 1126.4, 716.8, 1433.6, 2252.8, 1126.4, 716.8, 1433.6, 2867.2, 1.4, 2.8, 5.6, 8.8, 5.6, 8.8, 4.4, 2.2, 1.4, 2.8, 5.6, 11.2, 17.6, 11.2, 17.6, 8.8, 4.4, 2.8, 5.6, 11.2, 17.6, 11.2, 17.6, 8.8, 5.6, 8.8, 4.4, 2.2, 1.1, 0.7, 1.4, 2.8, 5.6, 8.8, 5.6, 11.2, 17.6, 11.2, 22.4, 35.2, 22.4, 44.8, 89.6, 179.2, 358.4, 716.8, 1126.4, 563.2, 358.4, 716.8, 1433.6, 2867.2, 4505.6, 2252.8, 1433.6, 2867.2, 5734.4, 9011.2, 4505.6, 2252.8, 1.4, 2.2, 1.1, 0.7, 1.1, 0.7, 1.1, 0.55, 0.275, 0.1375, 0.06875, 0.034375, 0.0171875, 0.0109375, 0.0171875, 0.0109375, 0.0171875, 0.00859375, 0.004296875, 0.002734375, 0.00546875, 0.0109375, 0.021875, 0.04375, 0.0875, 0.175, 0.275, 0.1375, 0.0875, 0.175, 1.4, 2.2, 1.4, 2.8, 5.6, 11.2, 22.4, 44.8, 70.4, 44.8, 89.6, 179.2, 358.4, 563.2, 358.4, 716.8, 1433.6, 2252.8, 1433.6, 2252.8, 1433.6, 2867.2, 4505.6, 2867.2, 4505.6, 2867.2, 4505.6, 2252.8, 1126.4, 716.8, 1.1, 0.7, 1.1, 0.55, 0.35, 0.7, 1.4, 2.8, 5.6, 8.8, 4.4, 2.8, 5.6, 8.8, 4.4, 2.8, 4.4, 2.2, 1.4, 2.2, 1.4, 2.8, 5.6, 11.2, 17.6, 8.8, 5.6, 8.8, 5.6, 11.2, 1.1, 0.7, 1.1, 0.7, 1.4, 2.2, 1.4, 2.2, 1.4, 2.8, 5.6, 11.2, 22.4, 35.2, 22.4, 44.8, 70.4, 44.8, 89.6, 179.2, 358.4, 716.8, 1126.4, 716.8, 1433.6, 2252.8, 1433.6, 2252.8, 1433.6, 2867.2, 1.1, 0.7, 1.4, 2.2, 1.4, 2.2, 1.1, 0.55, 0.275, 0.175, 0.35, 0.55, 0.35, 0.7, 1.1, 0.55, 0.275, 0.175, 0.35, 0.7, 1.4, 2.8, 5.6, 11.2, 22.4, 44.8, 89.6, 179.2, 358.4, 563.2, 1.4, 2.8, 4.4, 2.2, 1.4, 2.2, 1.1, 0.7, 1.4, 2.2, 1.4, 2.8, 4.4, 2.8, 4.4, 2.2, 1.4, 2.8, 4.4, 2.2, 1.1, 0.55, 0.35, 0.7, 1.4, 2.8, 5.6, 8.8, 5.6, 11.2, 1.4, 2.2, 1.1, 0.55, 0.35, 0.7, 1.1, 0.7, 1.4, 2.2, 1.4, 2.8, 4.4, 2.8, 4.4, 2.8, 4.4, 2.2, 1.4, 2.2, 1.4, 2.2, 1.4, 2.2, 1.4, 2.2, 1.4, 2.8, 4.4, 2.8, 1.4, 2.8, 4.4, 2.2, 1.1, 0.7, 1.4, 2.8, 5.6, 11.2, 22.4, 44.8, 70.4, 35.2, 22.4, 44.8, 89.6, 140.8, 89.6, 140.8, 70.4, 35.2, 17.6, 8.8, 5.6, 11.2, 17.6, 11.2, 22.4, 35.2, 1.4, 2.2, 1.1, 0.55, 0.35, 0.7, 1.4, 2.2, 1.1, 0.7, 1.4, 2.8, 5.6, 11.2, 17.6, 11.2, 22.4, 35.2, 17.6, 8.8, 5.6, 11.2, 22.4, 35.2, 22.4, 35.2, 22.4, 44.8, 70.4, 35.2, 1.4, 2.2, 1.1, 0.55, 0.35, 0.7, 1.1, 0.7, 1.4, 2.2, 1.1, 0.55, 0.35, 0.55, 0.35, 0.55, 0.35, 0.7, 1.4, 2.8, 4.4, 2.8, 5.6, 8.8, 5.6, 8.8, 4.4, 2.8, 5.6, 8.8, 1.1, 0.55, 0.35, 0.7, 1.1, 0.7, 1.1, 0.55, 0.35, 0.55, 0.35, 0.7, 1.1, 0.55, 0.275, 0.175, 0.35, 0.7, 1.1, 0.55, 0.275, 0.175, 0.275, 0.175, 0.275, 0.1375, 0.06875, 0.04375, 0.06875, 0.034375, 1.4, 2.8, 4.4, 2.8, 4.4, 2.2, 1.1, 0.7, 1.4, 2.2, 1.4, 2.8, 5.6, 11.2, 17.6, 8.8, 4.4, 2.8, 5.6, 8.8, 5.6, 8.8, 4.4, 2.8, 4.4, 2.2, 1.4, 2.2, 1.4, 2.2, 1.4, 2.8, 4.4, 2.2, 1.1, 0.7, 1.1, 0.7, 1.4, 2.8, 4.4, 2.8, 4.4, 2.8, 4.4, 2.8, 5.6, 8.8, 4.4, 2.2, 1.1, 0.55, 0.35, 0.7, 1.1, 0.55, 0.275, 0.175, 0.275, 0.175, 1.1, 0.55, 0.275, 0.1375, 0.0875, 0.1375, 0.0875, 0.175, 0.275, 0.175, 0.35, 0.7, 1.1, 0.7, 1.1, 0.7, 1.4, 2.2, 1.4, 2.2, 1.1, 0.7, 1.4, 2.8, 4.4, 2.8, 4.4, 2.2, 1.1, 0.55, 1.4, 2.2, 1.4, 2.8, 4.4, 2.2, 1.4, 2.8, 5.6, 11.2, 22.4, 44.8, 89.6, 179.2, 281.6, 179.2, 281.6, 179.2, 358.4, 563.2, 358.4, 563.2, 358.4, 716.8, 1433.6, 2252.8, 1126.4, 563.2, 281.6, 179.2, 1.4, 2.2, 1.1, 0.55, 0.275, 0.175, 0.35, 0.7, 1.4, 2.2, 1.4, 2.8, 4.4, 2.8, 5.6, 11.2, 22.4, 44.8, 70.4, 44.8, 89.6, 179.2, 358.4, 563.2, 281.6, 179.2, 358.4, 563.2, 358.4, 716.8]\n",
            "24 :  [1.4, 2.8, 5.6, 11.2, 22.4, 44.8, 89.6, 179.2, 281.6, 179.2, 358.4, 563.2, 281.6, 140.8, 70.4, 44.8, 70.4, 44.8, 70.4, 35.2, 22.4, 35.2, 22.4, 35.2, 17.6, 8.8, 5.6, 11.2, 17.6, 8.8, 1.1, 0.7, 1.1, 0.55, 0.275, 0.175, 0.35, 0.7, 1.1, 0.55, 0.275, 0.175, 0.275, 0.175, 0.35, 0.55, 0.35, 0.7, 1.4, 2.8, 5.6, 8.8, 5.6, 11.2, 17.6, 11.2, 22.4, 44.8, 89.6, 179.2, 1.4, 2.8, 5.6, 8.8, 5.6, 11.2, 22.4, 44.8, 70.4, 35.2, 22.4, 35.2, 17.6, 11.2, 17.6, 11.2, 22.4, 44.8, 89.6, 140.8, 70.4, 35.2, 22.4, 35.2, 22.4, 35.2, 22.4, 44.8, 70.4, 44.8, 1.4, 2.8, 4.4, 2.2, 1.4, 2.8, 4.4, 2.2, 1.4, 2.2, 1.4, 2.8, 5.6, 11.2, 22.4, 35.2, 22.4, 35.2, 17.6, 11.2, 22.4, 44.8, 89.6, 140.8, 89.6, 140.8, 89.6, 140.8, 70.4, 35.2, 1.4, 2.8, 5.6, 11.2, 22.4, 35.2, 22.4, 44.8, 70.4, 35.2, 17.6, 11.2, 17.6, 11.2, 17.6, 11.2, 17.6, 11.2, 22.4, 35.2, 22.4, 44.8, 89.6, 179.2, 281.6, 179.2, 358.4, 716.8, 1433.6, 2867.2, 1.4, 2.2, 1.1, 0.7, 1.4, 2.8, 5.6, 8.8, 5.6, 11.2, 22.4, 35.2, 22.4, 44.8, 89.6, 179.2, 358.4, 716.8, 1433.6, 2252.8, 1126.4, 716.8, 1126.4, 716.8, 1433.6, 2252.8, 1126.4, 716.8, 1433.6, 2867.2, 1.4, 2.8, 5.6, 8.8, 5.6, 8.8, 4.4, 2.2, 1.4, 2.8, 5.6, 11.2, 17.6, 11.2, 17.6, 8.8, 4.4, 2.8, 5.6, 11.2, 17.6, 11.2, 17.6, 8.8, 5.6, 8.8, 4.4, 2.2, 1.1, 0.7, 1.4, 2.8, 5.6, 8.8, 5.6, 11.2, 17.6, 11.2, 22.4, 35.2, 22.4, 44.8, 89.6, 179.2, 358.4, 716.8, 1126.4, 563.2, 358.4, 716.8, 1433.6, 2867.2, 4505.6, 2252.8, 1433.6, 2867.2, 5734.4, 9011.2, 4505.6, 2252.8, 1.4, 2.2, 1.1, 0.7, 1.1, 0.7, 1.1, 0.55, 0.275, 0.1375, 0.06875, 0.034375, 0.0171875, 0.0109375, 0.0171875, 0.0109375, 0.0171875, 0.00859375, 0.004296875, 0.002734375, 0.00546875, 0.0109375, 0.021875, 0.04375, 0.0875, 0.175, 0.275, 0.1375, 0.0875, 0.175, 1.4, 2.2, 1.4, 2.8, 5.6, 11.2, 22.4, 44.8, 70.4, 44.8, 89.6, 179.2, 358.4, 563.2, 358.4, 716.8, 1433.6, 2252.8, 1433.6, 2252.8, 1433.6, 2867.2, 4505.6, 2867.2, 4505.6, 2867.2, 4505.6, 2252.8, 1126.4, 716.8, 1.1, 0.7, 1.1, 0.55, 0.35, 0.7, 1.4, 2.8, 5.6, 8.8, 4.4, 2.8, 5.6, 8.8, 4.4, 2.8, 4.4, 2.2, 1.4, 2.2, 1.4, 2.8, 5.6, 11.2, 17.6, 8.8, 5.6, 8.8, 5.6, 11.2, 1.1, 0.7, 1.1, 0.7, 1.4, 2.2, 1.4, 2.2, 1.4, 2.8, 5.6, 11.2, 22.4, 35.2, 22.4, 44.8, 70.4, 44.8, 89.6, 179.2, 358.4, 716.8, 1126.4, 716.8, 1433.6, 2252.8, 1433.6, 2252.8, 1433.6, 2867.2, 1.1, 0.7, 1.4, 2.2, 1.4, 2.2, 1.1, 0.55, 0.275, 0.175, 0.35, 0.55, 0.35, 0.7, 1.1, 0.55, 0.275, 0.175, 0.35, 0.7, 1.4, 2.8, 5.6, 11.2, 22.4, 44.8, 89.6, 179.2, 358.4, 563.2, 1.4, 2.8, 4.4, 2.2, 1.4, 2.2, 1.1, 0.7, 1.4, 2.2, 1.4, 2.8, 4.4, 2.8, 4.4, 2.2, 1.4, 2.8, 4.4, 2.2, 1.1, 0.55, 0.35, 0.7, 1.4, 2.8, 5.6, 8.8, 5.6, 11.2, 1.4, 2.2, 1.1, 0.55, 0.35, 0.7, 1.1, 0.7, 1.4, 2.2, 1.4, 2.8, 4.4, 2.8, 4.4, 2.8, 4.4, 2.2, 1.4, 2.2, 1.4, 2.2, 1.4, 2.2, 1.4, 2.2, 1.4, 2.8, 4.4, 2.8, 1.4, 2.8, 4.4, 2.2, 1.1, 0.7, 1.4, 2.8, 5.6, 11.2, 22.4, 44.8, 70.4, 35.2, 22.4, 44.8, 89.6, 140.8, 89.6, 140.8, 70.4, 35.2, 17.6, 8.8, 5.6, 11.2, 17.6, 11.2, 22.4, 35.2, 1.4, 2.2, 1.1, 0.55, 0.35, 0.7, 1.4, 2.2, 1.1, 0.7, 1.4, 2.8, 5.6, 11.2, 17.6, 11.2, 22.4, 35.2, 17.6, 8.8, 5.6, 11.2, 22.4, 35.2, 22.4, 35.2, 22.4, 44.8, 70.4, 35.2, 1.4, 2.2, 1.1, 0.55, 0.35, 0.7, 1.1, 0.7, 1.4, 2.2, 1.1, 0.55, 0.35, 0.55, 0.35, 0.55, 0.35, 0.7, 1.4, 2.8, 4.4, 2.8, 5.6, 8.8, 5.6, 8.8, 4.4, 2.8, 5.6, 8.8, 1.1, 0.55, 0.35, 0.7, 1.1, 0.7, 1.1, 0.55, 0.35, 0.55, 0.35, 0.7, 1.1, 0.55, 0.275, 0.175, 0.35, 0.7, 1.1, 0.55, 0.275, 0.175, 0.275, 0.175, 0.275, 0.1375, 0.06875, 0.04375, 0.06875, 0.034375, 1.4, 2.8, 4.4, 2.8, 4.4, 2.2, 1.1, 0.7, 1.4, 2.2, 1.4, 2.8, 5.6, 11.2, 17.6, 8.8, 4.4, 2.8, 5.6, 8.8, 5.6, 8.8, 4.4, 2.8, 4.4, 2.2, 1.4, 2.2, 1.4, 2.2, 1.4, 2.8, 4.4, 2.2, 1.1, 0.7, 1.1, 0.7, 1.4, 2.8, 4.4, 2.8, 4.4, 2.8, 4.4, 2.8, 5.6, 8.8, 4.4, 2.2, 1.1, 0.55, 0.35, 0.7, 1.1, 0.55, 0.275, 0.175, 0.275, 0.175, 1.1, 0.55, 0.275, 0.1375, 0.0875, 0.1375, 0.0875, 0.175, 0.275, 0.175, 0.35, 0.7, 1.1, 0.7, 1.1, 0.7, 1.4, 2.2, 1.4, 2.2, 1.1, 0.7, 1.4, 2.8, 4.4, 2.8, 4.4, 2.2, 1.1, 0.55, 1.4, 2.2, 1.4, 2.8, 4.4, 2.2, 1.4, 2.8, 5.6, 11.2, 22.4, 44.8, 89.6, 179.2, 281.6, 179.2, 281.6, 179.2, 358.4, 563.2, 358.4, 563.2, 358.4, 716.8, 1433.6, 2252.8, 1126.4, 563.2, 281.6, 179.2, 1.4, 2.2, 1.1, 0.55, 0.275, 0.175, 0.35, 0.7, 1.4, 2.2, 1.4, 2.8, 4.4, 2.8, 5.6, 11.2, 22.4, 44.8, 70.4, 44.8, 89.6, 179.2, 358.4, 563.2, 281.6, 179.2, 358.4, 563.2, 358.4, 716.8, 1.1, 0.55, 0.275, 0.175, 0.35, 0.7, 1.1, 0.7, 1.4, 2.8, 5.6, 8.8, 5.6, 8.8, 5.6, 8.8, 5.6, 11.2, 22.4, 35.2, 22.4, 44.8, 89.6, 140.8, 70.4, 44.8, 70.4, 44.8, 89.6, 179.2]\n",
            "25 :  [1.4, 2.8, 5.6, 11.2, 22.4, 44.8, 89.6, 179.2, 281.6, 179.2, 358.4, 563.2, 281.6, 140.8, 70.4, 44.8, 70.4, 44.8, 70.4, 35.2, 22.4, 35.2, 22.4, 35.2, 17.6, 8.8, 5.6, 11.2, 17.6, 8.8, 1.1, 0.7, 1.1, 0.55, 0.275, 0.175, 0.35, 0.7, 1.1, 0.55, 0.275, 0.175, 0.275, 0.175, 0.35, 0.55, 0.35, 0.7, 1.4, 2.8, 5.6, 8.8, 5.6, 11.2, 17.6, 11.2, 22.4, 44.8, 89.6, 179.2, 1.4, 2.8, 5.6, 8.8, 5.6, 11.2, 22.4, 44.8, 70.4, 35.2, 22.4, 35.2, 17.6, 11.2, 17.6, 11.2, 22.4, 44.8, 89.6, 140.8, 70.4, 35.2, 22.4, 35.2, 22.4, 35.2, 22.4, 44.8, 70.4, 44.8, 1.4, 2.8, 4.4, 2.2, 1.4, 2.8, 4.4, 2.2, 1.4, 2.2, 1.4, 2.8, 5.6, 11.2, 22.4, 35.2, 22.4, 35.2, 17.6, 11.2, 22.4, 44.8, 89.6, 140.8, 89.6, 140.8, 89.6, 140.8, 70.4, 35.2, 1.4, 2.8, 5.6, 11.2, 22.4, 35.2, 22.4, 44.8, 70.4, 35.2, 17.6, 11.2, 17.6, 11.2, 17.6, 11.2, 17.6, 11.2, 22.4, 35.2, 22.4, 44.8, 89.6, 179.2, 281.6, 179.2, 358.4, 716.8, 1433.6, 2867.2, 1.4, 2.2, 1.1, 0.7, 1.4, 2.8, 5.6, 8.8, 5.6, 11.2, 22.4, 35.2, 22.4, 44.8, 89.6, 179.2, 358.4, 716.8, 1433.6, 2252.8, 1126.4, 716.8, 1126.4, 716.8, 1433.6, 2252.8, 1126.4, 716.8, 1433.6, 2867.2, 1.4, 2.8, 5.6, 8.8, 5.6, 8.8, 4.4, 2.2, 1.4, 2.8, 5.6, 11.2, 17.6, 11.2, 17.6, 8.8, 4.4, 2.8, 5.6, 11.2, 17.6, 11.2, 17.6, 8.8, 5.6, 8.8, 4.4, 2.2, 1.1, 0.7, 1.4, 2.8, 5.6, 8.8, 5.6, 11.2, 17.6, 11.2, 22.4, 35.2, 22.4, 44.8, 89.6, 179.2, 358.4, 716.8, 1126.4, 563.2, 358.4, 716.8, 1433.6, 2867.2, 4505.6, 2252.8, 1433.6, 2867.2, 5734.4, 9011.2, 4505.6, 2252.8, 1.4, 2.2, 1.1, 0.7, 1.1, 0.7, 1.1, 0.55, 0.275, 0.1375, 0.06875, 0.034375, 0.0171875, 0.0109375, 0.0171875, 0.0109375, 0.0171875, 0.00859375, 0.004296875, 0.002734375, 0.00546875, 0.0109375, 0.021875, 0.04375, 0.0875, 0.175, 0.275, 0.1375, 0.0875, 0.175, 1.4, 2.2, 1.4, 2.8, 5.6, 11.2, 22.4, 44.8, 70.4, 44.8, 89.6, 179.2, 358.4, 563.2, 358.4, 716.8, 1433.6, 2252.8, 1433.6, 2252.8, 1433.6, 2867.2, 4505.6, 2867.2, 4505.6, 2867.2, 4505.6, 2252.8, 1126.4, 716.8, 1.1, 0.7, 1.1, 0.55, 0.35, 0.7, 1.4, 2.8, 5.6, 8.8, 4.4, 2.8, 5.6, 8.8, 4.4, 2.8, 4.4, 2.2, 1.4, 2.2, 1.4, 2.8, 5.6, 11.2, 17.6, 8.8, 5.6, 8.8, 5.6, 11.2, 1.1, 0.7, 1.1, 0.7, 1.4, 2.2, 1.4, 2.2, 1.4, 2.8, 5.6, 11.2, 22.4, 35.2, 22.4, 44.8, 70.4, 44.8, 89.6, 179.2, 358.4, 716.8, 1126.4, 716.8, 1433.6, 2252.8, 1433.6, 2252.8, 1433.6, 2867.2, 1.1, 0.7, 1.4, 2.2, 1.4, 2.2, 1.1, 0.55, 0.275, 0.175, 0.35, 0.55, 0.35, 0.7, 1.1, 0.55, 0.275, 0.175, 0.35, 0.7, 1.4, 2.8, 5.6, 11.2, 22.4, 44.8, 89.6, 179.2, 358.4, 563.2, 1.4, 2.8, 4.4, 2.2, 1.4, 2.2, 1.1, 0.7, 1.4, 2.2, 1.4, 2.8, 4.4, 2.8, 4.4, 2.2, 1.4, 2.8, 4.4, 2.2, 1.1, 0.55, 0.35, 0.7, 1.4, 2.8, 5.6, 8.8, 5.6, 11.2, 1.4, 2.2, 1.1, 0.55, 0.35, 0.7, 1.1, 0.7, 1.4, 2.2, 1.4, 2.8, 4.4, 2.8, 4.4, 2.8, 4.4, 2.2, 1.4, 2.2, 1.4, 2.2, 1.4, 2.2, 1.4, 2.2, 1.4, 2.8, 4.4, 2.8, 1.4, 2.8, 4.4, 2.2, 1.1, 0.7, 1.4, 2.8, 5.6, 11.2, 22.4, 44.8, 70.4, 35.2, 22.4, 44.8, 89.6, 140.8, 89.6, 140.8, 70.4, 35.2, 17.6, 8.8, 5.6, 11.2, 17.6, 11.2, 22.4, 35.2, 1.4, 2.2, 1.1, 0.55, 0.35, 0.7, 1.4, 2.2, 1.1, 0.7, 1.4, 2.8, 5.6, 11.2, 17.6, 11.2, 22.4, 35.2, 17.6, 8.8, 5.6, 11.2, 22.4, 35.2, 22.4, 35.2, 22.4, 44.8, 70.4, 35.2, 1.4, 2.2, 1.1, 0.55, 0.35, 0.7, 1.1, 0.7, 1.4, 2.2, 1.1, 0.55, 0.35, 0.55, 0.35, 0.55, 0.35, 0.7, 1.4, 2.8, 4.4, 2.8, 5.6, 8.8, 5.6, 8.8, 4.4, 2.8, 5.6, 8.8, 1.1, 0.55, 0.35, 0.7, 1.1, 0.7, 1.1, 0.55, 0.35, 0.55, 0.35, 0.7, 1.1, 0.55, 0.275, 0.175, 0.35, 0.7, 1.1, 0.55, 0.275, 0.175, 0.275, 0.175, 0.275, 0.1375, 0.06875, 0.04375, 0.06875, 0.034375, 1.4, 2.8, 4.4, 2.8, 4.4, 2.2, 1.1, 0.7, 1.4, 2.2, 1.4, 2.8, 5.6, 11.2, 17.6, 8.8, 4.4, 2.8, 5.6, 8.8, 5.6, 8.8, 4.4, 2.8, 4.4, 2.2, 1.4, 2.2, 1.4, 2.2, 1.4, 2.8, 4.4, 2.2, 1.1, 0.7, 1.1, 0.7, 1.4, 2.8, 4.4, 2.8, 4.4, 2.8, 4.4, 2.8, 5.6, 8.8, 4.4, 2.2, 1.1, 0.55, 0.35, 0.7, 1.1, 0.55, 0.275, 0.175, 0.275, 0.175, 1.1, 0.55, 0.275, 0.1375, 0.0875, 0.1375, 0.0875, 0.175, 0.275, 0.175, 0.35, 0.7, 1.1, 0.7, 1.1, 0.7, 1.4, 2.2, 1.4, 2.2, 1.1, 0.7, 1.4, 2.8, 4.4, 2.8, 4.4, 2.2, 1.1, 0.55, 1.4, 2.2, 1.4, 2.8, 4.4, 2.2, 1.4, 2.8, 5.6, 11.2, 22.4, 44.8, 89.6, 179.2, 281.6, 179.2, 281.6, 179.2, 358.4, 563.2, 358.4, 563.2, 358.4, 716.8, 1433.6, 2252.8, 1126.4, 563.2, 281.6, 179.2, 1.4, 2.2, 1.1, 0.55, 0.275, 0.175, 0.35, 0.7, 1.4, 2.2, 1.4, 2.8, 4.4, 2.8, 5.6, 11.2, 22.4, 44.8, 70.4, 44.8, 89.6, 179.2, 358.4, 563.2, 281.6, 179.2, 358.4, 563.2, 358.4, 716.8, 1.1, 0.55, 0.275, 0.175, 0.35, 0.7, 1.1, 0.7, 1.4, 2.8, 5.6, 8.8, 5.6, 8.8, 5.6, 8.8, 5.6, 11.2, 22.4, 35.2, 22.4, 44.8, 89.6, 140.8, 70.4, 44.8, 70.4, 44.8, 89.6, 179.2, 1.4, 2.8, 5.6, 8.8, 4.4, 2.8, 5.6, 8.8, 4.4, 2.8, 5.6, 11.2, 17.6, 8.8, 4.4, 2.8, 4.4, 2.2, 1.1, 0.55, 0.275, 0.175, 0.35, 0.55, 0.275, 0.175, 0.35, 0.55, 0.275, 0.175]\n",
            "26 :  [1.4, 2.8, 5.6, 11.2, 22.4, 44.8, 89.6, 179.2, 281.6, 179.2, 358.4, 563.2, 281.6, 140.8, 70.4, 44.8, 70.4, 44.8, 70.4, 35.2, 22.4, 35.2, 22.4, 35.2, 17.6, 8.8, 5.6, 11.2, 17.6, 8.8, 1.1, 0.7, 1.1, 0.55, 0.275, 0.175, 0.35, 0.7, 1.1, 0.55, 0.275, 0.175, 0.275, 0.175, 0.35, 0.55, 0.35, 0.7, 1.4, 2.8, 5.6, 8.8, 5.6, 11.2, 17.6, 11.2, 22.4, 44.8, 89.6, 179.2, 1.4, 2.8, 5.6, 8.8, 5.6, 11.2, 22.4, 44.8, 70.4, 35.2, 22.4, 35.2, 17.6, 11.2, 17.6, 11.2, 22.4, 44.8, 89.6, 140.8, 70.4, 35.2, 22.4, 35.2, 22.4, 35.2, 22.4, 44.8, 70.4, 44.8, 1.4, 2.8, 4.4, 2.2, 1.4, 2.8, 4.4, 2.2, 1.4, 2.2, 1.4, 2.8, 5.6, 11.2, 22.4, 35.2, 22.4, 35.2, 17.6, 11.2, 22.4, 44.8, 89.6, 140.8, 89.6, 140.8, 89.6, 140.8, 70.4, 35.2, 1.4, 2.8, 5.6, 11.2, 22.4, 35.2, 22.4, 44.8, 70.4, 35.2, 17.6, 11.2, 17.6, 11.2, 17.6, 11.2, 17.6, 11.2, 22.4, 35.2, 22.4, 44.8, 89.6, 179.2, 281.6, 179.2, 358.4, 716.8, 1433.6, 2867.2, 1.4, 2.2, 1.1, 0.7, 1.4, 2.8, 5.6, 8.8, 5.6, 11.2, 22.4, 35.2, 22.4, 44.8, 89.6, 179.2, 358.4, 716.8, 1433.6, 2252.8, 1126.4, 716.8, 1126.4, 716.8, 1433.6, 2252.8, 1126.4, 716.8, 1433.6, 2867.2, 1.4, 2.8, 5.6, 8.8, 5.6, 8.8, 4.4, 2.2, 1.4, 2.8, 5.6, 11.2, 17.6, 11.2, 17.6, 8.8, 4.4, 2.8, 5.6, 11.2, 17.6, 11.2, 17.6, 8.8, 5.6, 8.8, 4.4, 2.2, 1.1, 0.7, 1.4, 2.8, 5.6, 8.8, 5.6, 11.2, 17.6, 11.2, 22.4, 35.2, 22.4, 44.8, 89.6, 179.2, 358.4, 716.8, 1126.4, 563.2, 358.4, 716.8, 1433.6, 2867.2, 4505.6, 2252.8, 1433.6, 2867.2, 5734.4, 9011.2, 4505.6, 2252.8, 1.4, 2.2, 1.1, 0.7, 1.1, 0.7, 1.1, 0.55, 0.275, 0.1375, 0.06875, 0.034375, 0.0171875, 0.0109375, 0.0171875, 0.0109375, 0.0171875, 0.00859375, 0.004296875, 0.002734375, 0.00546875, 0.0109375, 0.021875, 0.04375, 0.0875, 0.175, 0.275, 0.1375, 0.0875, 0.175, 1.4, 2.2, 1.4, 2.8, 5.6, 11.2, 22.4, 44.8, 70.4, 44.8, 89.6, 179.2, 358.4, 563.2, 358.4, 716.8, 1433.6, 2252.8, 1433.6, 2252.8, 1433.6, 2867.2, 4505.6, 2867.2, 4505.6, 2867.2, 4505.6, 2252.8, 1126.4, 716.8, 1.1, 0.7, 1.1, 0.55, 0.35, 0.7, 1.4, 2.8, 5.6, 8.8, 4.4, 2.8, 5.6, 8.8, 4.4, 2.8, 4.4, 2.2, 1.4, 2.2, 1.4, 2.8, 5.6, 11.2, 17.6, 8.8, 5.6, 8.8, 5.6, 11.2, 1.1, 0.7, 1.1, 0.7, 1.4, 2.2, 1.4, 2.2, 1.4, 2.8, 5.6, 11.2, 22.4, 35.2, 22.4, 44.8, 70.4, 44.8, 89.6, 179.2, 358.4, 716.8, 1126.4, 716.8, 1433.6, 2252.8, 1433.6, 2252.8, 1433.6, 2867.2, 1.1, 0.7, 1.4, 2.2, 1.4, 2.2, 1.1, 0.55, 0.275, 0.175, 0.35, 0.55, 0.35, 0.7, 1.1, 0.55, 0.275, 0.175, 0.35, 0.7, 1.4, 2.8, 5.6, 11.2, 22.4, 44.8, 89.6, 179.2, 358.4, 563.2, 1.4, 2.8, 4.4, 2.2, 1.4, 2.2, 1.1, 0.7, 1.4, 2.2, 1.4, 2.8, 4.4, 2.8, 4.4, 2.2, 1.4, 2.8, 4.4, 2.2, 1.1, 0.55, 0.35, 0.7, 1.4, 2.8, 5.6, 8.8, 5.6, 11.2, 1.4, 2.2, 1.1, 0.55, 0.35, 0.7, 1.1, 0.7, 1.4, 2.2, 1.4, 2.8, 4.4, 2.8, 4.4, 2.8, 4.4, 2.2, 1.4, 2.2, 1.4, 2.2, 1.4, 2.2, 1.4, 2.2, 1.4, 2.8, 4.4, 2.8, 1.4, 2.8, 4.4, 2.2, 1.1, 0.7, 1.4, 2.8, 5.6, 11.2, 22.4, 44.8, 70.4, 35.2, 22.4, 44.8, 89.6, 140.8, 89.6, 140.8, 70.4, 35.2, 17.6, 8.8, 5.6, 11.2, 17.6, 11.2, 22.4, 35.2, 1.4, 2.2, 1.1, 0.55, 0.35, 0.7, 1.4, 2.2, 1.1, 0.7, 1.4, 2.8, 5.6, 11.2, 17.6, 11.2, 22.4, 35.2, 17.6, 8.8, 5.6, 11.2, 22.4, 35.2, 22.4, 35.2, 22.4, 44.8, 70.4, 35.2, 1.4, 2.2, 1.1, 0.55, 0.35, 0.7, 1.1, 0.7, 1.4, 2.2, 1.1, 0.55, 0.35, 0.55, 0.35, 0.55, 0.35, 0.7, 1.4, 2.8, 4.4, 2.8, 5.6, 8.8, 5.6, 8.8, 4.4, 2.8, 5.6, 8.8, 1.1, 0.55, 0.35, 0.7, 1.1, 0.7, 1.1, 0.55, 0.35, 0.55, 0.35, 0.7, 1.1, 0.55, 0.275, 0.175, 0.35, 0.7, 1.1, 0.55, 0.275, 0.175, 0.275, 0.175, 0.275, 0.1375, 0.06875, 0.04375, 0.06875, 0.034375, 1.4, 2.8, 4.4, 2.8, 4.4, 2.2, 1.1, 0.7, 1.4, 2.2, 1.4, 2.8, 5.6, 11.2, 17.6, 8.8, 4.4, 2.8, 5.6, 8.8, 5.6, 8.8, 4.4, 2.8, 4.4, 2.2, 1.4, 2.2, 1.4, 2.2, 1.4, 2.8, 4.4, 2.2, 1.1, 0.7, 1.1, 0.7, 1.4, 2.8, 4.4, 2.8, 4.4, 2.8, 4.4, 2.8, 5.6, 8.8, 4.4, 2.2, 1.1, 0.55, 0.35, 0.7, 1.1, 0.55, 0.275, 0.175, 0.275, 0.175, 1.1, 0.55, 0.275, 0.1375, 0.0875, 0.1375, 0.0875, 0.175, 0.275, 0.175, 0.35, 0.7, 1.1, 0.7, 1.1, 0.7, 1.4, 2.2, 1.4, 2.2, 1.1, 0.7, 1.4, 2.8, 4.4, 2.8, 4.4, 2.2, 1.1, 0.55, 1.4, 2.2, 1.4, 2.8, 4.4, 2.2, 1.4, 2.8, 5.6, 11.2, 22.4, 44.8, 89.6, 179.2, 281.6, 179.2, 281.6, 179.2, 358.4, 563.2, 358.4, 563.2, 358.4, 716.8, 1433.6, 2252.8, 1126.4, 563.2, 281.6, 179.2, 1.4, 2.2, 1.1, 0.55, 0.275, 0.175, 0.35, 0.7, 1.4, 2.2, 1.4, 2.8, 4.4, 2.8, 5.6, 11.2, 22.4, 44.8, 70.4, 44.8, 89.6, 179.2, 358.4, 563.2, 281.6, 179.2, 358.4, 563.2, 358.4, 716.8, 1.1, 0.55, 0.275, 0.175, 0.35, 0.7, 1.1, 0.7, 1.4, 2.8, 5.6, 8.8, 5.6, 8.8, 5.6, 8.8, 5.6, 11.2, 22.4, 35.2, 22.4, 44.8, 89.6, 140.8, 70.4, 44.8, 70.4, 44.8, 89.6, 179.2, 1.4, 2.8, 5.6, 8.8, 4.4, 2.8, 5.6, 8.8, 4.4, 2.8, 5.6, 11.2, 17.6, 8.8, 4.4, 2.8, 4.4, 2.2, 1.1, 0.55, 0.275, 0.175, 0.35, 0.55, 0.275, 0.175, 0.35, 0.55, 0.275, 0.175, 1.1, 0.7, 1.4, 2.8, 5.6, 11.2, 17.6, 11.2, 22.4, 44.8, 89.6, 179.2, 358.4, 716.8, 1433.6, 2252.8, 1433.6, 2252.8, 1433.6, 2867.2, 5734.4, 9011.2, 5734.4, 11468.8, 18022.4, 11468.8, 22937.6, 45875.2, 91750.4, 144179.2]\n",
            "27 :  [1.4, 2.8, 5.6, 11.2, 22.4, 44.8, 89.6, 179.2, 281.6, 179.2, 358.4, 563.2, 281.6, 140.8, 70.4, 44.8, 70.4, 44.8, 70.4, 35.2, 22.4, 35.2, 22.4, 35.2, 17.6, 8.8, 5.6, 11.2, 17.6, 8.8, 1.1, 0.7, 1.1, 0.55, 0.275, 0.175, 0.35, 0.7, 1.1, 0.55, 0.275, 0.175, 0.275, 0.175, 0.35, 0.55, 0.35, 0.7, 1.4, 2.8, 5.6, 8.8, 5.6, 11.2, 17.6, 11.2, 22.4, 44.8, 89.6, 179.2, 1.4, 2.8, 5.6, 8.8, 5.6, 11.2, 22.4, 44.8, 70.4, 35.2, 22.4, 35.2, 17.6, 11.2, 17.6, 11.2, 22.4, 44.8, 89.6, 140.8, 70.4, 35.2, 22.4, 35.2, 22.4, 35.2, 22.4, 44.8, 70.4, 44.8, 1.4, 2.8, 4.4, 2.2, 1.4, 2.8, 4.4, 2.2, 1.4, 2.2, 1.4, 2.8, 5.6, 11.2, 22.4, 35.2, 22.4, 35.2, 17.6, 11.2, 22.4, 44.8, 89.6, 140.8, 89.6, 140.8, 89.6, 140.8, 70.4, 35.2, 1.4, 2.8, 5.6, 11.2, 22.4, 35.2, 22.4, 44.8, 70.4, 35.2, 17.6, 11.2, 17.6, 11.2, 17.6, 11.2, 17.6, 11.2, 22.4, 35.2, 22.4, 44.8, 89.6, 179.2, 281.6, 179.2, 358.4, 716.8, 1433.6, 2867.2, 1.4, 2.2, 1.1, 0.7, 1.4, 2.8, 5.6, 8.8, 5.6, 11.2, 22.4, 35.2, 22.4, 44.8, 89.6, 179.2, 358.4, 716.8, 1433.6, 2252.8, 1126.4, 716.8, 1126.4, 716.8, 1433.6, 2252.8, 1126.4, 716.8, 1433.6, 2867.2, 1.4, 2.8, 5.6, 8.8, 5.6, 8.8, 4.4, 2.2, 1.4, 2.8, 5.6, 11.2, 17.6, 11.2, 17.6, 8.8, 4.4, 2.8, 5.6, 11.2, 17.6, 11.2, 17.6, 8.8, 5.6, 8.8, 4.4, 2.2, 1.1, 0.7, 1.4, 2.8, 5.6, 8.8, 5.6, 11.2, 17.6, 11.2, 22.4, 35.2, 22.4, 44.8, 89.6, 179.2, 358.4, 716.8, 1126.4, 563.2, 358.4, 716.8, 1433.6, 2867.2, 4505.6, 2252.8, 1433.6, 2867.2, 5734.4, 9011.2, 4505.6, 2252.8, 1.4, 2.2, 1.1, 0.7, 1.1, 0.7, 1.1, 0.55, 0.275, 0.1375, 0.06875, 0.034375, 0.0171875, 0.0109375, 0.0171875, 0.0109375, 0.0171875, 0.00859375, 0.004296875, 0.002734375, 0.00546875, 0.0109375, 0.021875, 0.04375, 0.0875, 0.175, 0.275, 0.1375, 0.0875, 0.175, 1.4, 2.2, 1.4, 2.8, 5.6, 11.2, 22.4, 44.8, 70.4, 44.8, 89.6, 179.2, 358.4, 563.2, 358.4, 716.8, 1433.6, 2252.8, 1433.6, 2252.8, 1433.6, 2867.2, 4505.6, 2867.2, 4505.6, 2867.2, 4505.6, 2252.8, 1126.4, 716.8, 1.1, 0.7, 1.1, 0.55, 0.35, 0.7, 1.4, 2.8, 5.6, 8.8, 4.4, 2.8, 5.6, 8.8, 4.4, 2.8, 4.4, 2.2, 1.4, 2.2, 1.4, 2.8, 5.6, 11.2, 17.6, 8.8, 5.6, 8.8, 5.6, 11.2, 1.1, 0.7, 1.1, 0.7, 1.4, 2.2, 1.4, 2.2, 1.4, 2.8, 5.6, 11.2, 22.4, 35.2, 22.4, 44.8, 70.4, 44.8, 89.6, 179.2, 358.4, 716.8, 1126.4, 716.8, 1433.6, 2252.8, 1433.6, 2252.8, 1433.6, 2867.2, 1.1, 0.7, 1.4, 2.2, 1.4, 2.2, 1.1, 0.55, 0.275, 0.175, 0.35, 0.55, 0.35, 0.7, 1.1, 0.55, 0.275, 0.175, 0.35, 0.7, 1.4, 2.8, 5.6, 11.2, 22.4, 44.8, 89.6, 179.2, 358.4, 563.2, 1.4, 2.8, 4.4, 2.2, 1.4, 2.2, 1.1, 0.7, 1.4, 2.2, 1.4, 2.8, 4.4, 2.8, 4.4, 2.2, 1.4, 2.8, 4.4, 2.2, 1.1, 0.55, 0.35, 0.7, 1.4, 2.8, 5.6, 8.8, 5.6, 11.2, 1.4, 2.2, 1.1, 0.55, 0.35, 0.7, 1.1, 0.7, 1.4, 2.2, 1.4, 2.8, 4.4, 2.8, 4.4, 2.8, 4.4, 2.2, 1.4, 2.2, 1.4, 2.2, 1.4, 2.2, 1.4, 2.2, 1.4, 2.8, 4.4, 2.8, 1.4, 2.8, 4.4, 2.2, 1.1, 0.7, 1.4, 2.8, 5.6, 11.2, 22.4, 44.8, 70.4, 35.2, 22.4, 44.8, 89.6, 140.8, 89.6, 140.8, 70.4, 35.2, 17.6, 8.8, 5.6, 11.2, 17.6, 11.2, 22.4, 35.2, 1.4, 2.2, 1.1, 0.55, 0.35, 0.7, 1.4, 2.2, 1.1, 0.7, 1.4, 2.8, 5.6, 11.2, 17.6, 11.2, 22.4, 35.2, 17.6, 8.8, 5.6, 11.2, 22.4, 35.2, 22.4, 35.2, 22.4, 44.8, 70.4, 35.2, 1.4, 2.2, 1.1, 0.55, 0.35, 0.7, 1.1, 0.7, 1.4, 2.2, 1.1, 0.55, 0.35, 0.55, 0.35, 0.55, 0.35, 0.7, 1.4, 2.8, 4.4, 2.8, 5.6, 8.8, 5.6, 8.8, 4.4, 2.8, 5.6, 8.8, 1.1, 0.55, 0.35, 0.7, 1.1, 0.7, 1.1, 0.55, 0.35, 0.55, 0.35, 0.7, 1.1, 0.55, 0.275, 0.175, 0.35, 0.7, 1.1, 0.55, 0.275, 0.175, 0.275, 0.175, 0.275, 0.1375, 0.06875, 0.04375, 0.06875, 0.034375, 1.4, 2.8, 4.4, 2.8, 4.4, 2.2, 1.1, 0.7, 1.4, 2.2, 1.4, 2.8, 5.6, 11.2, 17.6, 8.8, 4.4, 2.8, 5.6, 8.8, 5.6, 8.8, 4.4, 2.8, 4.4, 2.2, 1.4, 2.2, 1.4, 2.2, 1.4, 2.8, 4.4, 2.2, 1.1, 0.7, 1.1, 0.7, 1.4, 2.8, 4.4, 2.8, 4.4, 2.8, 4.4, 2.8, 5.6, 8.8, 4.4, 2.2, 1.1, 0.55, 0.35, 0.7, 1.1, 0.55, 0.275, 0.175, 0.275, 0.175, 1.1, 0.55, 0.275, 0.1375, 0.0875, 0.1375, 0.0875, 0.175, 0.275, 0.175, 0.35, 0.7, 1.1, 0.7, 1.1, 0.7, 1.4, 2.2, 1.4, 2.2, 1.1, 0.7, 1.4, 2.8, 4.4, 2.8, 4.4, 2.2, 1.1, 0.55, 1.4, 2.2, 1.4, 2.8, 4.4, 2.2, 1.4, 2.8, 5.6, 11.2, 22.4, 44.8, 89.6, 179.2, 281.6, 179.2, 281.6, 179.2, 358.4, 563.2, 358.4, 563.2, 358.4, 716.8, 1433.6, 2252.8, 1126.4, 563.2, 281.6, 179.2, 1.4, 2.2, 1.1, 0.55, 0.275, 0.175, 0.35, 0.7, 1.4, 2.2, 1.4, 2.8, 4.4, 2.8, 5.6, 11.2, 22.4, 44.8, 70.4, 44.8, 89.6, 179.2, 358.4, 563.2, 281.6, 179.2, 358.4, 563.2, 358.4, 716.8, 1.1, 0.55, 0.275, 0.175, 0.35, 0.7, 1.1, 0.7, 1.4, 2.8, 5.6, 8.8, 5.6, 8.8, 5.6, 8.8, 5.6, 11.2, 22.4, 35.2, 22.4, 44.8, 89.6, 140.8, 70.4, 44.8, 70.4, 44.8, 89.6, 179.2, 1.4, 2.8, 5.6, 8.8, 4.4, 2.8, 5.6, 8.8, 4.4, 2.8, 5.6, 11.2, 17.6, 8.8, 4.4, 2.8, 4.4, 2.2, 1.1, 0.55, 0.275, 0.175, 0.35, 0.55, 0.275, 0.175, 0.35, 0.55, 0.275, 0.175, 1.1, 0.7, 1.4, 2.8, 5.6, 11.2, 17.6, 11.2, 22.4, 44.8, 89.6, 179.2, 358.4, 716.8, 1433.6, 2252.8, 1433.6, 2252.8, 1433.6, 2867.2, 5734.4, 9011.2, 5734.4, 11468.8, 18022.4, 11468.8, 22937.6, 45875.2, 91750.4, 144179.2, 1.4, 2.8, 5.6, 11.2, 22.4, 44.8, 70.4, 35.2, 22.4, 44.8, 89.6, 140.8, 89.6, 179.2, 358.4, 716.8, 1433.6, 2867.2, 4505.6, 2252.8, 1433.6, 2867.2, 5734.4, 11468.8, 22937.6, 45875.2, 72089.6, 36044.8, 18022.4, 11468.8]\n",
            "28 :  [1.4, 2.8, 5.6, 11.2, 22.4, 44.8, 89.6, 179.2, 281.6, 179.2, 358.4, 563.2, 281.6, 140.8, 70.4, 44.8, 70.4, 44.8, 70.4, 35.2, 22.4, 35.2, 22.4, 35.2, 17.6, 8.8, 5.6, 11.2, 17.6, 8.8, 1.1, 0.7, 1.1, 0.55, 0.275, 0.175, 0.35, 0.7, 1.1, 0.55, 0.275, 0.175, 0.275, 0.175, 0.35, 0.55, 0.35, 0.7, 1.4, 2.8, 5.6, 8.8, 5.6, 11.2, 17.6, 11.2, 22.4, 44.8, 89.6, 179.2, 1.4, 2.8, 5.6, 8.8, 5.6, 11.2, 22.4, 44.8, 70.4, 35.2, 22.4, 35.2, 17.6, 11.2, 17.6, 11.2, 22.4, 44.8, 89.6, 140.8, 70.4, 35.2, 22.4, 35.2, 22.4, 35.2, 22.4, 44.8, 70.4, 44.8, 1.4, 2.8, 4.4, 2.2, 1.4, 2.8, 4.4, 2.2, 1.4, 2.2, 1.4, 2.8, 5.6, 11.2, 22.4, 35.2, 22.4, 35.2, 17.6, 11.2, 22.4, 44.8, 89.6, 140.8, 89.6, 140.8, 89.6, 140.8, 70.4, 35.2, 1.4, 2.8, 5.6, 11.2, 22.4, 35.2, 22.4, 44.8, 70.4, 35.2, 17.6, 11.2, 17.6, 11.2, 17.6, 11.2, 17.6, 11.2, 22.4, 35.2, 22.4, 44.8, 89.6, 179.2, 281.6, 179.2, 358.4, 716.8, 1433.6, 2867.2, 1.4, 2.2, 1.1, 0.7, 1.4, 2.8, 5.6, 8.8, 5.6, 11.2, 22.4, 35.2, 22.4, 44.8, 89.6, 179.2, 358.4, 716.8, 1433.6, 2252.8, 1126.4, 716.8, 1126.4, 716.8, 1433.6, 2252.8, 1126.4, 716.8, 1433.6, 2867.2, 1.4, 2.8, 5.6, 8.8, 5.6, 8.8, 4.4, 2.2, 1.4, 2.8, 5.6, 11.2, 17.6, 11.2, 17.6, 8.8, 4.4, 2.8, 5.6, 11.2, 17.6, 11.2, 17.6, 8.8, 5.6, 8.8, 4.4, 2.2, 1.1, 0.7, 1.4, 2.8, 5.6, 8.8, 5.6, 11.2, 17.6, 11.2, 22.4, 35.2, 22.4, 44.8, 89.6, 179.2, 358.4, 716.8, 1126.4, 563.2, 358.4, 716.8, 1433.6, 2867.2, 4505.6, 2252.8, 1433.6, 2867.2, 5734.4, 9011.2, 4505.6, 2252.8, 1.4, 2.2, 1.1, 0.7, 1.1, 0.7, 1.1, 0.55, 0.275, 0.1375, 0.06875, 0.034375, 0.0171875, 0.0109375, 0.0171875, 0.0109375, 0.0171875, 0.00859375, 0.004296875, 0.002734375, 0.00546875, 0.0109375, 0.021875, 0.04375, 0.0875, 0.175, 0.275, 0.1375, 0.0875, 0.175, 1.4, 2.2, 1.4, 2.8, 5.6, 11.2, 22.4, 44.8, 70.4, 44.8, 89.6, 179.2, 358.4, 563.2, 358.4, 716.8, 1433.6, 2252.8, 1433.6, 2252.8, 1433.6, 2867.2, 4505.6, 2867.2, 4505.6, 2867.2, 4505.6, 2252.8, 1126.4, 716.8, 1.1, 0.7, 1.1, 0.55, 0.35, 0.7, 1.4, 2.8, 5.6, 8.8, 4.4, 2.8, 5.6, 8.8, 4.4, 2.8, 4.4, 2.2, 1.4, 2.2, 1.4, 2.8, 5.6, 11.2, 17.6, 8.8, 5.6, 8.8, 5.6, 11.2, 1.1, 0.7, 1.1, 0.7, 1.4, 2.2, 1.4, 2.2, 1.4, 2.8, 5.6, 11.2, 22.4, 35.2, 22.4, 44.8, 70.4, 44.8, 89.6, 179.2, 358.4, 716.8, 1126.4, 716.8, 1433.6, 2252.8, 1433.6, 2252.8, 1433.6, 2867.2, 1.1, 0.7, 1.4, 2.2, 1.4, 2.2, 1.1, 0.55, 0.275, 0.175, 0.35, 0.55, 0.35, 0.7, 1.1, 0.55, 0.275, 0.175, 0.35, 0.7, 1.4, 2.8, 5.6, 11.2, 22.4, 44.8, 89.6, 179.2, 358.4, 563.2, 1.4, 2.8, 4.4, 2.2, 1.4, 2.2, 1.1, 0.7, 1.4, 2.2, 1.4, 2.8, 4.4, 2.8, 4.4, 2.2, 1.4, 2.8, 4.4, 2.2, 1.1, 0.55, 0.35, 0.7, 1.4, 2.8, 5.6, 8.8, 5.6, 11.2, 1.4, 2.2, 1.1, 0.55, 0.35, 0.7, 1.1, 0.7, 1.4, 2.2, 1.4, 2.8, 4.4, 2.8, 4.4, 2.8, 4.4, 2.2, 1.4, 2.2, 1.4, 2.2, 1.4, 2.2, 1.4, 2.2, 1.4, 2.8, 4.4, 2.8, 1.4, 2.8, 4.4, 2.2, 1.1, 0.7, 1.4, 2.8, 5.6, 11.2, 22.4, 44.8, 70.4, 35.2, 22.4, 44.8, 89.6, 140.8, 89.6, 140.8, 70.4, 35.2, 17.6, 8.8, 5.6, 11.2, 17.6, 11.2, 22.4, 35.2, 1.4, 2.2, 1.1, 0.55, 0.35, 0.7, 1.4, 2.2, 1.1, 0.7, 1.4, 2.8, 5.6, 11.2, 17.6, 11.2, 22.4, 35.2, 17.6, 8.8, 5.6, 11.2, 22.4, 35.2, 22.4, 35.2, 22.4, 44.8, 70.4, 35.2, 1.4, 2.2, 1.1, 0.55, 0.35, 0.7, 1.1, 0.7, 1.4, 2.2, 1.1, 0.55, 0.35, 0.55, 0.35, 0.55, 0.35, 0.7, 1.4, 2.8, 4.4, 2.8, 5.6, 8.8, 5.6, 8.8, 4.4, 2.8, 5.6, 8.8, 1.1, 0.55, 0.35, 0.7, 1.1, 0.7, 1.1, 0.55, 0.35, 0.55, 0.35, 0.7, 1.1, 0.55, 0.275, 0.175, 0.35, 0.7, 1.1, 0.55, 0.275, 0.175, 0.275, 0.175, 0.275, 0.1375, 0.06875, 0.04375, 0.06875, 0.034375, 1.4, 2.8, 4.4, 2.8, 4.4, 2.2, 1.1, 0.7, 1.4, 2.2, 1.4, 2.8, 5.6, 11.2, 17.6, 8.8, 4.4, 2.8, 5.6, 8.8, 5.6, 8.8, 4.4, 2.8, 4.4, 2.2, 1.4, 2.2, 1.4, 2.2, 1.4, 2.8, 4.4, 2.2, 1.1, 0.7, 1.1, 0.7, 1.4, 2.8, 4.4, 2.8, 4.4, 2.8, 4.4, 2.8, 5.6, 8.8, 4.4, 2.2, 1.1, 0.55, 0.35, 0.7, 1.1, 0.55, 0.275, 0.175, 0.275, 0.175, 1.1, 0.55, 0.275, 0.1375, 0.0875, 0.1375, 0.0875, 0.175, 0.275, 0.175, 0.35, 0.7, 1.1, 0.7, 1.1, 0.7, 1.4, 2.2, 1.4, 2.2, 1.1, 0.7, 1.4, 2.8, 4.4, 2.8, 4.4, 2.2, 1.1, 0.55, 1.4, 2.2, 1.4, 2.8, 4.4, 2.2, 1.4, 2.8, 5.6, 11.2, 22.4, 44.8, 89.6, 179.2, 281.6, 179.2, 281.6, 179.2, 358.4, 563.2, 358.4, 563.2, 358.4, 716.8, 1433.6, 2252.8, 1126.4, 563.2, 281.6, 179.2, 1.4, 2.2, 1.1, 0.55, 0.275, 0.175, 0.35, 0.7, 1.4, 2.2, 1.4, 2.8, 4.4, 2.8, 5.6, 11.2, 22.4, 44.8, 70.4, 44.8, 89.6, 179.2, 358.4, 563.2, 281.6, 179.2, 358.4, 563.2, 358.4, 716.8, 1.1, 0.55, 0.275, 0.175, 0.35, 0.7, 1.1, 0.7, 1.4, 2.8, 5.6, 8.8, 5.6, 8.8, 5.6, 8.8, 5.6, 11.2, 22.4, 35.2, 22.4, 44.8, 89.6, 140.8, 70.4, 44.8, 70.4, 44.8, 89.6, 179.2, 1.4, 2.8, 5.6, 8.8, 4.4, 2.8, 5.6, 8.8, 4.4, 2.8, 5.6, 11.2, 17.6, 8.8, 4.4, 2.8, 4.4, 2.2, 1.1, 0.55, 0.275, 0.175, 0.35, 0.55, 0.275, 0.175, 0.35, 0.55, 0.275, 0.175, 1.1, 0.7, 1.4, 2.8, 5.6, 11.2, 17.6, 11.2, 22.4, 44.8, 89.6, 179.2, 358.4, 716.8, 1433.6, 2252.8, 1433.6, 2252.8, 1433.6, 2867.2, 5734.4, 9011.2, 5734.4, 11468.8, 18022.4, 11468.8, 22937.6, 45875.2, 91750.4, 144179.2, 1.4, 2.8, 5.6, 11.2, 22.4, 44.8, 70.4, 35.2, 22.4, 44.8, 89.6, 140.8, 89.6, 179.2, 358.4, 716.8, 1433.6, 2867.2, 4505.6, 2252.8, 1433.6, 2867.2, 5734.4, 11468.8, 22937.6, 45875.2, 72089.6, 36044.8, 18022.4, 11468.8, 1.4, 2.2, 1.4, 2.2, 1.1, 0.7, 1.4, 2.8, 5.6, 8.8, 4.4, 2.2, 1.4, 2.2, 1.4, 2.8, 5.6, 8.8, 4.4, 2.8, 5.6, 11.2, 22.4, 44.8, 70.4, 44.8, 89.6, 179.2, 358.4, 716.8]\n",
            "29 :  [1.4, 2.8, 5.6, 11.2, 22.4, 44.8, 89.6, 179.2, 281.6, 179.2, 358.4, 563.2, 281.6, 140.8, 70.4, 44.8, 70.4, 44.8, 70.4, 35.2, 22.4, 35.2, 22.4, 35.2, 17.6, 8.8, 5.6, 11.2, 17.6, 8.8, 1.1, 0.7, 1.1, 0.55, 0.275, 0.175, 0.35, 0.7, 1.1, 0.55, 0.275, 0.175, 0.275, 0.175, 0.35, 0.55, 0.35, 0.7, 1.4, 2.8, 5.6, 8.8, 5.6, 11.2, 17.6, 11.2, 22.4, 44.8, 89.6, 179.2, 1.4, 2.8, 5.6, 8.8, 5.6, 11.2, 22.4, 44.8, 70.4, 35.2, 22.4, 35.2, 17.6, 11.2, 17.6, 11.2, 22.4, 44.8, 89.6, 140.8, 70.4, 35.2, 22.4, 35.2, 22.4, 35.2, 22.4, 44.8, 70.4, 44.8, 1.4, 2.8, 4.4, 2.2, 1.4, 2.8, 4.4, 2.2, 1.4, 2.2, 1.4, 2.8, 5.6, 11.2, 22.4, 35.2, 22.4, 35.2, 17.6, 11.2, 22.4, 44.8, 89.6, 140.8, 89.6, 140.8, 89.6, 140.8, 70.4, 35.2, 1.4, 2.8, 5.6, 11.2, 22.4, 35.2, 22.4, 44.8, 70.4, 35.2, 17.6, 11.2, 17.6, 11.2, 17.6, 11.2, 17.6, 11.2, 22.4, 35.2, 22.4, 44.8, 89.6, 179.2, 281.6, 179.2, 358.4, 716.8, 1433.6, 2867.2, 1.4, 2.2, 1.1, 0.7, 1.4, 2.8, 5.6, 8.8, 5.6, 11.2, 22.4, 35.2, 22.4, 44.8, 89.6, 179.2, 358.4, 716.8, 1433.6, 2252.8, 1126.4, 716.8, 1126.4, 716.8, 1433.6, 2252.8, 1126.4, 716.8, 1433.6, 2867.2, 1.4, 2.8, 5.6, 8.8, 5.6, 8.8, 4.4, 2.2, 1.4, 2.8, 5.6, 11.2, 17.6, 11.2, 17.6, 8.8, 4.4, 2.8, 5.6, 11.2, 17.6, 11.2, 17.6, 8.8, 5.6, 8.8, 4.4, 2.2, 1.1, 0.7, 1.4, 2.8, 5.6, 8.8, 5.6, 11.2, 17.6, 11.2, 22.4, 35.2, 22.4, 44.8, 89.6, 179.2, 358.4, 716.8, 1126.4, 563.2, 358.4, 716.8, 1433.6, 2867.2, 4505.6, 2252.8, 1433.6, 2867.2, 5734.4, 9011.2, 4505.6, 2252.8, 1.4, 2.2, 1.1, 0.7, 1.1, 0.7, 1.1, 0.55, 0.275, 0.1375, 0.06875, 0.034375, 0.0171875, 0.0109375, 0.0171875, 0.0109375, 0.0171875, 0.00859375, 0.004296875, 0.002734375, 0.00546875, 0.0109375, 0.021875, 0.04375, 0.0875, 0.175, 0.275, 0.1375, 0.0875, 0.175, 1.4, 2.2, 1.4, 2.8, 5.6, 11.2, 22.4, 44.8, 70.4, 44.8, 89.6, 179.2, 358.4, 563.2, 358.4, 716.8, 1433.6, 2252.8, 1433.6, 2252.8, 1433.6, 2867.2, 4505.6, 2867.2, 4505.6, 2867.2, 4505.6, 2252.8, 1126.4, 716.8, 1.1, 0.7, 1.1, 0.55, 0.35, 0.7, 1.4, 2.8, 5.6, 8.8, 4.4, 2.8, 5.6, 8.8, 4.4, 2.8, 4.4, 2.2, 1.4, 2.2, 1.4, 2.8, 5.6, 11.2, 17.6, 8.8, 5.6, 8.8, 5.6, 11.2, 1.1, 0.7, 1.1, 0.7, 1.4, 2.2, 1.4, 2.2, 1.4, 2.8, 5.6, 11.2, 22.4, 35.2, 22.4, 44.8, 70.4, 44.8, 89.6, 179.2, 358.4, 716.8, 1126.4, 716.8, 1433.6, 2252.8, 1433.6, 2252.8, 1433.6, 2867.2, 1.1, 0.7, 1.4, 2.2, 1.4, 2.2, 1.1, 0.55, 0.275, 0.175, 0.35, 0.55, 0.35, 0.7, 1.1, 0.55, 0.275, 0.175, 0.35, 0.7, 1.4, 2.8, 5.6, 11.2, 22.4, 44.8, 89.6, 179.2, 358.4, 563.2, 1.4, 2.8, 4.4, 2.2, 1.4, 2.2, 1.1, 0.7, 1.4, 2.2, 1.4, 2.8, 4.4, 2.8, 4.4, 2.2, 1.4, 2.8, 4.4, 2.2, 1.1, 0.55, 0.35, 0.7, 1.4, 2.8, 5.6, 8.8, 5.6, 11.2, 1.4, 2.2, 1.1, 0.55, 0.35, 0.7, 1.1, 0.7, 1.4, 2.2, 1.4, 2.8, 4.4, 2.8, 4.4, 2.8, 4.4, 2.2, 1.4, 2.2, 1.4, 2.2, 1.4, 2.2, 1.4, 2.2, 1.4, 2.8, 4.4, 2.8, 1.4, 2.8, 4.4, 2.2, 1.1, 0.7, 1.4, 2.8, 5.6, 11.2, 22.4, 44.8, 70.4, 35.2, 22.4, 44.8, 89.6, 140.8, 89.6, 140.8, 70.4, 35.2, 17.6, 8.8, 5.6, 11.2, 17.6, 11.2, 22.4, 35.2, 1.4, 2.2, 1.1, 0.55, 0.35, 0.7, 1.4, 2.2, 1.1, 0.7, 1.4, 2.8, 5.6, 11.2, 17.6, 11.2, 22.4, 35.2, 17.6, 8.8, 5.6, 11.2, 22.4, 35.2, 22.4, 35.2, 22.4, 44.8, 70.4, 35.2, 1.4, 2.2, 1.1, 0.55, 0.35, 0.7, 1.1, 0.7, 1.4, 2.2, 1.1, 0.55, 0.35, 0.55, 0.35, 0.55, 0.35, 0.7, 1.4, 2.8, 4.4, 2.8, 5.6, 8.8, 5.6, 8.8, 4.4, 2.8, 5.6, 8.8, 1.1, 0.55, 0.35, 0.7, 1.1, 0.7, 1.1, 0.55, 0.35, 0.55, 0.35, 0.7, 1.1, 0.55, 0.275, 0.175, 0.35, 0.7, 1.1, 0.55, 0.275, 0.175, 0.275, 0.175, 0.275, 0.1375, 0.06875, 0.04375, 0.06875, 0.034375, 1.4, 2.8, 4.4, 2.8, 4.4, 2.2, 1.1, 0.7, 1.4, 2.2, 1.4, 2.8, 5.6, 11.2, 17.6, 8.8, 4.4, 2.8, 5.6, 8.8, 5.6, 8.8, 4.4, 2.8, 4.4, 2.2, 1.4, 2.2, 1.4, 2.2, 1.4, 2.8, 4.4, 2.2, 1.1, 0.7, 1.1, 0.7, 1.4, 2.8, 4.4, 2.8, 4.4, 2.8, 4.4, 2.8, 5.6, 8.8, 4.4, 2.2, 1.1, 0.55, 0.35, 0.7, 1.1, 0.55, 0.275, 0.175, 0.275, 0.175, 1.1, 0.55, 0.275, 0.1375, 0.0875, 0.1375, 0.0875, 0.175, 0.275, 0.175, 0.35, 0.7, 1.1, 0.7, 1.1, 0.7, 1.4, 2.2, 1.4, 2.2, 1.1, 0.7, 1.4, 2.8, 4.4, 2.8, 4.4, 2.2, 1.1, 0.55, 1.4, 2.2, 1.4, 2.8, 4.4, 2.2, 1.4, 2.8, 5.6, 11.2, 22.4, 44.8, 89.6, 179.2, 281.6, 179.2, 281.6, 179.2, 358.4, 563.2, 358.4, 563.2, 358.4, 716.8, 1433.6, 2252.8, 1126.4, 563.2, 281.6, 179.2, 1.4, 2.2, 1.1, 0.55, 0.275, 0.175, 0.35, 0.7, 1.4, 2.2, 1.4, 2.8, 4.4, 2.8, 5.6, 11.2, 22.4, 44.8, 70.4, 44.8, 89.6, 179.2, 358.4, 563.2, 281.6, 179.2, 358.4, 563.2, 358.4, 716.8, 1.1, 0.55, 0.275, 0.175, 0.35, 0.7, 1.1, 0.7, 1.4, 2.8, 5.6, 8.8, 5.6, 8.8, 5.6, 8.8, 5.6, 11.2, 22.4, 35.2, 22.4, 44.8, 89.6, 140.8, 70.4, 44.8, 70.4, 44.8, 89.6, 179.2, 1.4, 2.8, 5.6, 8.8, 4.4, 2.8, 5.6, 8.8, 4.4, 2.8, 5.6, 11.2, 17.6, 8.8, 4.4, 2.8, 4.4, 2.2, 1.1, 0.55, 0.275, 0.175, 0.35, 0.55, 0.275, 0.175, 0.35, 0.55, 0.275, 0.175, 1.1, 0.7, 1.4, 2.8, 5.6, 11.2, 17.6, 11.2, 22.4, 44.8, 89.6, 179.2, 358.4, 716.8, 1433.6, 2252.8, 1433.6, 2252.8, 1433.6, 2867.2, 5734.4, 9011.2, 5734.4, 11468.8, 18022.4, 11468.8, 22937.6, 45875.2, 91750.4, 144179.2, 1.4, 2.8, 5.6, 11.2, 22.4, 44.8, 70.4, 35.2, 22.4, 44.8, 89.6, 140.8, 89.6, 179.2, 358.4, 716.8, 1433.6, 2867.2, 4505.6, 2252.8, 1433.6, 2867.2, 5734.4, 11468.8, 22937.6, 45875.2, 72089.6, 36044.8, 18022.4, 11468.8, 1.4, 2.2, 1.4, 2.2, 1.1, 0.7, 1.4, 2.8, 5.6, 8.8, 4.4, 2.2, 1.4, 2.2, 1.4, 2.8, 5.6, 8.8, 4.4, 2.8, 5.6, 11.2, 22.4, 44.8, 70.4, 44.8, 89.6, 179.2, 358.4, 716.8, 1.4, 2.8, 4.4, 2.2, 1.1, 0.7, 1.1, 0.55, 0.35, 0.55, 0.35, 0.7, 1.1, 0.7, 1.4, 2.8, 5.6, 11.2, 22.4, 44.8, 70.4, 44.8, 89.6, 140.8, 89.6, 179.2, 358.4, 716.8, 1126.4, 716.8]\n",
            "853.5286692708333\n"
          ]
        }
      ]
    },
    {
      "cell_type": "markdown",
      "source": [
        "# **Pregunta 6**"
      ],
      "metadata": {
        "id": "01kYd_fSrdTV"
      }
    },
    {
      "cell_type": "code",
      "source": [
        "def dias_hasta_5(corriendo, valor, contador_alzas, contador_dias):\n",
        "    while corriendo == True:\n",
        "        if random.randint(1,2) == 1:\n",
        "            valor = valor*2\n",
        "            contador_alzas += 1  \n",
        "            contador_dias += 1  \n",
        "            if contador_alzas == 5:\n",
        "                corriendo = False     \n",
        "        else:\n",
        "            valor = valor/2\n",
        "            contador_alzas = 0\n",
        "            contador_dias += 1 \n",
        "    return contador_dias \n",
        "\n",
        "\n",
        "valor = 1\n",
        "contador_alzas = 0 \n",
        "contador_dias = 0\n",
        "corriendo = True\n",
        "promedio_dias = 0\n",
        "\n",
        "n_iteraciones = 100000\n",
        "dos_semanas = 0\n",
        "for a in range(n_iteraciones):\n",
        "    dias = dias_hasta_5(corriendo, valor, contador_alzas, contador_dias)\n",
        "    if dias <= 14:\n",
        "      dos_semanas += 1\n",
        "\n",
        "promedio_dias = promedio_dias/n_iteraciones\n",
        "print(\"La probabilidad de que se registre una racha de 5 consecutivas en las primeras 2 semanas es de: \", dos_semanas/n_iteraciones)"
      ],
      "metadata": {
        "colab": {
          "base_uri": "https://localhost:8080/"
        },
        "id": "yagVoxEzAaCm",
        "outputId": "aea8a46d-d2db-46ee-ca28-5aef8677241f"
      },
      "execution_count": null,
      "outputs": [
        {
          "output_type": "stream",
          "name": "stdout",
          "text": [
            "La probabilidad de que se registre una racha de 5 consecutivas en las primeras 2 semanas es de:  0.16793\n"
          ]
        }
      ]
    },
    {
      "cell_type": "markdown",
      "source": [
        "# **Pregunta 7**"
      ],
      "metadata": {
        "id": "TpWeJdre5WNr"
      }
    },
    {
      "cell_type": "code",
      "source": [
        "def dias_hasta_5(corriendo, valor, contador_alzas, contador_dias):\n",
        "    while corriendo == True:\n",
        "        if random.randint(1,2) == 1:\n",
        "            valor = valor*2\n",
        "            contador_alzas += 1  \n",
        "            contador_dias += 1  \n",
        "            if contador_alzas == 5:\n",
        "                corriendo = False     \n",
        "        else:\n",
        "            valor = valor/2\n",
        "            contador_alzas = 0\n",
        "            contador_dias += 1 \n",
        "    return contador_dias \n",
        "\n",
        "\n",
        "valor = 1\n",
        "contador_alzas = 0 \n",
        "contador_dias = 0\n",
        "corriendo = True\n",
        "promedio_dias = 0\n",
        "\n",
        "n_iteraciones = 100000\n",
        "\n",
        "for a in range(n_iteraciones):\n",
        "    promedio_dias += dias_hasta_5(corriendo, valor, contador_alzas, contador_dias)\n",
        "promedio_dias = promedio_dias/n_iteraciones\n",
        "print('el promedio de días que demoró en obtener 5 rachas seguidas en', n_iteraciones, 'iteraciones fue:')\n",
        "print(promedio_dias)\n"
      ],
      "metadata": {
        "colab": {
          "base_uri": "https://localhost:8080/"
        },
        "id": "G5qLn_fg5YSc",
        "outputId": "4fcc69a4-7f56-4415-c8fa-51d43e96878e"
      },
      "execution_count": null,
      "outputs": [
        {
          "output_type": "stream",
          "name": "stdout",
          "text": [
            "el promedio de días que demoró en obtener 5 rachas seguidas en 100000 iteraciones fue:\n",
            "62.27014\n"
          ]
        }
      ]
    }
  ]
}